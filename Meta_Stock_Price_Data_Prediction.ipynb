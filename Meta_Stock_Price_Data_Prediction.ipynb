{
  "nbformat": 4,
  "nbformat_minor": 0,
  "metadata": {
    "colab": {
      "provenance": [],
      "authorship_tag": "ABX9TyNHtsiLOrzW5ks8kehUwG7p",
      "include_colab_link": true
    },
    "kernelspec": {
      "name": "python3",
      "display_name": "Python 3"
    },
    "language_info": {
      "name": "python"
    }
  },
  "cells": [
    {
      "cell_type": "markdown",
      "metadata": {
        "id": "view-in-github",
        "colab_type": "text"
      },
      "source": [
        "<a href=\"https://colab.research.google.com/github/ai-ivision/Meta-Stock-Price-Data-Prediction/blob/main/Meta_Stock_Price_Data_Prediction.ipynb\" target=\"_parent\"><img src=\"https://colab.research.google.com/assets/colab-badge.svg\" alt=\"Open In Colab\"/></a>"
      ]
    },
    {
      "cell_type": "markdown",
      "source": [
        "# **Meta Stock Price Data Prediction**\n",
        "\n",
        "\n",
        "### Meta Platforms Stock Prices (Oct 28, 2021 - May 7, 2024)\n",
        "This dataset contains daily stock price data for Meta Platforms (formerly Facebook) from October 28, 2021, to May 7, 2024. The data was collected from Yahoo Finance\n",
        "\n",
        "### Columns:\n",
        "- Date: Date (DD/MM/YYYY)\n",
        "- Open: The opening price of the stock on that day\n",
        "- High: The highest price of the stock on that day\n",
        "- Low: The lowest price of the stock on that day\n",
        "- Close: The closing price of the stock on that day\n",
        "- Adj Close: Adjusted closing price of the stock on that day (adjusted for stock splits)\n",
        "- Volume: Number of shares traded on that day\n",
        "\n",
        "\n",
        "### Acknowledgements\n",
        "\n",
        "We would like to extend our deepest gratitude to all the contributors and curators of the dataset that made this project possible. The availability of high-quality datasets is crucial for the development and benchmarking of machine learning models, and your hard work is greatly appreciated.\n",
        "\n",
        "### Source\n",
        "\n",
        "This dataset was sourced from [Kaggle](https://www.kaggle.com). We acknowledge and thank the original authors for making this dataset publicly available. The dataset can be accessed at the following link:\n",
        "\n",
        "[Kaggle Dataset Link](https://www.kaggle.com/datasets/saadatkhalid/meta-platforms-stock-price-data/data)"
      ],
      "metadata": {
        "id": "iIHgHaptHHFm"
      }
    },
    {
      "cell_type": "markdown",
      "source": [
        "### Ignore Warnings"
      ],
      "metadata": {
        "id": "ACIO02vzH8n7"
      }
    },
    {
      "cell_type": "code",
      "execution_count": 35,
      "metadata": {
        "id": "gwYJ8WY2G5aj"
      },
      "outputs": [],
      "source": [
        "import warnings\n",
        "\n",
        "warnings.filterwarnings('ignore')"
      ]
    },
    {
      "cell_type": "markdown",
      "source": [
        "### Downloading Dataset Directly From Kaggle"
      ],
      "metadata": {
        "id": "PNEvf5zZJgiS"
      }
    },
    {
      "cell_type": "code",
      "source": [
        "!pip install kaggle"
      ],
      "metadata": {
        "colab": {
          "base_uri": "https://localhost:8080/"
        },
        "id": "ZPxBdlKTJnsx",
        "outputId": "fccfd55f-c05a-48e1-f4a8-9f7c29a5f01c"
      },
      "execution_count": 36,
      "outputs": [
        {
          "output_type": "stream",
          "name": "stdout",
          "text": [
            "Requirement already satisfied: kaggle in /usr/local/lib/python3.10/dist-packages (1.6.14)\n",
            "Requirement already satisfied: six>=1.10 in /usr/local/lib/python3.10/dist-packages (from kaggle) (1.16.0)\n",
            "Requirement already satisfied: certifi>=2023.7.22 in /usr/local/lib/python3.10/dist-packages (from kaggle) (2024.2.2)\n",
            "Requirement already satisfied: python-dateutil in /usr/local/lib/python3.10/dist-packages (from kaggle) (2.8.2)\n",
            "Requirement already satisfied: requests in /usr/local/lib/python3.10/dist-packages (from kaggle) (2.31.0)\n",
            "Requirement already satisfied: tqdm in /usr/local/lib/python3.10/dist-packages (from kaggle) (4.66.4)\n",
            "Requirement already satisfied: python-slugify in /usr/local/lib/python3.10/dist-packages (from kaggle) (8.0.4)\n",
            "Requirement already satisfied: urllib3 in /usr/local/lib/python3.10/dist-packages (from kaggle) (2.0.7)\n",
            "Requirement already satisfied: bleach in /usr/local/lib/python3.10/dist-packages (from kaggle) (6.1.0)\n",
            "Requirement already satisfied: webencodings in /usr/local/lib/python3.10/dist-packages (from bleach->kaggle) (0.5.1)\n",
            "Requirement already satisfied: text-unidecode>=1.3 in /usr/local/lib/python3.10/dist-packages (from python-slugify->kaggle) (1.3)\n",
            "Requirement already satisfied: charset-normalizer<4,>=2 in /usr/local/lib/python3.10/dist-packages (from requests->kaggle) (3.3.2)\n",
            "Requirement already satisfied: idna<4,>=2.5 in /usr/local/lib/python3.10/dist-packages (from requests->kaggle) (3.7)\n"
          ]
        }
      ]
    },
    {
      "cell_type": "code",
      "source": [
        "!mkdir ~/.kaggle"
      ],
      "metadata": {
        "colab": {
          "base_uri": "https://localhost:8080/"
        },
        "id": "g-UeWdN9Jyth",
        "outputId": "ce21c545-ea03-4b9c-f868-cd4c9ce7b353"
      },
      "execution_count": 37,
      "outputs": [
        {
          "output_type": "stream",
          "name": "stdout",
          "text": [
            "mkdir: cannot create directory ‘/root/.kaggle’: File exists\n"
          ]
        }
      ]
    },
    {
      "cell_type": "code",
      "source": [
        "!cp kaggle.json ~/.kaggle"
      ],
      "metadata": {
        "id": "nFdx96kBJ5S8"
      },
      "execution_count": 38,
      "outputs": []
    },
    {
      "cell_type": "code",
      "source": [
        "!chmod 600 ~/.kaggle/kaggle.json"
      ],
      "metadata": {
        "id": "cyFlgs7XKBoo"
      },
      "execution_count": 39,
      "outputs": []
    },
    {
      "cell_type": "code",
      "source": [
        "!kaggle datasets download -d saadatkhalid/meta-platforms-stock-price-data"
      ],
      "metadata": {
        "colab": {
          "base_uri": "https://localhost:8080/"
        },
        "id": "UuvYFUsWKNQ6",
        "outputId": "1d85d365-98fd-4253-e6be-c6305fd99f96"
      },
      "execution_count": 40,
      "outputs": [
        {
          "output_type": "stream",
          "name": "stdout",
          "text": [
            "Dataset URL: https://www.kaggle.com/datasets/saadatkhalid/meta-platforms-stock-price-data\n",
            "License(s): CC0-1.0\n",
            "meta-platforms-stock-price-data.zip: Skipping, found more recently modified local copy (use --force to force download)\n"
          ]
        }
      ]
    },
    {
      "cell_type": "code",
      "source": [
        "!unzip meta-platforms-stock-price-data.zip"
      ],
      "metadata": {
        "colab": {
          "base_uri": "https://localhost:8080/"
        },
        "id": "JG-yx6ecLkL0",
        "outputId": "981e87ac-191f-49e5-e07c-4313240a52e2"
      },
      "execution_count": 41,
      "outputs": [
        {
          "output_type": "stream",
          "name": "stdout",
          "text": [
            "Archive:  meta-platforms-stock-price-data.zip\n",
            "replace META.csv? [y]es, [n]o, [A]ll, [N]one, [r]ename: "
          ]
        }
      ]
    },
    {
      "cell_type": "markdown",
      "source": [
        "### Import Libraries for Data Loading, Reading and Visualization"
      ],
      "metadata": {
        "id": "8GlN3jvHIREq"
      }
    },
    {
      "cell_type": "code",
      "source": [
        "import numpy as np\n",
        "import pandas as pd\n",
        "import seaborn as sns\n",
        "import matplotlib.pyplot as plt\n",
        "import plotly.express as px\n",
        "import plotly.graph_objs as go\n",
        "from plotly.subplots import make_subplots"
      ],
      "metadata": {
        "id": "cs4QTDXwIZmO"
      },
      "execution_count": 42,
      "outputs": []
    },
    {
      "cell_type": "markdown",
      "source": [
        "### Loading and Studying the Dataset"
      ],
      "metadata": {
        "id": "dHresyzUIyTu"
      }
    },
    {
      "cell_type": "code",
      "source": [
        "df = pd.read_csv('META.csv')"
      ],
      "metadata": {
        "id": "qX_5X2yVI2WN"
      },
      "execution_count": 43,
      "outputs": []
    },
    {
      "cell_type": "code",
      "source": [
        "df.head()"
      ],
      "metadata": {
        "colab": {
          "base_uri": "https://localhost:8080/",
          "height": 206
        },
        "id": "Fr_qgelRL2KO",
        "outputId": "e947d5da-50d4-45ec-98e0-b19dc460bc77"
      },
      "execution_count": 44,
      "outputs": [
        {
          "output_type": "execute_result",
          "data": {
            "text/plain": [
              "         Date        Open        High         Low       Close   Adj Close  \\\n",
              "0  28/10/2021  312.989990  325.519989  308.109985  316.920013  316.584106   \n",
              "1  29/10/2021  320.190002  326.000000  319.600006  323.570007  323.227051   \n",
              "2  01/11/2021  326.040009  333.450012  326.000000  329.980011  329.630280   \n",
              "3  02/11/2021  331.380005  334.790009  323.799988  328.079987  327.732269   \n",
              "4  03/11/2021  327.489990  332.149994  323.200012  331.619995  331.268524   \n",
              "\n",
              "     Volume  \n",
              "0  50806800  \n",
              "1  37059400  \n",
              "2  31518900  \n",
              "3  28353000  \n",
              "4  20786500  "
            ],
            "text/html": [
              "\n",
              "  <div id=\"df-058dce99-a08e-45c9-b8e4-80a88de683ad\" class=\"colab-df-container\">\n",
              "    <div>\n",
              "<style scoped>\n",
              "    .dataframe tbody tr th:only-of-type {\n",
              "        vertical-align: middle;\n",
              "    }\n",
              "\n",
              "    .dataframe tbody tr th {\n",
              "        vertical-align: top;\n",
              "    }\n",
              "\n",
              "    .dataframe thead th {\n",
              "        text-align: right;\n",
              "    }\n",
              "</style>\n",
              "<table border=\"1\" class=\"dataframe\">\n",
              "  <thead>\n",
              "    <tr style=\"text-align: right;\">\n",
              "      <th></th>\n",
              "      <th>Date</th>\n",
              "      <th>Open</th>\n",
              "      <th>High</th>\n",
              "      <th>Low</th>\n",
              "      <th>Close</th>\n",
              "      <th>Adj Close</th>\n",
              "      <th>Volume</th>\n",
              "    </tr>\n",
              "  </thead>\n",
              "  <tbody>\n",
              "    <tr>\n",
              "      <th>0</th>\n",
              "      <td>28/10/2021</td>\n",
              "      <td>312.989990</td>\n",
              "      <td>325.519989</td>\n",
              "      <td>308.109985</td>\n",
              "      <td>316.920013</td>\n",
              "      <td>316.584106</td>\n",
              "      <td>50806800</td>\n",
              "    </tr>\n",
              "    <tr>\n",
              "      <th>1</th>\n",
              "      <td>29/10/2021</td>\n",
              "      <td>320.190002</td>\n",
              "      <td>326.000000</td>\n",
              "      <td>319.600006</td>\n",
              "      <td>323.570007</td>\n",
              "      <td>323.227051</td>\n",
              "      <td>37059400</td>\n",
              "    </tr>\n",
              "    <tr>\n",
              "      <th>2</th>\n",
              "      <td>01/11/2021</td>\n",
              "      <td>326.040009</td>\n",
              "      <td>333.450012</td>\n",
              "      <td>326.000000</td>\n",
              "      <td>329.980011</td>\n",
              "      <td>329.630280</td>\n",
              "      <td>31518900</td>\n",
              "    </tr>\n",
              "    <tr>\n",
              "      <th>3</th>\n",
              "      <td>02/11/2021</td>\n",
              "      <td>331.380005</td>\n",
              "      <td>334.790009</td>\n",
              "      <td>323.799988</td>\n",
              "      <td>328.079987</td>\n",
              "      <td>327.732269</td>\n",
              "      <td>28353000</td>\n",
              "    </tr>\n",
              "    <tr>\n",
              "      <th>4</th>\n",
              "      <td>03/11/2021</td>\n",
              "      <td>327.489990</td>\n",
              "      <td>332.149994</td>\n",
              "      <td>323.200012</td>\n",
              "      <td>331.619995</td>\n",
              "      <td>331.268524</td>\n",
              "      <td>20786500</td>\n",
              "    </tr>\n",
              "  </tbody>\n",
              "</table>\n",
              "</div>\n",
              "    <div class=\"colab-df-buttons\">\n",
              "\n",
              "  <div class=\"colab-df-container\">\n",
              "    <button class=\"colab-df-convert\" onclick=\"convertToInteractive('df-058dce99-a08e-45c9-b8e4-80a88de683ad')\"\n",
              "            title=\"Convert this dataframe to an interactive table.\"\n",
              "            style=\"display:none;\">\n",
              "\n",
              "  <svg xmlns=\"http://www.w3.org/2000/svg\" height=\"24px\" viewBox=\"0 -960 960 960\">\n",
              "    <path d=\"M120-120v-720h720v720H120Zm60-500h600v-160H180v160Zm220 220h160v-160H400v160Zm0 220h160v-160H400v160ZM180-400h160v-160H180v160Zm440 0h160v-160H620v160ZM180-180h160v-160H180v160Zm440 0h160v-160H620v160Z\"/>\n",
              "  </svg>\n",
              "    </button>\n",
              "\n",
              "  <style>\n",
              "    .colab-df-container {\n",
              "      display:flex;\n",
              "      gap: 12px;\n",
              "    }\n",
              "\n",
              "    .colab-df-convert {\n",
              "      background-color: #E8F0FE;\n",
              "      border: none;\n",
              "      border-radius: 50%;\n",
              "      cursor: pointer;\n",
              "      display: none;\n",
              "      fill: #1967D2;\n",
              "      height: 32px;\n",
              "      padding: 0 0 0 0;\n",
              "      width: 32px;\n",
              "    }\n",
              "\n",
              "    .colab-df-convert:hover {\n",
              "      background-color: #E2EBFA;\n",
              "      box-shadow: 0px 1px 2px rgba(60, 64, 67, 0.3), 0px 1px 3px 1px rgba(60, 64, 67, 0.15);\n",
              "      fill: #174EA6;\n",
              "    }\n",
              "\n",
              "    .colab-df-buttons div {\n",
              "      margin-bottom: 4px;\n",
              "    }\n",
              "\n",
              "    [theme=dark] .colab-df-convert {\n",
              "      background-color: #3B4455;\n",
              "      fill: #D2E3FC;\n",
              "    }\n",
              "\n",
              "    [theme=dark] .colab-df-convert:hover {\n",
              "      background-color: #434B5C;\n",
              "      box-shadow: 0px 1px 3px 1px rgba(0, 0, 0, 0.15);\n",
              "      filter: drop-shadow(0px 1px 2px rgba(0, 0, 0, 0.3));\n",
              "      fill: #FFFFFF;\n",
              "    }\n",
              "  </style>\n",
              "\n",
              "    <script>\n",
              "      const buttonEl =\n",
              "        document.querySelector('#df-058dce99-a08e-45c9-b8e4-80a88de683ad button.colab-df-convert');\n",
              "      buttonEl.style.display =\n",
              "        google.colab.kernel.accessAllowed ? 'block' : 'none';\n",
              "\n",
              "      async function convertToInteractive(key) {\n",
              "        const element = document.querySelector('#df-058dce99-a08e-45c9-b8e4-80a88de683ad');\n",
              "        const dataTable =\n",
              "          await google.colab.kernel.invokeFunction('convertToInteractive',\n",
              "                                                    [key], {});\n",
              "        if (!dataTable) return;\n",
              "\n",
              "        const docLinkHtml = 'Like what you see? Visit the ' +\n",
              "          '<a target=\"_blank\" href=https://colab.research.google.com/notebooks/data_table.ipynb>data table notebook</a>'\n",
              "          + ' to learn more about interactive tables.';\n",
              "        element.innerHTML = '';\n",
              "        dataTable['output_type'] = 'display_data';\n",
              "        await google.colab.output.renderOutput(dataTable, element);\n",
              "        const docLink = document.createElement('div');\n",
              "        docLink.innerHTML = docLinkHtml;\n",
              "        element.appendChild(docLink);\n",
              "      }\n",
              "    </script>\n",
              "  </div>\n",
              "\n",
              "\n",
              "<div id=\"df-fc0e3f61-56dd-4aee-be37-3bf27dc746bf\">\n",
              "  <button class=\"colab-df-quickchart\" onclick=\"quickchart('df-fc0e3f61-56dd-4aee-be37-3bf27dc746bf')\"\n",
              "            title=\"Suggest charts\"\n",
              "            style=\"display:none;\">\n",
              "\n",
              "<svg xmlns=\"http://www.w3.org/2000/svg\" height=\"24px\"viewBox=\"0 0 24 24\"\n",
              "     width=\"24px\">\n",
              "    <g>\n",
              "        <path d=\"M19 3H5c-1.1 0-2 .9-2 2v14c0 1.1.9 2 2 2h14c1.1 0 2-.9 2-2V5c0-1.1-.9-2-2-2zM9 17H7v-7h2v7zm4 0h-2V7h2v10zm4 0h-2v-4h2v4z\"/>\n",
              "    </g>\n",
              "</svg>\n",
              "  </button>\n",
              "\n",
              "<style>\n",
              "  .colab-df-quickchart {\n",
              "      --bg-color: #E8F0FE;\n",
              "      --fill-color: #1967D2;\n",
              "      --hover-bg-color: #E2EBFA;\n",
              "      --hover-fill-color: #174EA6;\n",
              "      --disabled-fill-color: #AAA;\n",
              "      --disabled-bg-color: #DDD;\n",
              "  }\n",
              "\n",
              "  [theme=dark] .colab-df-quickchart {\n",
              "      --bg-color: #3B4455;\n",
              "      --fill-color: #D2E3FC;\n",
              "      --hover-bg-color: #434B5C;\n",
              "      --hover-fill-color: #FFFFFF;\n",
              "      --disabled-bg-color: #3B4455;\n",
              "      --disabled-fill-color: #666;\n",
              "  }\n",
              "\n",
              "  .colab-df-quickchart {\n",
              "    background-color: var(--bg-color);\n",
              "    border: none;\n",
              "    border-radius: 50%;\n",
              "    cursor: pointer;\n",
              "    display: none;\n",
              "    fill: var(--fill-color);\n",
              "    height: 32px;\n",
              "    padding: 0;\n",
              "    width: 32px;\n",
              "  }\n",
              "\n",
              "  .colab-df-quickchart:hover {\n",
              "    background-color: var(--hover-bg-color);\n",
              "    box-shadow: 0 1px 2px rgba(60, 64, 67, 0.3), 0 1px 3px 1px rgba(60, 64, 67, 0.15);\n",
              "    fill: var(--button-hover-fill-color);\n",
              "  }\n",
              "\n",
              "  .colab-df-quickchart-complete:disabled,\n",
              "  .colab-df-quickchart-complete:disabled:hover {\n",
              "    background-color: var(--disabled-bg-color);\n",
              "    fill: var(--disabled-fill-color);\n",
              "    box-shadow: none;\n",
              "  }\n",
              "\n",
              "  .colab-df-spinner {\n",
              "    border: 2px solid var(--fill-color);\n",
              "    border-color: transparent;\n",
              "    border-bottom-color: var(--fill-color);\n",
              "    animation:\n",
              "      spin 1s steps(1) infinite;\n",
              "  }\n",
              "\n",
              "  @keyframes spin {\n",
              "    0% {\n",
              "      border-color: transparent;\n",
              "      border-bottom-color: var(--fill-color);\n",
              "      border-left-color: var(--fill-color);\n",
              "    }\n",
              "    20% {\n",
              "      border-color: transparent;\n",
              "      border-left-color: var(--fill-color);\n",
              "      border-top-color: var(--fill-color);\n",
              "    }\n",
              "    30% {\n",
              "      border-color: transparent;\n",
              "      border-left-color: var(--fill-color);\n",
              "      border-top-color: var(--fill-color);\n",
              "      border-right-color: var(--fill-color);\n",
              "    }\n",
              "    40% {\n",
              "      border-color: transparent;\n",
              "      border-right-color: var(--fill-color);\n",
              "      border-top-color: var(--fill-color);\n",
              "    }\n",
              "    60% {\n",
              "      border-color: transparent;\n",
              "      border-right-color: var(--fill-color);\n",
              "    }\n",
              "    80% {\n",
              "      border-color: transparent;\n",
              "      border-right-color: var(--fill-color);\n",
              "      border-bottom-color: var(--fill-color);\n",
              "    }\n",
              "    90% {\n",
              "      border-color: transparent;\n",
              "      border-bottom-color: var(--fill-color);\n",
              "    }\n",
              "  }\n",
              "</style>\n",
              "\n",
              "  <script>\n",
              "    async function quickchart(key) {\n",
              "      const quickchartButtonEl =\n",
              "        document.querySelector('#' + key + ' button');\n",
              "      quickchartButtonEl.disabled = true;  // To prevent multiple clicks.\n",
              "      quickchartButtonEl.classList.add('colab-df-spinner');\n",
              "      try {\n",
              "        const charts = await google.colab.kernel.invokeFunction(\n",
              "            'suggestCharts', [key], {});\n",
              "      } catch (error) {\n",
              "        console.error('Error during call to suggestCharts:', error);\n",
              "      }\n",
              "      quickchartButtonEl.classList.remove('colab-df-spinner');\n",
              "      quickchartButtonEl.classList.add('colab-df-quickchart-complete');\n",
              "    }\n",
              "    (() => {\n",
              "      let quickchartButtonEl =\n",
              "        document.querySelector('#df-fc0e3f61-56dd-4aee-be37-3bf27dc746bf button');\n",
              "      quickchartButtonEl.style.display =\n",
              "        google.colab.kernel.accessAllowed ? 'block' : 'none';\n",
              "    })();\n",
              "  </script>\n",
              "</div>\n",
              "\n",
              "    </div>\n",
              "  </div>\n"
            ],
            "application/vnd.google.colaboratory.intrinsic+json": {
              "type": "dataframe",
              "variable_name": "df",
              "summary": "{\n  \"name\": \"df\",\n  \"rows\": 633,\n  \"fields\": [\n    {\n      \"column\": \"Date\",\n      \"properties\": {\n        \"dtype\": \"object\",\n        \"num_unique_values\": 633,\n        \"samples\": [\n          \"21/02/2023\",\n          \"21/10/2022\",\n          \"18/05/2023\"\n        ],\n        \"semantic_type\": \"\",\n        \"description\": \"\"\n      }\n    },\n    {\n      \"column\": \"Open\",\n      \"properties\": {\n        \"dtype\": \"number\",\n        \"std\": 107.44137122861736,\n        \"min\": 90.080002,\n        \"max\": 529.280029,\n        \"num_unique_values\": 631,\n        \"samples\": [\n          319.420013,\n          109.540001,\n          153.330002\n        ],\n        \"semantic_type\": \"\",\n        \"description\": \"\"\n      }\n    },\n    {\n      \"column\": \"High\",\n      \"properties\": {\n        \"dtype\": \"number\",\n        \"std\": 108.40668779312097,\n        \"min\": 90.459999,\n        \"max\": 531.48999,\n        \"num_unique_values\": 620,\n        \"samples\": [\n          337.0,\n          501.350006,\n          211.320007\n        ],\n        \"semantic_type\": \"\",\n        \"description\": \"\"\n      }\n    },\n    {\n      \"column\": \"Low\",\n      \"properties\": {\n        \"dtype\": \"number\",\n        \"std\": 106.23657905543357,\n        \"min\": 88.089996,\n        \"max\": 518.890015,\n        \"num_unique_values\": 627,\n        \"samples\": [\n          482.609985,\n          488.160004,\n          358.609985\n        ],\n        \"semantic_type\": \"\",\n        \"description\": \"\"\n      }\n    },\n    {\n      \"column\": \"Close\",\n      \"properties\": {\n        \"dtype\": \"number\",\n        \"std\": 107.35645145394369,\n        \"min\": 88.910004,\n        \"max\": 527.340027,\n        \"num_unique_values\": 627,\n        \"samples\": [\n          490.130005,\n          491.829987,\n          367.459991\n        ],\n        \"semantic_type\": \"\",\n        \"description\": \"\"\n      }\n    },\n    {\n      \"column\": \"Adj Close\",\n      \"properties\": {\n        \"dtype\": \"number\",\n        \"std\": 107.33577074521446,\n        \"min\": 88.815765,\n        \"max\": 527.340027,\n        \"num_unique_values\": 628,\n        \"samples\": [\n          490.130005,\n          491.829987,\n          367.070526\n        ],\n        \"semantic_type\": \"\",\n        \"description\": \"\"\n      }\n    },\n    {\n      \"column\": \"Volume\",\n      \"properties\": {\n        \"dtype\": \"number\",\n        \"std\": 19004353,\n        \"min\": 5467500,\n        \"max\": 232316600,\n        \"num_unique_values\": 633,\n        \"samples\": [\n          34592600,\n          46348600,\n          22943300\n        ],\n        \"semantic_type\": \"\",\n        \"description\": \"\"\n      }\n    }\n  ]\n}"
            }
          },
          "metadata": {},
          "execution_count": 44
        }
      ]
    },
    {
      "cell_type": "code",
      "source": [
        "df.shape"
      ],
      "metadata": {
        "colab": {
          "base_uri": "https://localhost:8080/"
        },
        "id": "eKi44nLeL-U_",
        "outputId": "3715f2e8-d756-4421-a1ab-8a2559dfc013"
      },
      "execution_count": 45,
      "outputs": [
        {
          "output_type": "execute_result",
          "data": {
            "text/plain": [
              "(633, 7)"
            ]
          },
          "metadata": {},
          "execution_count": 45
        }
      ]
    },
    {
      "cell_type": "code",
      "source": [
        "df.info()"
      ],
      "metadata": {
        "colab": {
          "base_uri": "https://localhost:8080/"
        },
        "id": "8V322OfKL-OI",
        "outputId": "844d1933-01ff-4dd9-f61f-8521fc242931"
      },
      "execution_count": 46,
      "outputs": [
        {
          "output_type": "stream",
          "name": "stdout",
          "text": [
            "<class 'pandas.core.frame.DataFrame'>\n",
            "RangeIndex: 633 entries, 0 to 632\n",
            "Data columns (total 7 columns):\n",
            " #   Column     Non-Null Count  Dtype  \n",
            "---  ------     --------------  -----  \n",
            " 0   Date       633 non-null    object \n",
            " 1   Open       633 non-null    float64\n",
            " 2   High       633 non-null    float64\n",
            " 3   Low        633 non-null    float64\n",
            " 4   Close      633 non-null    float64\n",
            " 5   Adj Close  633 non-null    float64\n",
            " 6   Volume     633 non-null    int64  \n",
            "dtypes: float64(5), int64(1), object(1)\n",
            "memory usage: 34.7+ KB\n"
          ]
        }
      ]
    },
    {
      "cell_type": "code",
      "source": [
        "df.describe().T"
      ],
      "metadata": {
        "colab": {
          "base_uri": "https://localhost:8080/",
          "height": 237
        },
        "id": "fXWubLQ9QS2F",
        "outputId": "ac39ce79-8f6b-4478-cdab-6b23c6e9ba3f"
      },
      "execution_count": 47,
      "outputs": [
        {
          "output_type": "execute_result",
          "data": {
            "text/plain": [
              "           count          mean           std           min           25%  \\\n",
              "Open       633.0  2.610611e+02  1.074414e+02  9.008000e+01  1.727500e+02   \n",
              "High       633.0  2.652208e+02  1.084067e+02  9.046000e+01  1.764900e+02   \n",
              "Low        633.0  2.573880e+02  1.062366e+02  8.809000e+01  1.714300e+02   \n",
              "Close      633.0  2.612939e+02  1.073565e+02  8.891000e+01  1.734200e+02   \n",
              "Adj Close  633.0  2.610604e+02  1.073358e+02  8.881576e+01  1.732362e+02   \n",
              "Volume     633.0  2.771392e+07  1.900435e+07  5.467500e+06  1.772430e+07   \n",
              "\n",
              "                    50%           75%           max  \n",
              "Open       2.384500e+02  3.262000e+02  5.292800e+02  \n",
              "High       2.416900e+02  3.323300e+02  5.314900e+02  \n",
              "Low        2.355200e+02  3.227200e+02  5.188900e+02  \n",
              "Close      2.385600e+02  3.276400e+02  5.273400e+02  \n",
              "Adj Close  2.383071e+02  3.272928e+02  5.273400e+02  \n",
              "Volume     2.306600e+07  3.142390e+07  2.323166e+08  "
            ],
            "text/html": [
              "\n",
              "  <div id=\"df-46e0b6a7-9b9b-4ef0-9688-fd49a990c253\" class=\"colab-df-container\">\n",
              "    <div>\n",
              "<style scoped>\n",
              "    .dataframe tbody tr th:only-of-type {\n",
              "        vertical-align: middle;\n",
              "    }\n",
              "\n",
              "    .dataframe tbody tr th {\n",
              "        vertical-align: top;\n",
              "    }\n",
              "\n",
              "    .dataframe thead th {\n",
              "        text-align: right;\n",
              "    }\n",
              "</style>\n",
              "<table border=\"1\" class=\"dataframe\">\n",
              "  <thead>\n",
              "    <tr style=\"text-align: right;\">\n",
              "      <th></th>\n",
              "      <th>count</th>\n",
              "      <th>mean</th>\n",
              "      <th>std</th>\n",
              "      <th>min</th>\n",
              "      <th>25%</th>\n",
              "      <th>50%</th>\n",
              "      <th>75%</th>\n",
              "      <th>max</th>\n",
              "    </tr>\n",
              "  </thead>\n",
              "  <tbody>\n",
              "    <tr>\n",
              "      <th>Open</th>\n",
              "      <td>633.0</td>\n",
              "      <td>2.610611e+02</td>\n",
              "      <td>1.074414e+02</td>\n",
              "      <td>9.008000e+01</td>\n",
              "      <td>1.727500e+02</td>\n",
              "      <td>2.384500e+02</td>\n",
              "      <td>3.262000e+02</td>\n",
              "      <td>5.292800e+02</td>\n",
              "    </tr>\n",
              "    <tr>\n",
              "      <th>High</th>\n",
              "      <td>633.0</td>\n",
              "      <td>2.652208e+02</td>\n",
              "      <td>1.084067e+02</td>\n",
              "      <td>9.046000e+01</td>\n",
              "      <td>1.764900e+02</td>\n",
              "      <td>2.416900e+02</td>\n",
              "      <td>3.323300e+02</td>\n",
              "      <td>5.314900e+02</td>\n",
              "    </tr>\n",
              "    <tr>\n",
              "      <th>Low</th>\n",
              "      <td>633.0</td>\n",
              "      <td>2.573880e+02</td>\n",
              "      <td>1.062366e+02</td>\n",
              "      <td>8.809000e+01</td>\n",
              "      <td>1.714300e+02</td>\n",
              "      <td>2.355200e+02</td>\n",
              "      <td>3.227200e+02</td>\n",
              "      <td>5.188900e+02</td>\n",
              "    </tr>\n",
              "    <tr>\n",
              "      <th>Close</th>\n",
              "      <td>633.0</td>\n",
              "      <td>2.612939e+02</td>\n",
              "      <td>1.073565e+02</td>\n",
              "      <td>8.891000e+01</td>\n",
              "      <td>1.734200e+02</td>\n",
              "      <td>2.385600e+02</td>\n",
              "      <td>3.276400e+02</td>\n",
              "      <td>5.273400e+02</td>\n",
              "    </tr>\n",
              "    <tr>\n",
              "      <th>Adj Close</th>\n",
              "      <td>633.0</td>\n",
              "      <td>2.610604e+02</td>\n",
              "      <td>1.073358e+02</td>\n",
              "      <td>8.881576e+01</td>\n",
              "      <td>1.732362e+02</td>\n",
              "      <td>2.383071e+02</td>\n",
              "      <td>3.272928e+02</td>\n",
              "      <td>5.273400e+02</td>\n",
              "    </tr>\n",
              "    <tr>\n",
              "      <th>Volume</th>\n",
              "      <td>633.0</td>\n",
              "      <td>2.771392e+07</td>\n",
              "      <td>1.900435e+07</td>\n",
              "      <td>5.467500e+06</td>\n",
              "      <td>1.772430e+07</td>\n",
              "      <td>2.306600e+07</td>\n",
              "      <td>3.142390e+07</td>\n",
              "      <td>2.323166e+08</td>\n",
              "    </tr>\n",
              "  </tbody>\n",
              "</table>\n",
              "</div>\n",
              "    <div class=\"colab-df-buttons\">\n",
              "\n",
              "  <div class=\"colab-df-container\">\n",
              "    <button class=\"colab-df-convert\" onclick=\"convertToInteractive('df-46e0b6a7-9b9b-4ef0-9688-fd49a990c253')\"\n",
              "            title=\"Convert this dataframe to an interactive table.\"\n",
              "            style=\"display:none;\">\n",
              "\n",
              "  <svg xmlns=\"http://www.w3.org/2000/svg\" height=\"24px\" viewBox=\"0 -960 960 960\">\n",
              "    <path d=\"M120-120v-720h720v720H120Zm60-500h600v-160H180v160Zm220 220h160v-160H400v160Zm0 220h160v-160H400v160ZM180-400h160v-160H180v160Zm440 0h160v-160H620v160ZM180-180h160v-160H180v160Zm440 0h160v-160H620v160Z\"/>\n",
              "  </svg>\n",
              "    </button>\n",
              "\n",
              "  <style>\n",
              "    .colab-df-container {\n",
              "      display:flex;\n",
              "      gap: 12px;\n",
              "    }\n",
              "\n",
              "    .colab-df-convert {\n",
              "      background-color: #E8F0FE;\n",
              "      border: none;\n",
              "      border-radius: 50%;\n",
              "      cursor: pointer;\n",
              "      display: none;\n",
              "      fill: #1967D2;\n",
              "      height: 32px;\n",
              "      padding: 0 0 0 0;\n",
              "      width: 32px;\n",
              "    }\n",
              "\n",
              "    .colab-df-convert:hover {\n",
              "      background-color: #E2EBFA;\n",
              "      box-shadow: 0px 1px 2px rgba(60, 64, 67, 0.3), 0px 1px 3px 1px rgba(60, 64, 67, 0.15);\n",
              "      fill: #174EA6;\n",
              "    }\n",
              "\n",
              "    .colab-df-buttons div {\n",
              "      margin-bottom: 4px;\n",
              "    }\n",
              "\n",
              "    [theme=dark] .colab-df-convert {\n",
              "      background-color: #3B4455;\n",
              "      fill: #D2E3FC;\n",
              "    }\n",
              "\n",
              "    [theme=dark] .colab-df-convert:hover {\n",
              "      background-color: #434B5C;\n",
              "      box-shadow: 0px 1px 3px 1px rgba(0, 0, 0, 0.15);\n",
              "      filter: drop-shadow(0px 1px 2px rgba(0, 0, 0, 0.3));\n",
              "      fill: #FFFFFF;\n",
              "    }\n",
              "  </style>\n",
              "\n",
              "    <script>\n",
              "      const buttonEl =\n",
              "        document.querySelector('#df-46e0b6a7-9b9b-4ef0-9688-fd49a990c253 button.colab-df-convert');\n",
              "      buttonEl.style.display =\n",
              "        google.colab.kernel.accessAllowed ? 'block' : 'none';\n",
              "\n",
              "      async function convertToInteractive(key) {\n",
              "        const element = document.querySelector('#df-46e0b6a7-9b9b-4ef0-9688-fd49a990c253');\n",
              "        const dataTable =\n",
              "          await google.colab.kernel.invokeFunction('convertToInteractive',\n",
              "                                                    [key], {});\n",
              "        if (!dataTable) return;\n",
              "\n",
              "        const docLinkHtml = 'Like what you see? Visit the ' +\n",
              "          '<a target=\"_blank\" href=https://colab.research.google.com/notebooks/data_table.ipynb>data table notebook</a>'\n",
              "          + ' to learn more about interactive tables.';\n",
              "        element.innerHTML = '';\n",
              "        dataTable['output_type'] = 'display_data';\n",
              "        await google.colab.output.renderOutput(dataTable, element);\n",
              "        const docLink = document.createElement('div');\n",
              "        docLink.innerHTML = docLinkHtml;\n",
              "        element.appendChild(docLink);\n",
              "      }\n",
              "    </script>\n",
              "  </div>\n",
              "\n",
              "\n",
              "<div id=\"df-a1bf6758-154f-48bc-8d10-64f1b4eae27d\">\n",
              "  <button class=\"colab-df-quickchart\" onclick=\"quickchart('df-a1bf6758-154f-48bc-8d10-64f1b4eae27d')\"\n",
              "            title=\"Suggest charts\"\n",
              "            style=\"display:none;\">\n",
              "\n",
              "<svg xmlns=\"http://www.w3.org/2000/svg\" height=\"24px\"viewBox=\"0 0 24 24\"\n",
              "     width=\"24px\">\n",
              "    <g>\n",
              "        <path d=\"M19 3H5c-1.1 0-2 .9-2 2v14c0 1.1.9 2 2 2h14c1.1 0 2-.9 2-2V5c0-1.1-.9-2-2-2zM9 17H7v-7h2v7zm4 0h-2V7h2v10zm4 0h-2v-4h2v4z\"/>\n",
              "    </g>\n",
              "</svg>\n",
              "  </button>\n",
              "\n",
              "<style>\n",
              "  .colab-df-quickchart {\n",
              "      --bg-color: #E8F0FE;\n",
              "      --fill-color: #1967D2;\n",
              "      --hover-bg-color: #E2EBFA;\n",
              "      --hover-fill-color: #174EA6;\n",
              "      --disabled-fill-color: #AAA;\n",
              "      --disabled-bg-color: #DDD;\n",
              "  }\n",
              "\n",
              "  [theme=dark] .colab-df-quickchart {\n",
              "      --bg-color: #3B4455;\n",
              "      --fill-color: #D2E3FC;\n",
              "      --hover-bg-color: #434B5C;\n",
              "      --hover-fill-color: #FFFFFF;\n",
              "      --disabled-bg-color: #3B4455;\n",
              "      --disabled-fill-color: #666;\n",
              "  }\n",
              "\n",
              "  .colab-df-quickchart {\n",
              "    background-color: var(--bg-color);\n",
              "    border: none;\n",
              "    border-radius: 50%;\n",
              "    cursor: pointer;\n",
              "    display: none;\n",
              "    fill: var(--fill-color);\n",
              "    height: 32px;\n",
              "    padding: 0;\n",
              "    width: 32px;\n",
              "  }\n",
              "\n",
              "  .colab-df-quickchart:hover {\n",
              "    background-color: var(--hover-bg-color);\n",
              "    box-shadow: 0 1px 2px rgba(60, 64, 67, 0.3), 0 1px 3px 1px rgba(60, 64, 67, 0.15);\n",
              "    fill: var(--button-hover-fill-color);\n",
              "  }\n",
              "\n",
              "  .colab-df-quickchart-complete:disabled,\n",
              "  .colab-df-quickchart-complete:disabled:hover {\n",
              "    background-color: var(--disabled-bg-color);\n",
              "    fill: var(--disabled-fill-color);\n",
              "    box-shadow: none;\n",
              "  }\n",
              "\n",
              "  .colab-df-spinner {\n",
              "    border: 2px solid var(--fill-color);\n",
              "    border-color: transparent;\n",
              "    border-bottom-color: var(--fill-color);\n",
              "    animation:\n",
              "      spin 1s steps(1) infinite;\n",
              "  }\n",
              "\n",
              "  @keyframes spin {\n",
              "    0% {\n",
              "      border-color: transparent;\n",
              "      border-bottom-color: var(--fill-color);\n",
              "      border-left-color: var(--fill-color);\n",
              "    }\n",
              "    20% {\n",
              "      border-color: transparent;\n",
              "      border-left-color: var(--fill-color);\n",
              "      border-top-color: var(--fill-color);\n",
              "    }\n",
              "    30% {\n",
              "      border-color: transparent;\n",
              "      border-left-color: var(--fill-color);\n",
              "      border-top-color: var(--fill-color);\n",
              "      border-right-color: var(--fill-color);\n",
              "    }\n",
              "    40% {\n",
              "      border-color: transparent;\n",
              "      border-right-color: var(--fill-color);\n",
              "      border-top-color: var(--fill-color);\n",
              "    }\n",
              "    60% {\n",
              "      border-color: transparent;\n",
              "      border-right-color: var(--fill-color);\n",
              "    }\n",
              "    80% {\n",
              "      border-color: transparent;\n",
              "      border-right-color: var(--fill-color);\n",
              "      border-bottom-color: var(--fill-color);\n",
              "    }\n",
              "    90% {\n",
              "      border-color: transparent;\n",
              "      border-bottom-color: var(--fill-color);\n",
              "    }\n",
              "  }\n",
              "</style>\n",
              "\n",
              "  <script>\n",
              "    async function quickchart(key) {\n",
              "      const quickchartButtonEl =\n",
              "        document.querySelector('#' + key + ' button');\n",
              "      quickchartButtonEl.disabled = true;  // To prevent multiple clicks.\n",
              "      quickchartButtonEl.classList.add('colab-df-spinner');\n",
              "      try {\n",
              "        const charts = await google.colab.kernel.invokeFunction(\n",
              "            'suggestCharts', [key], {});\n",
              "      } catch (error) {\n",
              "        console.error('Error during call to suggestCharts:', error);\n",
              "      }\n",
              "      quickchartButtonEl.classList.remove('colab-df-spinner');\n",
              "      quickchartButtonEl.classList.add('colab-df-quickchart-complete');\n",
              "    }\n",
              "    (() => {\n",
              "      let quickchartButtonEl =\n",
              "        document.querySelector('#df-a1bf6758-154f-48bc-8d10-64f1b4eae27d button');\n",
              "      quickchartButtonEl.style.display =\n",
              "        google.colab.kernel.accessAllowed ? 'block' : 'none';\n",
              "    })();\n",
              "  </script>\n",
              "</div>\n",
              "\n",
              "    </div>\n",
              "  </div>\n"
            ],
            "application/vnd.google.colaboratory.intrinsic+json": {
              "type": "dataframe",
              "summary": "{\n  \"name\": \"df\",\n  \"rows\": 6,\n  \"fields\": [\n    {\n      \"column\": \"count\",\n      \"properties\": {\n        \"dtype\": \"number\",\n        \"std\": 0.0,\n        \"min\": 633.0,\n        \"max\": 633.0,\n        \"num_unique_values\": 1,\n        \"samples\": [\n          633.0\n        ],\n        \"semantic_type\": \"\",\n        \"description\": \"\"\n      }\n    },\n    {\n      \"column\": \"mean\",\n      \"properties\": {\n        \"dtype\": \"number\",\n        \"std\": 11314054.30288593,\n        \"min\": 257.3880095118484,\n        \"max\": 27713921.169036336,\n        \"num_unique_values\": 6,\n        \"samples\": [\n          261.061058728278\n        ],\n        \"semantic_type\": \"\",\n        \"description\": \"\"\n      }\n    },\n    {\n      \"column\": \"std\",\n      \"properties\": {\n        \"dtype\": \"number\",\n        \"std\": 7758451.017690567,\n        \"min\": 106.23657905543357,\n        \"max\": 19004353.543090735,\n        \"num_unique_values\": 6,\n        \"samples\": [\n          107.44137122861736\n        ],\n        \"semantic_type\": \"\",\n        \"description\": \"\"\n      }\n    },\n    {\n      \"column\": \"min\",\n      \"properties\": {\n        \"dtype\": \"number\",\n        \"std\": 2232061.0833156593,\n        \"min\": 88.089996,\n        \"max\": 5467500.0,\n        \"num_unique_values\": 6,\n        \"samples\": [\n          90.080002\n        ],\n        \"semantic_type\": \"\",\n        \"description\": \"\"\n      }\n    },\n    {\n      \"column\": \"25%\",\n      \"properties\": {\n        \"dtype\": \"number\",\n        \"std\": 7235844.357782215,\n        \"min\": 171.429993,\n        \"max\": 17724300.0,\n        \"num_unique_values\": 6,\n        \"samples\": [\n          172.75\n        ],\n        \"semantic_type\": \"\",\n        \"description\": \"\"\n      }\n    },\n    {\n      \"column\": \"50%\",\n      \"properties\": {\n        \"dtype\": \"number\",\n        \"std\": 9416557.698406013,\n        \"min\": 235.520004,\n        \"max\": 23066000.0,\n        \"num_unique_values\": 6,\n        \"samples\": [\n          238.449997\n        ],\n        \"semantic_type\": \"\",\n        \"description\": \"\"\n      }\n    },\n    {\n      \"column\": \"75%\",\n      \"properties\": {\n        \"dtype\": \"number\",\n        \"std\": 12828619.860944008,\n        \"min\": 322.720001,\n        \"max\": 31423900.0,\n        \"num_unique_values\": 6,\n        \"samples\": [\n          326.200012\n        ],\n        \"semantic_type\": \"\",\n        \"description\": \"\"\n      }\n    },\n    {\n      \"column\": \"max\",\n      \"properties\": {\n        \"dtype\": \"number\",\n        \"std\": 94842639.70340969,\n        \"min\": 518.890015,\n        \"max\": 232316600.0,\n        \"num_unique_values\": 5,\n        \"samples\": [\n          531.48999\n        ],\n        \"semantic_type\": \"\",\n        \"description\": \"\"\n      }\n    }\n  ]\n}"
            }
          },
          "metadata": {},
          "execution_count": 47
        }
      ]
    },
    {
      "cell_type": "code",
      "source": [
        "df.isnull().sum().sum()"
      ],
      "metadata": {
        "colab": {
          "base_uri": "https://localhost:8080/"
        },
        "id": "pz6eMVCUQZLu",
        "outputId": "72a8f06a-f048-4501-95ab-3b0d190f0313"
      },
      "execution_count": 48,
      "outputs": [
        {
          "output_type": "execute_result",
          "data": {
            "text/plain": [
              "0"
            ]
          },
          "metadata": {},
          "execution_count": 48
        }
      ]
    },
    {
      "cell_type": "code",
      "source": [
        "df.isnull().sum()"
      ],
      "metadata": {
        "colab": {
          "base_uri": "https://localhost:8080/"
        },
        "id": "sVq-t8EcQc97",
        "outputId": "c382f2c5-b651-4fc2-e90d-c17880eebf6c"
      },
      "execution_count": 49,
      "outputs": [
        {
          "output_type": "execute_result",
          "data": {
            "text/plain": [
              "Date         0\n",
              "Open         0\n",
              "High         0\n",
              "Low          0\n",
              "Close        0\n",
              "Adj Close    0\n",
              "Volume       0\n",
              "dtype: int64"
            ]
          },
          "metadata": {},
          "execution_count": 49
        }
      ]
    },
    {
      "cell_type": "code",
      "source": [
        "df.dtypes"
      ],
      "metadata": {
        "colab": {
          "base_uri": "https://localhost:8080/"
        },
        "id": "HNPFdiLTQjc7",
        "outputId": "5b5ea1c1-1914-4f91-8054-869ad779f7ec"
      },
      "execution_count": 50,
      "outputs": [
        {
          "output_type": "execute_result",
          "data": {
            "text/plain": [
              "Date          object\n",
              "Open         float64\n",
              "High         float64\n",
              "Low          float64\n",
              "Close        float64\n",
              "Adj Close    float64\n",
              "Volume         int64\n",
              "dtype: object"
            ]
          },
          "metadata": {},
          "execution_count": 50
        }
      ]
    },
    {
      "cell_type": "markdown",
      "source": [
        "### Data Visualization with *plotly*"
      ],
      "metadata": {
        "id": "HJUZIR_fQrU1"
      }
    },
    {
      "cell_type": "code",
      "source": [
        "fig = make_subplots(rows=1, cols=1)\n",
        "\n",
        "fig.add_trace(\n",
        "    go.Scatter(x=df['Date'], y=df['Close'], mode='lines',\n",
        "               name='Closing Price', line=dict(color='orange'))\n",
        ")\n",
        "\n",
        "fig.update_layout(\n",
        "    title='Stock Price Over Time',\n",
        "    xaxis_title='Date',\n",
        "    yaxis_title='Closing Price',\n",
        "    showlegend=True\n",
        ")\n",
        "\n",
        "fig.show()"
      ],
      "metadata": {
        "colab": {
          "base_uri": "https://localhost:8080/",
          "height": 542
        },
        "id": "m7EpoAskQxf3",
        "outputId": "fa108a7a-ccbf-4ee8-b8d7-bcb8d3c884d1"
      },
      "execution_count": 51,
      "outputs": [
        {
          "output_type": "display_data",
          "data": {
            "text/html": [
              "<html>\n",
              "<head><meta charset=\"utf-8\" /></head>\n",
              "<body>\n",
              "    <div>            <script src=\"https://cdnjs.cloudflare.com/ajax/libs/mathjax/2.7.5/MathJax.js?config=TeX-AMS-MML_SVG\"></script><script type=\"text/javascript\">if (window.MathJax && window.MathJax.Hub && window.MathJax.Hub.Config) {window.MathJax.Hub.Config({SVG: {font: \"STIX-Web\"}});}</script>                <script type=\"text/javascript\">window.PlotlyConfig = {MathJaxConfig: 'local'};</script>\n",
              "        <script charset=\"utf-8\" src=\"https://cdn.plot.ly/plotly-2.24.1.min.js\"></script>                <div id=\"b22d354e-1b0b-4fd1-83d3-834a71957575\" class=\"plotly-graph-div\" style=\"height:525px; width:100%;\"></div>            <script type=\"text/javascript\">                                    window.PLOTLYENV=window.PLOTLYENV || {};                                    if (document.getElementById(\"b22d354e-1b0b-4fd1-83d3-834a71957575\")) {                    Plotly.newPlot(                        \"b22d354e-1b0b-4fd1-83d3-834a71957575\",                        [{\"line\":{\"color\":\"orange\"},\"mode\":\"lines\",\"name\":\"Closing Price\",\"x\":[\"28\\u002f10\\u002f2021\",\"29\\u002f10\\u002f2021\",\"01\\u002f11\\u002f2021\",\"02\\u002f11\\u002f2021\",\"03\\u002f11\\u002f2021\",\"04\\u002f11\\u002f2021\",\"05\\u002f11\\u002f2021\",\"08\\u002f11\\u002f2021\",\"09\\u002f11\\u002f2021\",\"10\\u002f11\\u002f2021\",\"11\\u002f11\\u002f2021\",\"12\\u002f11\\u002f2021\",\"15\\u002f11\\u002f2021\",\"16\\u002f11\\u002f2021\",\"17\\u002f11\\u002f2021\",\"18\\u002f11\\u002f2021\",\"19\\u002f11\\u002f2021\",\"22\\u002f11\\u002f2021\",\"23\\u002f11\\u002f2021\",\"24\\u002f11\\u002f2021\",\"26\\u002f11\\u002f2021\",\"29\\u002f11\\u002f2021\",\"30\\u002f11\\u002f2021\",\"01\\u002f12\\u002f2021\",\"02\\u002f12\\u002f2021\",\"03\\u002f12\\u002f2021\",\"06\\u002f12\\u002f2021\",\"07\\u002f12\\u002f2021\",\"08\\u002f12\\u002f2021\",\"09\\u002f12\\u002f2021\",\"10\\u002f12\\u002f2021\",\"13\\u002f12\\u002f2021\",\"14\\u002f12\\u002f2021\",\"15\\u002f12\\u002f2021\",\"16\\u002f12\\u002f2021\",\"17\\u002f12\\u002f2021\",\"20\\u002f12\\u002f2021\",\"21\\u002f12\\u002f2021\",\"22\\u002f12\\u002f2021\",\"23\\u002f12\\u002f2021\",\"27\\u002f12\\u002f2021\",\"28\\u002f12\\u002f2021\",\"29\\u002f12\\u002f2021\",\"30\\u002f12\\u002f2021\",\"31\\u002f12\\u002f2021\",\"03\\u002f01\\u002f2022\",\"04\\u002f01\\u002f2022\",\"05\\u002f01\\u002f2022\",\"06\\u002f01\\u002f2022\",\"07\\u002f01\\u002f2022\",\"10\\u002f01\\u002f2022\",\"11\\u002f01\\u002f2022\",\"12\\u002f01\\u002f2022\",\"13\\u002f01\\u002f2022\",\"14\\u002f01\\u002f2022\",\"18\\u002f01\\u002f2022\",\"19\\u002f01\\u002f2022\",\"20\\u002f01\\u002f2022\",\"21\\u002f01\\u002f2022\",\"24\\u002f01\\u002f2022\",\"25\\u002f01\\u002f2022\",\"26\\u002f01\\u002f2022\",\"27\\u002f01\\u002f2022\",\"28\\u002f01\\u002f2022\",\"31\\u002f01\\u002f2022\",\"01\\u002f02\\u002f2022\",\"02\\u002f02\\u002f2022\",\"03\\u002f02\\u002f2022\",\"04\\u002f02\\u002f2022\",\"07\\u002f02\\u002f2022\",\"08\\u002f02\\u002f2022\",\"09\\u002f02\\u002f2022\",\"10\\u002f02\\u002f2022\",\"11\\u002f02\\u002f2022\",\"14\\u002f02\\u002f2022\",\"15\\u002f02\\u002f2022\",\"16\\u002f02\\u002f2022\",\"17\\u002f02\\u002f2022\",\"18\\u002f02\\u002f2022\",\"22\\u002f02\\u002f2022\",\"23\\u002f02\\u002f2022\",\"24\\u002f02\\u002f2022\",\"25\\u002f02\\u002f2022\",\"28\\u002f02\\u002f2022\",\"01\\u002f03\\u002f2022\",\"02\\u002f03\\u002f2022\",\"03\\u002f03\\u002f2022\",\"04\\u002f03\\u002f2022\",\"07\\u002f03\\u002f2022\",\"08\\u002f03\\u002f2022\",\"09\\u002f03\\u002f2022\",\"10\\u002f03\\u002f2022\",\"11\\u002f03\\u002f2022\",\"14\\u002f03\\u002f2022\",\"15\\u002f03\\u002f2022\",\"16\\u002f03\\u002f2022\",\"17\\u002f03\\u002f2022\",\"18\\u002f03\\u002f2022\",\"21\\u002f03\\u002f2022\",\"22\\u002f03\\u002f2022\",\"23\\u002f03\\u002f2022\",\"24\\u002f03\\u002f2022\",\"25\\u002f03\\u002f2022\",\"28\\u002f03\\u002f2022\",\"29\\u002f03\\u002f2022\",\"30\\u002f03\\u002f2022\",\"31\\u002f03\\u002f2022\",\"01\\u002f04\\u002f2022\",\"04\\u002f04\\u002f2022\",\"05\\u002f04\\u002f2022\",\"06\\u002f04\\u002f2022\",\"07\\u002f04\\u002f2022\",\"08\\u002f04\\u002f2022\",\"11\\u002f04\\u002f2022\",\"12\\u002f04\\u002f2022\",\"13\\u002f04\\u002f2022\",\"14\\u002f04\\u002f2022\",\"18\\u002f04\\u002f2022\",\"19\\u002f04\\u002f2022\",\"20\\u002f04\\u002f2022\",\"21\\u002f04\\u002f2022\",\"22\\u002f04\\u002f2022\",\"25\\u002f04\\u002f2022\",\"26\\u002f04\\u002f2022\",\"27\\u002f04\\u002f2022\",\"28\\u002f04\\u002f2022\",\"29\\u002f04\\u002f2022\",\"02\\u002f05\\u002f2022\",\"03\\u002f05\\u002f2022\",\"04\\u002f05\\u002f2022\",\"05\\u002f05\\u002f2022\",\"06\\u002f05\\u002f2022\",\"09\\u002f05\\u002f2022\",\"10\\u002f05\\u002f2022\",\"11\\u002f05\\u002f2022\",\"12\\u002f05\\u002f2022\",\"13\\u002f05\\u002f2022\",\"16\\u002f05\\u002f2022\",\"17\\u002f05\\u002f2022\",\"18\\u002f05\\u002f2022\",\"19\\u002f05\\u002f2022\",\"20\\u002f05\\u002f2022\",\"23\\u002f05\\u002f2022\",\"24\\u002f05\\u002f2022\",\"25\\u002f05\\u002f2022\",\"26\\u002f05\\u002f2022\",\"27\\u002f05\\u002f2022\",\"31\\u002f05\\u002f2022\",\"01\\u002f06\\u002f2022\",\"02\\u002f06\\u002f2022\",\"03\\u002f06\\u002f2022\",\"06\\u002f06\\u002f2022\",\"07\\u002f06\\u002f2022\",\"08\\u002f06\\u002f2022\",\"09\\u002f06\\u002f2022\",\"10\\u002f06\\u002f2022\",\"13\\u002f06\\u002f2022\",\"14\\u002f06\\u002f2022\",\"15\\u002f06\\u002f2022\",\"16\\u002f06\\u002f2022\",\"17\\u002f06\\u002f2022\",\"21\\u002f06\\u002f2022\",\"22\\u002f06\\u002f2022\",\"23\\u002f06\\u002f2022\",\"24\\u002f06\\u002f2022\",\"27\\u002f06\\u002f2022\",\"28\\u002f06\\u002f2022\",\"29\\u002f06\\u002f2022\",\"30\\u002f06\\u002f2022\",\"01\\u002f07\\u002f2022\",\"05\\u002f07\\u002f2022\",\"06\\u002f07\\u002f2022\",\"07\\u002f07\\u002f2022\",\"08\\u002f07\\u002f2022\",\"11\\u002f07\\u002f2022\",\"12\\u002f07\\u002f2022\",\"13\\u002f07\\u002f2022\",\"14\\u002f07\\u002f2022\",\"15\\u002f07\\u002f2022\",\"18\\u002f07\\u002f2022\",\"19\\u002f07\\u002f2022\",\"20\\u002f07\\u002f2022\",\"21\\u002f07\\u002f2022\",\"22\\u002f07\\u002f2022\",\"25\\u002f07\\u002f2022\",\"26\\u002f07\\u002f2022\",\"27\\u002f07\\u002f2022\",\"28\\u002f07\\u002f2022\",\"29\\u002f07\\u002f2022\",\"01\\u002f08\\u002f2022\",\"02\\u002f08\\u002f2022\",\"03\\u002f08\\u002f2022\",\"04\\u002f08\\u002f2022\",\"05\\u002f08\\u002f2022\",\"08\\u002f08\\u002f2022\",\"09\\u002f08\\u002f2022\",\"10\\u002f08\\u002f2022\",\"11\\u002f08\\u002f2022\",\"12\\u002f08\\u002f2022\",\"15\\u002f08\\u002f2022\",\"16\\u002f08\\u002f2022\",\"17\\u002f08\\u002f2022\",\"18\\u002f08\\u002f2022\",\"19\\u002f08\\u002f2022\",\"22\\u002f08\\u002f2022\",\"23\\u002f08\\u002f2022\",\"24\\u002f08\\u002f2022\",\"25\\u002f08\\u002f2022\",\"26\\u002f08\\u002f2022\",\"29\\u002f08\\u002f2022\",\"30\\u002f08\\u002f2022\",\"31\\u002f08\\u002f2022\",\"01\\u002f09\\u002f2022\",\"02\\u002f09\\u002f2022\",\"06\\u002f09\\u002f2022\",\"07\\u002f09\\u002f2022\",\"08\\u002f09\\u002f2022\",\"09\\u002f09\\u002f2022\",\"12\\u002f09\\u002f2022\",\"13\\u002f09\\u002f2022\",\"14\\u002f09\\u002f2022\",\"15\\u002f09\\u002f2022\",\"16\\u002f09\\u002f2022\",\"19\\u002f09\\u002f2022\",\"20\\u002f09\\u002f2022\",\"21\\u002f09\\u002f2022\",\"22\\u002f09\\u002f2022\",\"23\\u002f09\\u002f2022\",\"26\\u002f09\\u002f2022\",\"27\\u002f09\\u002f2022\",\"28\\u002f09\\u002f2022\",\"29\\u002f09\\u002f2022\",\"30\\u002f09\\u002f2022\",\"03\\u002f10\\u002f2022\",\"04\\u002f10\\u002f2022\",\"05\\u002f10\\u002f2022\",\"06\\u002f10\\u002f2022\",\"07\\u002f10\\u002f2022\",\"10\\u002f10\\u002f2022\",\"11\\u002f10\\u002f2022\",\"12\\u002f10\\u002f2022\",\"13\\u002f10\\u002f2022\",\"14\\u002f10\\u002f2022\",\"17\\u002f10\\u002f2022\",\"18\\u002f10\\u002f2022\",\"19\\u002f10\\u002f2022\",\"20\\u002f10\\u002f2022\",\"21\\u002f10\\u002f2022\",\"24\\u002f10\\u002f2022\",\"25\\u002f10\\u002f2022\",\"26\\u002f10\\u002f2022\",\"27\\u002f10\\u002f2022\",\"28\\u002f10\\u002f2022\",\"31\\u002f10\\u002f2022\",\"01\\u002f11\\u002f2022\",\"02\\u002f11\\u002f2022\",\"03\\u002f11\\u002f2022\",\"04\\u002f11\\u002f2022\",\"07\\u002f11\\u002f2022\",\"08\\u002f11\\u002f2022\",\"09\\u002f11\\u002f2022\",\"10\\u002f11\\u002f2022\",\"11\\u002f11\\u002f2022\",\"14\\u002f11\\u002f2022\",\"15\\u002f11\\u002f2022\",\"16\\u002f11\\u002f2022\",\"17\\u002f11\\u002f2022\",\"18\\u002f11\\u002f2022\",\"21\\u002f11\\u002f2022\",\"22\\u002f11\\u002f2022\",\"23\\u002f11\\u002f2022\",\"25\\u002f11\\u002f2022\",\"28\\u002f11\\u002f2022\",\"29\\u002f11\\u002f2022\",\"30\\u002f11\\u002f2022\",\"01\\u002f12\\u002f2022\",\"02\\u002f12\\u002f2022\",\"05\\u002f12\\u002f2022\",\"06\\u002f12\\u002f2022\",\"07\\u002f12\\u002f2022\",\"08\\u002f12\\u002f2022\",\"09\\u002f12\\u002f2022\",\"12\\u002f12\\u002f2022\",\"13\\u002f12\\u002f2022\",\"14\\u002f12\\u002f2022\",\"15\\u002f12\\u002f2022\",\"16\\u002f12\\u002f2022\",\"19\\u002f12\\u002f2022\",\"20\\u002f12\\u002f2022\",\"21\\u002f12\\u002f2022\",\"22\\u002f12\\u002f2022\",\"23\\u002f12\\u002f2022\",\"27\\u002f12\\u002f2022\",\"28\\u002f12\\u002f2022\",\"29\\u002f12\\u002f2022\",\"30\\u002f12\\u002f2022\",\"03\\u002f01\\u002f2023\",\"04\\u002f01\\u002f2023\",\"05\\u002f01\\u002f2023\",\"06\\u002f01\\u002f2023\",\"09\\u002f01\\u002f2023\",\"10\\u002f01\\u002f2023\",\"11\\u002f01\\u002f2023\",\"12\\u002f01\\u002f2023\",\"13\\u002f01\\u002f2023\",\"17\\u002f01\\u002f2023\",\"18\\u002f01\\u002f2023\",\"19\\u002f01\\u002f2023\",\"20\\u002f01\\u002f2023\",\"23\\u002f01\\u002f2023\",\"24\\u002f01\\u002f2023\",\"25\\u002f01\\u002f2023\",\"26\\u002f01\\u002f2023\",\"27\\u002f01\\u002f2023\",\"30\\u002f01\\u002f2023\",\"31\\u002f01\\u002f2023\",\"01\\u002f02\\u002f2023\",\"02\\u002f02\\u002f2023\",\"03\\u002f02\\u002f2023\",\"06\\u002f02\\u002f2023\",\"07\\u002f02\\u002f2023\",\"08\\u002f02\\u002f2023\",\"09\\u002f02\\u002f2023\",\"10\\u002f02\\u002f2023\",\"13\\u002f02\\u002f2023\",\"14\\u002f02\\u002f2023\",\"15\\u002f02\\u002f2023\",\"16\\u002f02\\u002f2023\",\"17\\u002f02\\u002f2023\",\"21\\u002f02\\u002f2023\",\"22\\u002f02\\u002f2023\",\"23\\u002f02\\u002f2023\",\"24\\u002f02\\u002f2023\",\"27\\u002f02\\u002f2023\",\"28\\u002f02\\u002f2023\",\"01\\u002f03\\u002f2023\",\"02\\u002f03\\u002f2023\",\"03\\u002f03\\u002f2023\",\"06\\u002f03\\u002f2023\",\"07\\u002f03\\u002f2023\",\"08\\u002f03\\u002f2023\",\"09\\u002f03\\u002f2023\",\"10\\u002f03\\u002f2023\",\"13\\u002f03\\u002f2023\",\"14\\u002f03\\u002f2023\",\"15\\u002f03\\u002f2023\",\"16\\u002f03\\u002f2023\",\"17\\u002f03\\u002f2023\",\"20\\u002f03\\u002f2023\",\"21\\u002f03\\u002f2023\",\"22\\u002f03\\u002f2023\",\"23\\u002f03\\u002f2023\",\"24\\u002f03\\u002f2023\",\"27\\u002f03\\u002f2023\",\"28\\u002f03\\u002f2023\",\"29\\u002f03\\u002f2023\",\"30\\u002f03\\u002f2023\",\"31\\u002f03\\u002f2023\",\"03\\u002f04\\u002f2023\",\"04\\u002f04\\u002f2023\",\"05\\u002f04\\u002f2023\",\"06\\u002f04\\u002f2023\",\"10\\u002f04\\u002f2023\",\"11\\u002f04\\u002f2023\",\"12\\u002f04\\u002f2023\",\"13\\u002f04\\u002f2023\",\"14\\u002f04\\u002f2023\",\"17\\u002f04\\u002f2023\",\"18\\u002f04\\u002f2023\",\"19\\u002f04\\u002f2023\",\"20\\u002f04\\u002f2023\",\"21\\u002f04\\u002f2023\",\"24\\u002f04\\u002f2023\",\"25\\u002f04\\u002f2023\",\"26\\u002f04\\u002f2023\",\"27\\u002f04\\u002f2023\",\"28\\u002f04\\u002f2023\",\"01\\u002f05\\u002f2023\",\"02\\u002f05\\u002f2023\",\"03\\u002f05\\u002f2023\",\"04\\u002f05\\u002f2023\",\"05\\u002f05\\u002f2023\",\"08\\u002f05\\u002f2023\",\"09\\u002f05\\u002f2023\",\"10\\u002f05\\u002f2023\",\"11\\u002f05\\u002f2023\",\"12\\u002f05\\u002f2023\",\"15\\u002f05\\u002f2023\",\"16\\u002f05\\u002f2023\",\"17\\u002f05\\u002f2023\",\"18\\u002f05\\u002f2023\",\"19\\u002f05\\u002f2023\",\"22\\u002f05\\u002f2023\",\"23\\u002f05\\u002f2023\",\"24\\u002f05\\u002f2023\",\"25\\u002f05\\u002f2023\",\"26\\u002f05\\u002f2023\",\"30\\u002f05\\u002f2023\",\"31\\u002f05\\u002f2023\",\"01\\u002f06\\u002f2023\",\"02\\u002f06\\u002f2023\",\"05\\u002f06\\u002f2023\",\"06\\u002f06\\u002f2023\",\"07\\u002f06\\u002f2023\",\"08\\u002f06\\u002f2023\",\"09\\u002f06\\u002f2023\",\"12\\u002f06\\u002f2023\",\"13\\u002f06\\u002f2023\",\"14\\u002f06\\u002f2023\",\"15\\u002f06\\u002f2023\",\"16\\u002f06\\u002f2023\",\"20\\u002f06\\u002f2023\",\"21\\u002f06\\u002f2023\",\"22\\u002f06\\u002f2023\",\"23\\u002f06\\u002f2023\",\"26\\u002f06\\u002f2023\",\"27\\u002f06\\u002f2023\",\"28\\u002f06\\u002f2023\",\"29\\u002f06\\u002f2023\",\"30\\u002f06\\u002f2023\",\"03\\u002f07\\u002f2023\",\"05\\u002f07\\u002f2023\",\"06\\u002f07\\u002f2023\",\"07\\u002f07\\u002f2023\",\"10\\u002f07\\u002f2023\",\"11\\u002f07\\u002f2023\",\"12\\u002f07\\u002f2023\",\"13\\u002f07\\u002f2023\",\"14\\u002f07\\u002f2023\",\"17\\u002f07\\u002f2023\",\"18\\u002f07\\u002f2023\",\"19\\u002f07\\u002f2023\",\"20\\u002f07\\u002f2023\",\"21\\u002f07\\u002f2023\",\"24\\u002f07\\u002f2023\",\"25\\u002f07\\u002f2023\",\"26\\u002f07\\u002f2023\",\"27\\u002f07\\u002f2023\",\"28\\u002f07\\u002f2023\",\"31\\u002f07\\u002f2023\",\"01\\u002f08\\u002f2023\",\"02\\u002f08\\u002f2023\",\"03\\u002f08\\u002f2023\",\"04\\u002f08\\u002f2023\",\"07\\u002f08\\u002f2023\",\"08\\u002f08\\u002f2023\",\"09\\u002f08\\u002f2023\",\"10\\u002f08\\u002f2023\",\"11\\u002f08\\u002f2023\",\"14\\u002f08\\u002f2023\",\"15\\u002f08\\u002f2023\",\"16\\u002f08\\u002f2023\",\"17\\u002f08\\u002f2023\",\"18\\u002f08\\u002f2023\",\"21\\u002f08\\u002f2023\",\"22\\u002f08\\u002f2023\",\"23\\u002f08\\u002f2023\",\"24\\u002f08\\u002f2023\",\"25\\u002f08\\u002f2023\",\"28\\u002f08\\u002f2023\",\"29\\u002f08\\u002f2023\",\"30\\u002f08\\u002f2023\",\"31\\u002f08\\u002f2023\",\"01\\u002f09\\u002f2023\",\"05\\u002f09\\u002f2023\",\"06\\u002f09\\u002f2023\",\"07\\u002f09\\u002f2023\",\"08\\u002f09\\u002f2023\",\"11\\u002f09\\u002f2023\",\"12\\u002f09\\u002f2023\",\"13\\u002f09\\u002f2023\",\"14\\u002f09\\u002f2023\",\"15\\u002f09\\u002f2023\",\"18\\u002f09\\u002f2023\",\"19\\u002f09\\u002f2023\",\"20\\u002f09\\u002f2023\",\"21\\u002f09\\u002f2023\",\"22\\u002f09\\u002f2023\",\"25\\u002f09\\u002f2023\",\"26\\u002f09\\u002f2023\",\"27\\u002f09\\u002f2023\",\"28\\u002f09\\u002f2023\",\"29\\u002f09\\u002f2023\",\"02\\u002f10\\u002f2023\",\"03\\u002f10\\u002f2023\",\"04\\u002f10\\u002f2023\",\"05\\u002f10\\u002f2023\",\"06\\u002f10\\u002f2023\",\"09\\u002f10\\u002f2023\",\"10\\u002f10\\u002f2023\",\"11\\u002f10\\u002f2023\",\"12\\u002f10\\u002f2023\",\"13\\u002f10\\u002f2023\",\"16\\u002f10\\u002f2023\",\"17\\u002f10\\u002f2023\",\"18\\u002f10\\u002f2023\",\"19\\u002f10\\u002f2023\",\"20\\u002f10\\u002f2023\",\"23\\u002f10\\u002f2023\",\"24\\u002f10\\u002f2023\",\"25\\u002f10\\u002f2023\",\"26\\u002f10\\u002f2023\",\"27\\u002f10\\u002f2023\",\"30\\u002f10\\u002f2023\",\"31\\u002f10\\u002f2023\",\"01\\u002f11\\u002f2023\",\"02\\u002f11\\u002f2023\",\"03\\u002f11\\u002f2023\",\"06\\u002f11\\u002f2023\",\"07\\u002f11\\u002f2023\",\"08\\u002f11\\u002f2023\",\"09\\u002f11\\u002f2023\",\"10\\u002f11\\u002f2023\",\"13\\u002f11\\u002f2023\",\"14\\u002f11\\u002f2023\",\"15\\u002f11\\u002f2023\",\"16\\u002f11\\u002f2023\",\"17\\u002f11\\u002f2023\",\"20\\u002f11\\u002f2023\",\"21\\u002f11\\u002f2023\",\"22\\u002f11\\u002f2023\",\"24\\u002f11\\u002f2023\",\"27\\u002f11\\u002f2023\",\"28\\u002f11\\u002f2023\",\"29\\u002f11\\u002f2023\",\"30\\u002f11\\u002f2023\",\"01\\u002f12\\u002f2023\",\"04\\u002f12\\u002f2023\",\"05\\u002f12\\u002f2023\",\"06\\u002f12\\u002f2023\",\"07\\u002f12\\u002f2023\",\"08\\u002f12\\u002f2023\",\"11\\u002f12\\u002f2023\",\"12\\u002f12\\u002f2023\",\"13\\u002f12\\u002f2023\",\"14\\u002f12\\u002f2023\",\"15\\u002f12\\u002f2023\",\"18\\u002f12\\u002f2023\",\"19\\u002f12\\u002f2023\",\"20\\u002f12\\u002f2023\",\"21\\u002f12\\u002f2023\",\"22\\u002f12\\u002f2023\",\"26\\u002f12\\u002f2023\",\"27\\u002f12\\u002f2023\",\"28\\u002f12\\u002f2023\",\"29\\u002f12\\u002f2023\",\"02\\u002f01\\u002f2024\",\"03\\u002f01\\u002f2024\",\"04\\u002f01\\u002f2024\",\"05\\u002f01\\u002f2024\",\"08\\u002f01\\u002f2024\",\"09\\u002f01\\u002f2024\",\"10\\u002f01\\u002f2024\",\"11\\u002f01\\u002f2024\",\"12\\u002f01\\u002f2024\",\"16\\u002f01\\u002f2024\",\"17\\u002f01\\u002f2024\",\"18\\u002f01\\u002f2024\",\"19\\u002f01\\u002f2024\",\"22\\u002f01\\u002f2024\",\"23\\u002f01\\u002f2024\",\"24\\u002f01\\u002f2024\",\"25\\u002f01\\u002f2024\",\"26\\u002f01\\u002f2024\",\"29\\u002f01\\u002f2024\",\"30\\u002f01\\u002f2024\",\"31\\u002f01\\u002f2024\",\"01\\u002f02\\u002f2024\",\"02\\u002f02\\u002f2024\",\"05\\u002f02\\u002f2024\",\"06\\u002f02\\u002f2024\",\"07\\u002f02\\u002f2024\",\"08\\u002f02\\u002f2024\",\"09\\u002f02\\u002f2024\",\"12\\u002f02\\u002f2024\",\"13\\u002f02\\u002f2024\",\"14\\u002f02\\u002f2024\",\"15\\u002f02\\u002f2024\",\"16\\u002f02\\u002f2024\",\"20\\u002f02\\u002f2024\",\"21\\u002f02\\u002f2024\",\"22\\u002f02\\u002f2024\",\"23\\u002f02\\u002f2024\",\"26\\u002f02\\u002f2024\",\"27\\u002f02\\u002f2024\",\"28\\u002f02\\u002f2024\",\"29\\u002f02\\u002f2024\",\"01\\u002f03\\u002f2024\",\"04\\u002f03\\u002f2024\",\"05\\u002f03\\u002f2024\",\"06\\u002f03\\u002f2024\",\"07\\u002f03\\u002f2024\",\"08\\u002f03\\u002f2024\",\"11\\u002f03\\u002f2024\",\"12\\u002f03\\u002f2024\",\"13\\u002f03\\u002f2024\",\"14\\u002f03\\u002f2024\",\"15\\u002f03\\u002f2024\",\"18\\u002f03\\u002f2024\",\"19\\u002f03\\u002f2024\",\"20\\u002f03\\u002f2024\",\"21\\u002f03\\u002f2024\",\"22\\u002f03\\u002f2024\",\"25\\u002f03\\u002f2024\",\"26\\u002f03\\u002f2024\",\"27\\u002f03\\u002f2024\",\"28\\u002f03\\u002f2024\",\"01\\u002f04\\u002f2024\",\"02\\u002f04\\u002f2024\",\"03\\u002f04\\u002f2024\",\"04\\u002f04\\u002f2024\",\"05\\u002f04\\u002f2024\",\"08\\u002f04\\u002f2024\",\"09\\u002f04\\u002f2024\",\"10\\u002f04\\u002f2024\",\"11\\u002f04\\u002f2024\",\"12\\u002f04\\u002f2024\",\"15\\u002f04\\u002f2024\",\"16\\u002f04\\u002f2024\",\"17\\u002f04\\u002f2024\",\"18\\u002f04\\u002f2024\",\"19\\u002f04\\u002f2024\",\"22\\u002f04\\u002f2024\",\"23\\u002f04\\u002f2024\",\"24\\u002f04\\u002f2024\",\"25\\u002f04\\u002f2024\",\"26\\u002f04\\u002f2024\",\"29\\u002f04\\u002f2024\",\"30\\u002f04\\u002f2024\",\"01\\u002f05\\u002f2024\",\"02\\u002f05\\u002f2024\",\"03\\u002f05\\u002f2024\",\"06\\u002f05\\u002f2024\"],\"y\":[316.920013,323.570007,329.980011,328.079987,331.619995,335.850006,341.130005,338.619995,335.369995,327.640015,327.73999,340.890015,347.559998,342.959991,340.769989,338.690002,345.299988,341.01001,337.25,341.059998,333.119995,338.029999,324.459991,310.600006,310.390015,306.839996,317.869995,322.809998,330.559998,329.820007,329.75,334.48999,333.73999,341.660004,334.899994,333.790009,325.450012,334.200012,330.450012,335.23999,346.179993,346.220001,342.940002,344.359985,336.350006,338.540009,336.529999,324.170013,332.459991,331.790009,328.070007,334.369995,333.26001,326.480011,331.899994,318.149994,319.589996,316.559998,303.170013,308.709991,300.149994,294.630005,294.640015,301.709991,313.26001,319.0,323.0,237.759995,237.089996,224.910004,220.179993,232.0,228.070007,219.550003,217.699997,221.0,216.539993,207.710007,206.160004,202.080002,198.449997,207.600006,210.479996,211.029999,203.490005,208.110001,202.970001,200.059998,187.470001,190.289993,198.5,195.210007,187.610001,186.630005,192.029999,203.630005,207.839996,216.490005,211.490005,216.649994,213.460007,219.570007,221.820007,223.589996,229.860001,227.850006,222.360001,224.850006,233.889999,231.839996,223.300003,222.949997,222.330002,216.460007,214.139999,214.990005,210.179993,210.770004,217.309998,200.419998,188.070007,184.110001,186.990005,180.949997,174.949997,205.729996,200.470001,211.130005,212.029999,223.410004,208.279999,203.770004,196.210007,197.649994,188.740005,191.240005,198.619995,200.039993,202.619995,192.240005,191.289993,193.539993,196.229996,181.279999,183.830002,191.630005,195.130005,193.639999,188.639999,198.860001,190.779999,194.25,195.649994,196.639999,184.0,175.570007,164.259995,163.729996,169.350006,160.869995,163.740005,157.050003,155.850006,158.75,170.160004,169.490005,160.679993,163.940002,161.25,160.029999,168.190002,169.770004,172.190002,170.880005,162.880005,163.270004,163.490005,158.050003,164.699997,167.229996,175.779999,183.089996,183.169998,169.270004,166.649994,159.149994,169.580002,160.720001,159.100006,159.929993,160.190002,168.800003,170.570007,167.110001,170.25,168.529999,178.339996,177.490005,180.5,180.889999,179.470001,174.850006,174.660004,167.960007,163.050003,161.110001,163.259995,168.779999,161.779999,159.169998,157.160004,162.929993,165.360001,160.320007,158.539993,160.389999,162.059998,169.149994,168.960007,153.130005,151.470001,149.550003,146.289993,148.020004,146.089996,142.119995,142.820007,140.410004,136.369995,134.399994,141.610001,136.410004,135.679993,138.610001,140.279999,138.979996,139.070007,133.449997,133.789993,128.539993,127.5,130.289993,126.760002,134.039993,132.800003,133.229996,131.529999,130.009995,129.720001,137.509995,129.820007,97.940002,99.199997,93.160004,95.199997,90.540001,88.910004,90.790001,96.720001,96.470001,101.470001,111.870003,113.019997,114.220001,117.080002,113.230003,111.449997,112.050003,109.860001,111.440002,112.239998,111.410004,108.779999,109.459999,118.099998,120.440002,123.489998,122.43,114.120003,113.93,115.330002,115.900002,114.709999,120.150002,121.589996,116.150002,119.43,114.480003,117.089996,119.760002,117.120003,118.040001,116.879997,115.620003,120.260002,120.339996,124.739998,127.370003,126.940002,130.020004,129.470001,132.990005,132.889999,136.710007,136.979996,135.360001,133.020004,136.149994,139.369995,143.270004,143.139999,141.5,147.300003,151.740005,147.059998,148.970001,153.119995,188.770004,186.529999,186.059998,191.619995,183.429993,177.919998,174.149994,179.429993,179.479996,177.160004,172.440002,172.880005,172.080002,171.119995,172.039993,170.389999,169.539993,174.940002,173.419998,174.529999,185.25,184.899994,184.509995,184.970001,181.690002,179.509995,180.899994,194.020004,197.75,204.929993,195.610001,197.809998,202.160004,199.809998,204.279999,206.009995,202.839996,200.679993,205.350006,207.839996,211.940002,213.070007,214.720001,211.479996,216.100006,214.75,213.850006,214.0,220.350006,221.490005,218.860001,217.889999,215.699997,213.070007,212.889999,212.789993,207.550003,209.399994,238.559998,240.320007,243.179993,239.240005,237.029999,233.520004,232.779999,233.270004,233.369995,233.080002,235.789993,233.809998,238.860001,238.820007,242.490005,246.850006,245.639999,248.320007,246.740005,249.210007,252.690002,262.040009,262.519989,264.720001,272.609985,272.609985,271.390015,271.119995,263.600006,264.579987,264.950012,271.049988,271.320007,273.350006,281.829987,281.0,284.329987,281.640015,284.880005,288.730011,278.470001,287.049988,285.290009,281.529999,286.980011,286.019989,294.369995,291.98999,290.529999,294.100006,298.290009,309.339996,313.410004,308.869995,310.619995,312.049988,316.01001,302.519989,294.26001,291.609985,294.470001,298.570007,311.709991,325.480011,318.600006,322.709991,314.309998,313.190002,310.730011,316.559998,312.640015,305.209991,305.73999,301.640015,306.190002,301.950012,294.290009,285.089996,283.25,289.899994,287.600006,294.23999,286.75,285.5,290.26001,297.98999,295.100006,295.890015,296.380005,300.149994,299.170013,298.670013,297.890015,307.559998,301.660004,305.059998,311.720001,300.309998,302.549988,305.070007,299.670013,295.730011,299.079987,300.829987,298.959991,297.73999,303.959991,300.209991,306.820007,300.940002,305.579987,304.790009,315.429993,318.359985,321.839996,327.820007,324.160004,314.690002,321.149994,324.0,316.970001,312.809998,308.649994,314.01001,312.549988,299.529999,288.350006,296.730011,302.660004,301.269989,311.850006,310.869995,314.600006,315.799988,318.820007,319.779999,320.549988,328.769989,329.190002,336.309998,332.709991,334.190002,335.040009,339.970001,336.980011,341.48999,338.230011,334.700012,338.98999,332.200012,327.149994,324.820007,320.019989,318.290009,317.450012,326.589996,332.75,325.279999,334.220001,334.73999,333.170013,334.920013,344.619995,350.359985,349.279999,354.089996,353.390015,354.829987,357.829987,358.320007,353.959991,346.290009,344.470001,347.119995,351.950012,358.660004,357.429993,370.470001,369.670013,374.48999,367.459991,368.369995,376.130005,383.450012,381.779999,385.200012,390.700012,393.179993,394.140015,401.019989,400.059998,390.140015,394.779999,474.98999,459.410004,454.720001,469.589996,470.0,468.109985,468.899994,460.119995,473.279999,484.029999,473.320007,471.75,468.029999,486.130005,484.029999,481.73999,487.049988,484.019989,490.130005,502.299988,498.190002,490.220001,496.089996,512.190002,505.950012,483.589996,499.75,495.570007,491.829987,484.100006,496.980011,496.23999,505.519989,507.76001,509.579987,503.019989,495.890015,493.859985,485.579987,491.350006,497.369995,506.73999,510.920013,527.340027,519.25,516.900024,519.830017,523.159973,511.899994,500.230011,499.76001,494.170013,501.799988,481.070007,481.730011,496.100006,493.5,441.380005,443.290009,432.619995,430.170013,439.190002,441.679993,451.959991,465.679993],\"type\":\"scatter\"}],                        {\"template\":{\"data\":{\"histogram2dcontour\":[{\"type\":\"histogram2dcontour\",\"colorbar\":{\"outlinewidth\":0,\"ticks\":\"\"},\"colorscale\":[[0.0,\"#0d0887\"],[0.1111111111111111,\"#46039f\"],[0.2222222222222222,\"#7201a8\"],[0.3333333333333333,\"#9c179e\"],[0.4444444444444444,\"#bd3786\"],[0.5555555555555556,\"#d8576b\"],[0.6666666666666666,\"#ed7953\"],[0.7777777777777778,\"#fb9f3a\"],[0.8888888888888888,\"#fdca26\"],[1.0,\"#f0f921\"]]}],\"choropleth\":[{\"type\":\"choropleth\",\"colorbar\":{\"outlinewidth\":0,\"ticks\":\"\"}}],\"histogram2d\":[{\"type\":\"histogram2d\",\"colorbar\":{\"outlinewidth\":0,\"ticks\":\"\"},\"colorscale\":[[0.0,\"#0d0887\"],[0.1111111111111111,\"#46039f\"],[0.2222222222222222,\"#7201a8\"],[0.3333333333333333,\"#9c179e\"],[0.4444444444444444,\"#bd3786\"],[0.5555555555555556,\"#d8576b\"],[0.6666666666666666,\"#ed7953\"],[0.7777777777777778,\"#fb9f3a\"],[0.8888888888888888,\"#fdca26\"],[1.0,\"#f0f921\"]]}],\"heatmap\":[{\"type\":\"heatmap\",\"colorbar\":{\"outlinewidth\":0,\"ticks\":\"\"},\"colorscale\":[[0.0,\"#0d0887\"],[0.1111111111111111,\"#46039f\"],[0.2222222222222222,\"#7201a8\"],[0.3333333333333333,\"#9c179e\"],[0.4444444444444444,\"#bd3786\"],[0.5555555555555556,\"#d8576b\"],[0.6666666666666666,\"#ed7953\"],[0.7777777777777778,\"#fb9f3a\"],[0.8888888888888888,\"#fdca26\"],[1.0,\"#f0f921\"]]}],\"heatmapgl\":[{\"type\":\"heatmapgl\",\"colorbar\":{\"outlinewidth\":0,\"ticks\":\"\"},\"colorscale\":[[0.0,\"#0d0887\"],[0.1111111111111111,\"#46039f\"],[0.2222222222222222,\"#7201a8\"],[0.3333333333333333,\"#9c179e\"],[0.4444444444444444,\"#bd3786\"],[0.5555555555555556,\"#d8576b\"],[0.6666666666666666,\"#ed7953\"],[0.7777777777777778,\"#fb9f3a\"],[0.8888888888888888,\"#fdca26\"],[1.0,\"#f0f921\"]]}],\"contourcarpet\":[{\"type\":\"contourcarpet\",\"colorbar\":{\"outlinewidth\":0,\"ticks\":\"\"}}],\"contour\":[{\"type\":\"contour\",\"colorbar\":{\"outlinewidth\":0,\"ticks\":\"\"},\"colorscale\":[[0.0,\"#0d0887\"],[0.1111111111111111,\"#46039f\"],[0.2222222222222222,\"#7201a8\"],[0.3333333333333333,\"#9c179e\"],[0.4444444444444444,\"#bd3786\"],[0.5555555555555556,\"#d8576b\"],[0.6666666666666666,\"#ed7953\"],[0.7777777777777778,\"#fb9f3a\"],[0.8888888888888888,\"#fdca26\"],[1.0,\"#f0f921\"]]}],\"surface\":[{\"type\":\"surface\",\"colorbar\":{\"outlinewidth\":0,\"ticks\":\"\"},\"colorscale\":[[0.0,\"#0d0887\"],[0.1111111111111111,\"#46039f\"],[0.2222222222222222,\"#7201a8\"],[0.3333333333333333,\"#9c179e\"],[0.4444444444444444,\"#bd3786\"],[0.5555555555555556,\"#d8576b\"],[0.6666666666666666,\"#ed7953\"],[0.7777777777777778,\"#fb9f3a\"],[0.8888888888888888,\"#fdca26\"],[1.0,\"#f0f921\"]]}],\"mesh3d\":[{\"type\":\"mesh3d\",\"colorbar\":{\"outlinewidth\":0,\"ticks\":\"\"}}],\"scatter\":[{\"fillpattern\":{\"fillmode\":\"overlay\",\"size\":10,\"solidity\":0.2},\"type\":\"scatter\"}],\"parcoords\":[{\"type\":\"parcoords\",\"line\":{\"colorbar\":{\"outlinewidth\":0,\"ticks\":\"\"}}}],\"scatterpolargl\":[{\"type\":\"scatterpolargl\",\"marker\":{\"colorbar\":{\"outlinewidth\":0,\"ticks\":\"\"}}}],\"bar\":[{\"error_x\":{\"color\":\"#2a3f5f\"},\"error_y\":{\"color\":\"#2a3f5f\"},\"marker\":{\"line\":{\"color\":\"#E5ECF6\",\"width\":0.5},\"pattern\":{\"fillmode\":\"overlay\",\"size\":10,\"solidity\":0.2}},\"type\":\"bar\"}],\"scattergeo\":[{\"type\":\"scattergeo\",\"marker\":{\"colorbar\":{\"outlinewidth\":0,\"ticks\":\"\"}}}],\"scatterpolar\":[{\"type\":\"scatterpolar\",\"marker\":{\"colorbar\":{\"outlinewidth\":0,\"ticks\":\"\"}}}],\"histogram\":[{\"marker\":{\"pattern\":{\"fillmode\":\"overlay\",\"size\":10,\"solidity\":0.2}},\"type\":\"histogram\"}],\"scattergl\":[{\"type\":\"scattergl\",\"marker\":{\"colorbar\":{\"outlinewidth\":0,\"ticks\":\"\"}}}],\"scatter3d\":[{\"type\":\"scatter3d\",\"line\":{\"colorbar\":{\"outlinewidth\":0,\"ticks\":\"\"}},\"marker\":{\"colorbar\":{\"outlinewidth\":0,\"ticks\":\"\"}}}],\"scattermapbox\":[{\"type\":\"scattermapbox\",\"marker\":{\"colorbar\":{\"outlinewidth\":0,\"ticks\":\"\"}}}],\"scatterternary\":[{\"type\":\"scatterternary\",\"marker\":{\"colorbar\":{\"outlinewidth\":0,\"ticks\":\"\"}}}],\"scattercarpet\":[{\"type\":\"scattercarpet\",\"marker\":{\"colorbar\":{\"outlinewidth\":0,\"ticks\":\"\"}}}],\"carpet\":[{\"aaxis\":{\"endlinecolor\":\"#2a3f5f\",\"gridcolor\":\"white\",\"linecolor\":\"white\",\"minorgridcolor\":\"white\",\"startlinecolor\":\"#2a3f5f\"},\"baxis\":{\"endlinecolor\":\"#2a3f5f\",\"gridcolor\":\"white\",\"linecolor\":\"white\",\"minorgridcolor\":\"white\",\"startlinecolor\":\"#2a3f5f\"},\"type\":\"carpet\"}],\"table\":[{\"cells\":{\"fill\":{\"color\":\"#EBF0F8\"},\"line\":{\"color\":\"white\"}},\"header\":{\"fill\":{\"color\":\"#C8D4E3\"},\"line\":{\"color\":\"white\"}},\"type\":\"table\"}],\"barpolar\":[{\"marker\":{\"line\":{\"color\":\"#E5ECF6\",\"width\":0.5},\"pattern\":{\"fillmode\":\"overlay\",\"size\":10,\"solidity\":0.2}},\"type\":\"barpolar\"}],\"pie\":[{\"automargin\":true,\"type\":\"pie\"}]},\"layout\":{\"autotypenumbers\":\"strict\",\"colorway\":[\"#636efa\",\"#EF553B\",\"#00cc96\",\"#ab63fa\",\"#FFA15A\",\"#19d3f3\",\"#FF6692\",\"#B6E880\",\"#FF97FF\",\"#FECB52\"],\"font\":{\"color\":\"#2a3f5f\"},\"hovermode\":\"closest\",\"hoverlabel\":{\"align\":\"left\"},\"paper_bgcolor\":\"white\",\"plot_bgcolor\":\"#E5ECF6\",\"polar\":{\"bgcolor\":\"#E5ECF6\",\"angularaxis\":{\"gridcolor\":\"white\",\"linecolor\":\"white\",\"ticks\":\"\"},\"radialaxis\":{\"gridcolor\":\"white\",\"linecolor\":\"white\",\"ticks\":\"\"}},\"ternary\":{\"bgcolor\":\"#E5ECF6\",\"aaxis\":{\"gridcolor\":\"white\",\"linecolor\":\"white\",\"ticks\":\"\"},\"baxis\":{\"gridcolor\":\"white\",\"linecolor\":\"white\",\"ticks\":\"\"},\"caxis\":{\"gridcolor\":\"white\",\"linecolor\":\"white\",\"ticks\":\"\"}},\"coloraxis\":{\"colorbar\":{\"outlinewidth\":0,\"ticks\":\"\"}},\"colorscale\":{\"sequential\":[[0.0,\"#0d0887\"],[0.1111111111111111,\"#46039f\"],[0.2222222222222222,\"#7201a8\"],[0.3333333333333333,\"#9c179e\"],[0.4444444444444444,\"#bd3786\"],[0.5555555555555556,\"#d8576b\"],[0.6666666666666666,\"#ed7953\"],[0.7777777777777778,\"#fb9f3a\"],[0.8888888888888888,\"#fdca26\"],[1.0,\"#f0f921\"]],\"sequentialminus\":[[0.0,\"#0d0887\"],[0.1111111111111111,\"#46039f\"],[0.2222222222222222,\"#7201a8\"],[0.3333333333333333,\"#9c179e\"],[0.4444444444444444,\"#bd3786\"],[0.5555555555555556,\"#d8576b\"],[0.6666666666666666,\"#ed7953\"],[0.7777777777777778,\"#fb9f3a\"],[0.8888888888888888,\"#fdca26\"],[1.0,\"#f0f921\"]],\"diverging\":[[0,\"#8e0152\"],[0.1,\"#c51b7d\"],[0.2,\"#de77ae\"],[0.3,\"#f1b6da\"],[0.4,\"#fde0ef\"],[0.5,\"#f7f7f7\"],[0.6,\"#e6f5d0\"],[0.7,\"#b8e186\"],[0.8,\"#7fbc41\"],[0.9,\"#4d9221\"],[1,\"#276419\"]]},\"xaxis\":{\"gridcolor\":\"white\",\"linecolor\":\"white\",\"ticks\":\"\",\"title\":{\"standoff\":15},\"zerolinecolor\":\"white\",\"automargin\":true,\"zerolinewidth\":2},\"yaxis\":{\"gridcolor\":\"white\",\"linecolor\":\"white\",\"ticks\":\"\",\"title\":{\"standoff\":15},\"zerolinecolor\":\"white\",\"automargin\":true,\"zerolinewidth\":2},\"scene\":{\"xaxis\":{\"backgroundcolor\":\"#E5ECF6\",\"gridcolor\":\"white\",\"linecolor\":\"white\",\"showbackground\":true,\"ticks\":\"\",\"zerolinecolor\":\"white\",\"gridwidth\":2},\"yaxis\":{\"backgroundcolor\":\"#E5ECF6\",\"gridcolor\":\"white\",\"linecolor\":\"white\",\"showbackground\":true,\"ticks\":\"\",\"zerolinecolor\":\"white\",\"gridwidth\":2},\"zaxis\":{\"backgroundcolor\":\"#E5ECF6\",\"gridcolor\":\"white\",\"linecolor\":\"white\",\"showbackground\":true,\"ticks\":\"\",\"zerolinecolor\":\"white\",\"gridwidth\":2}},\"shapedefaults\":{\"line\":{\"color\":\"#2a3f5f\"}},\"annotationdefaults\":{\"arrowcolor\":\"#2a3f5f\",\"arrowhead\":0,\"arrowwidth\":1},\"geo\":{\"bgcolor\":\"white\",\"landcolor\":\"#E5ECF6\",\"subunitcolor\":\"white\",\"showland\":true,\"showlakes\":true,\"lakecolor\":\"white\"},\"title\":{\"x\":0.05},\"mapbox\":{\"style\":\"light\"}}},\"xaxis\":{\"anchor\":\"y\",\"domain\":[0.0,1.0],\"title\":{\"text\":\"Date\"}},\"yaxis\":{\"anchor\":\"x\",\"domain\":[0.0,1.0],\"title\":{\"text\":\"Closing Price\"}},\"title\":{\"text\":\"Stock Price Over Time\"},\"showlegend\":true},                        {\"responsive\": true}                    ).then(function(){\n",
              "                            \n",
              "var gd = document.getElementById('b22d354e-1b0b-4fd1-83d3-834a71957575');\n",
              "var x = new MutationObserver(function (mutations, observer) {{\n",
              "        var display = window.getComputedStyle(gd).display;\n",
              "        if (!display || display === 'none') {{\n",
              "            console.log([gd, 'removed!']);\n",
              "            Plotly.purge(gd);\n",
              "            observer.disconnect();\n",
              "        }}\n",
              "}});\n",
              "\n",
              "// Listen for the removal of the full notebook cells\n",
              "var notebookContainer = gd.closest('#notebook-container');\n",
              "if (notebookContainer) {{\n",
              "    x.observe(notebookContainer, {childList: true});\n",
              "}}\n",
              "\n",
              "// Listen for the clearing of the current output cell\n",
              "var outputEl = gd.closest('.output');\n",
              "if (outputEl) {{\n",
              "    x.observe(outputEl, {childList: true});\n",
              "}}\n",
              "\n",
              "                        })                };                            </script>        </div>\n",
              "</body>\n",
              "</html>"
            ]
          },
          "metadata": {}
        }
      ]
    },
    {
      "cell_type": "code",
      "source": [
        "fig = make_subplots(rows=1, cols=1)\n",
        "\n",
        "fig.add_trace(\n",
        "    go.Scatter(x=df['Date'], y=df['Volume'], mode='lines',\n",
        "               name='Volume', line=dict(color='red'))\n",
        ")\n",
        "\n",
        "fig.update_layout(\n",
        "    title='Volume Over Time',\n",
        "    xaxis_title='Date',\n",
        "    yaxis_title='Volume',\n",
        "    showlegend=True\n",
        ")\n",
        "\n",
        "fig.show()"
      ],
      "metadata": {
        "colab": {
          "base_uri": "https://localhost:8080/",
          "height": 542
        },
        "id": "h_fH9XqeR9KJ",
        "outputId": "55095894-07eb-4b8c-e2ed-1dec51b60171"
      },
      "execution_count": 52,
      "outputs": [
        {
          "output_type": "display_data",
          "data": {
            "text/html": [
              "<html>\n",
              "<head><meta charset=\"utf-8\" /></head>\n",
              "<body>\n",
              "    <div>            <script src=\"https://cdnjs.cloudflare.com/ajax/libs/mathjax/2.7.5/MathJax.js?config=TeX-AMS-MML_SVG\"></script><script type=\"text/javascript\">if (window.MathJax && window.MathJax.Hub && window.MathJax.Hub.Config) {window.MathJax.Hub.Config({SVG: {font: \"STIX-Web\"}});}</script>                <script type=\"text/javascript\">window.PlotlyConfig = {MathJaxConfig: 'local'};</script>\n",
              "        <script charset=\"utf-8\" src=\"https://cdn.plot.ly/plotly-2.24.1.min.js\"></script>                <div id=\"b96fab6e-713b-41d2-bf41-007058620ebd\" class=\"plotly-graph-div\" style=\"height:525px; width:100%;\"></div>            <script type=\"text/javascript\">                                    window.PLOTLYENV=window.PLOTLYENV || {};                                    if (document.getElementById(\"b96fab6e-713b-41d2-bf41-007058620ebd\")) {                    Plotly.newPlot(                        \"b96fab6e-713b-41d2-bf41-007058620ebd\",                        [{\"line\":{\"color\":\"red\"},\"mode\":\"lines\",\"name\":\"Volume\",\"x\":[\"28\\u002f10\\u002f2021\",\"29\\u002f10\\u002f2021\",\"01\\u002f11\\u002f2021\",\"02\\u002f11\\u002f2021\",\"03\\u002f11\\u002f2021\",\"04\\u002f11\\u002f2021\",\"05\\u002f11\\u002f2021\",\"08\\u002f11\\u002f2021\",\"09\\u002f11\\u002f2021\",\"10\\u002f11\\u002f2021\",\"11\\u002f11\\u002f2021\",\"12\\u002f11\\u002f2021\",\"15\\u002f11\\u002f2021\",\"16\\u002f11\\u002f2021\",\"17\\u002f11\\u002f2021\",\"18\\u002f11\\u002f2021\",\"19\\u002f11\\u002f2021\",\"22\\u002f11\\u002f2021\",\"23\\u002f11\\u002f2021\",\"24\\u002f11\\u002f2021\",\"26\\u002f11\\u002f2021\",\"29\\u002f11\\u002f2021\",\"30\\u002f11\\u002f2021\",\"01\\u002f12\\u002f2021\",\"02\\u002f12\\u002f2021\",\"03\\u002f12\\u002f2021\",\"06\\u002f12\\u002f2021\",\"07\\u002f12\\u002f2021\",\"08\\u002f12\\u002f2021\",\"09\\u002f12\\u002f2021\",\"10\\u002f12\\u002f2021\",\"13\\u002f12\\u002f2021\",\"14\\u002f12\\u002f2021\",\"15\\u002f12\\u002f2021\",\"16\\u002f12\\u002f2021\",\"17\\u002f12\\u002f2021\",\"20\\u002f12\\u002f2021\",\"21\\u002f12\\u002f2021\",\"22\\u002f12\\u002f2021\",\"23\\u002f12\\u002f2021\",\"27\\u002f12\\u002f2021\",\"28\\u002f12\\u002f2021\",\"29\\u002f12\\u002f2021\",\"30\\u002f12\\u002f2021\",\"31\\u002f12\\u002f2021\",\"03\\u002f01\\u002f2022\",\"04\\u002f01\\u002f2022\",\"05\\u002f01\\u002f2022\",\"06\\u002f01\\u002f2022\",\"07\\u002f01\\u002f2022\",\"10\\u002f01\\u002f2022\",\"11\\u002f01\\u002f2022\",\"12\\u002f01\\u002f2022\",\"13\\u002f01\\u002f2022\",\"14\\u002f01\\u002f2022\",\"18\\u002f01\\u002f2022\",\"19\\u002f01\\u002f2022\",\"20\\u002f01\\u002f2022\",\"21\\u002f01\\u002f2022\",\"24\\u002f01\\u002f2022\",\"25\\u002f01\\u002f2022\",\"26\\u002f01\\u002f2022\",\"27\\u002f01\\u002f2022\",\"28\\u002f01\\u002f2022\",\"31\\u002f01\\u002f2022\",\"01\\u002f02\\u002f2022\",\"02\\u002f02\\u002f2022\",\"03\\u002f02\\u002f2022\",\"04\\u002f02\\u002f2022\",\"07\\u002f02\\u002f2022\",\"08\\u002f02\\u002f2022\",\"09\\u002f02\\u002f2022\",\"10\\u002f02\\u002f2022\",\"11\\u002f02\\u002f2022\",\"14\\u002f02\\u002f2022\",\"15\\u002f02\\u002f2022\",\"16\\u002f02\\u002f2022\",\"17\\u002f02\\u002f2022\",\"18\\u002f02\\u002f2022\",\"22\\u002f02\\u002f2022\",\"23\\u002f02\\u002f2022\",\"24\\u002f02\\u002f2022\",\"25\\u002f02\\u002f2022\",\"28\\u002f02\\u002f2022\",\"01\\u002f03\\u002f2022\",\"02\\u002f03\\u002f2022\",\"03\\u002f03\\u002f2022\",\"04\\u002f03\\u002f2022\",\"07\\u002f03\\u002f2022\",\"08\\u002f03\\u002f2022\",\"09\\u002f03\\u002f2022\",\"10\\u002f03\\u002f2022\",\"11\\u002f03\\u002f2022\",\"14\\u002f03\\u002f2022\",\"15\\u002f03\\u002f2022\",\"16\\u002f03\\u002f2022\",\"17\\u002f03\\u002f2022\",\"18\\u002f03\\u002f2022\",\"21\\u002f03\\u002f2022\",\"22\\u002f03\\u002f2022\",\"23\\u002f03\\u002f2022\",\"24\\u002f03\\u002f2022\",\"25\\u002f03\\u002f2022\",\"28\\u002f03\\u002f2022\",\"29\\u002f03\\u002f2022\",\"30\\u002f03\\u002f2022\",\"31\\u002f03\\u002f2022\",\"01\\u002f04\\u002f2022\",\"04\\u002f04\\u002f2022\",\"05\\u002f04\\u002f2022\",\"06\\u002f04\\u002f2022\",\"07\\u002f04\\u002f2022\",\"08\\u002f04\\u002f2022\",\"11\\u002f04\\u002f2022\",\"12\\u002f04\\u002f2022\",\"13\\u002f04\\u002f2022\",\"14\\u002f04\\u002f2022\",\"18\\u002f04\\u002f2022\",\"19\\u002f04\\u002f2022\",\"20\\u002f04\\u002f2022\",\"21\\u002f04\\u002f2022\",\"22\\u002f04\\u002f2022\",\"25\\u002f04\\u002f2022\",\"26\\u002f04\\u002f2022\",\"27\\u002f04\\u002f2022\",\"28\\u002f04\\u002f2022\",\"29\\u002f04\\u002f2022\",\"02\\u002f05\\u002f2022\",\"03\\u002f05\\u002f2022\",\"04\\u002f05\\u002f2022\",\"05\\u002f05\\u002f2022\",\"06\\u002f05\\u002f2022\",\"09\\u002f05\\u002f2022\",\"10\\u002f05\\u002f2022\",\"11\\u002f05\\u002f2022\",\"12\\u002f05\\u002f2022\",\"13\\u002f05\\u002f2022\",\"16\\u002f05\\u002f2022\",\"17\\u002f05\\u002f2022\",\"18\\u002f05\\u002f2022\",\"19\\u002f05\\u002f2022\",\"20\\u002f05\\u002f2022\",\"23\\u002f05\\u002f2022\",\"24\\u002f05\\u002f2022\",\"25\\u002f05\\u002f2022\",\"26\\u002f05\\u002f2022\",\"27\\u002f05\\u002f2022\",\"31\\u002f05\\u002f2022\",\"01\\u002f06\\u002f2022\",\"02\\u002f06\\u002f2022\",\"03\\u002f06\\u002f2022\",\"06\\u002f06\\u002f2022\",\"07\\u002f06\\u002f2022\",\"08\\u002f06\\u002f2022\",\"09\\u002f06\\u002f2022\",\"10\\u002f06\\u002f2022\",\"13\\u002f06\\u002f2022\",\"14\\u002f06\\u002f2022\",\"15\\u002f06\\u002f2022\",\"16\\u002f06\\u002f2022\",\"17\\u002f06\\u002f2022\",\"21\\u002f06\\u002f2022\",\"22\\u002f06\\u002f2022\",\"23\\u002f06\\u002f2022\",\"24\\u002f06\\u002f2022\",\"27\\u002f06\\u002f2022\",\"28\\u002f06\\u002f2022\",\"29\\u002f06\\u002f2022\",\"30\\u002f06\\u002f2022\",\"01\\u002f07\\u002f2022\",\"05\\u002f07\\u002f2022\",\"06\\u002f07\\u002f2022\",\"07\\u002f07\\u002f2022\",\"08\\u002f07\\u002f2022\",\"11\\u002f07\\u002f2022\",\"12\\u002f07\\u002f2022\",\"13\\u002f07\\u002f2022\",\"14\\u002f07\\u002f2022\",\"15\\u002f07\\u002f2022\",\"18\\u002f07\\u002f2022\",\"19\\u002f07\\u002f2022\",\"20\\u002f07\\u002f2022\",\"21\\u002f07\\u002f2022\",\"22\\u002f07\\u002f2022\",\"25\\u002f07\\u002f2022\",\"26\\u002f07\\u002f2022\",\"27\\u002f07\\u002f2022\",\"28\\u002f07\\u002f2022\",\"29\\u002f07\\u002f2022\",\"01\\u002f08\\u002f2022\",\"02\\u002f08\\u002f2022\",\"03\\u002f08\\u002f2022\",\"04\\u002f08\\u002f2022\",\"05\\u002f08\\u002f2022\",\"08\\u002f08\\u002f2022\",\"09\\u002f08\\u002f2022\",\"10\\u002f08\\u002f2022\",\"11\\u002f08\\u002f2022\",\"12\\u002f08\\u002f2022\",\"15\\u002f08\\u002f2022\",\"16\\u002f08\\u002f2022\",\"17\\u002f08\\u002f2022\",\"18\\u002f08\\u002f2022\",\"19\\u002f08\\u002f2022\",\"22\\u002f08\\u002f2022\",\"23\\u002f08\\u002f2022\",\"24\\u002f08\\u002f2022\",\"25\\u002f08\\u002f2022\",\"26\\u002f08\\u002f2022\",\"29\\u002f08\\u002f2022\",\"30\\u002f08\\u002f2022\",\"31\\u002f08\\u002f2022\",\"01\\u002f09\\u002f2022\",\"02\\u002f09\\u002f2022\",\"06\\u002f09\\u002f2022\",\"07\\u002f09\\u002f2022\",\"08\\u002f09\\u002f2022\",\"09\\u002f09\\u002f2022\",\"12\\u002f09\\u002f2022\",\"13\\u002f09\\u002f2022\",\"14\\u002f09\\u002f2022\",\"15\\u002f09\\u002f2022\",\"16\\u002f09\\u002f2022\",\"19\\u002f09\\u002f2022\",\"20\\u002f09\\u002f2022\",\"21\\u002f09\\u002f2022\",\"22\\u002f09\\u002f2022\",\"23\\u002f09\\u002f2022\",\"26\\u002f09\\u002f2022\",\"27\\u002f09\\u002f2022\",\"28\\u002f09\\u002f2022\",\"29\\u002f09\\u002f2022\",\"30\\u002f09\\u002f2022\",\"03\\u002f10\\u002f2022\",\"04\\u002f10\\u002f2022\",\"05\\u002f10\\u002f2022\",\"06\\u002f10\\u002f2022\",\"07\\u002f10\\u002f2022\",\"10\\u002f10\\u002f2022\",\"11\\u002f10\\u002f2022\",\"12\\u002f10\\u002f2022\",\"13\\u002f10\\u002f2022\",\"14\\u002f10\\u002f2022\",\"17\\u002f10\\u002f2022\",\"18\\u002f10\\u002f2022\",\"19\\u002f10\\u002f2022\",\"20\\u002f10\\u002f2022\",\"21\\u002f10\\u002f2022\",\"24\\u002f10\\u002f2022\",\"25\\u002f10\\u002f2022\",\"26\\u002f10\\u002f2022\",\"27\\u002f10\\u002f2022\",\"28\\u002f10\\u002f2022\",\"31\\u002f10\\u002f2022\",\"01\\u002f11\\u002f2022\",\"02\\u002f11\\u002f2022\",\"03\\u002f11\\u002f2022\",\"04\\u002f11\\u002f2022\",\"07\\u002f11\\u002f2022\",\"08\\u002f11\\u002f2022\",\"09\\u002f11\\u002f2022\",\"10\\u002f11\\u002f2022\",\"11\\u002f11\\u002f2022\",\"14\\u002f11\\u002f2022\",\"15\\u002f11\\u002f2022\",\"16\\u002f11\\u002f2022\",\"17\\u002f11\\u002f2022\",\"18\\u002f11\\u002f2022\",\"21\\u002f11\\u002f2022\",\"22\\u002f11\\u002f2022\",\"23\\u002f11\\u002f2022\",\"25\\u002f11\\u002f2022\",\"28\\u002f11\\u002f2022\",\"29\\u002f11\\u002f2022\",\"30\\u002f11\\u002f2022\",\"01\\u002f12\\u002f2022\",\"02\\u002f12\\u002f2022\",\"05\\u002f12\\u002f2022\",\"06\\u002f12\\u002f2022\",\"07\\u002f12\\u002f2022\",\"08\\u002f12\\u002f2022\",\"09\\u002f12\\u002f2022\",\"12\\u002f12\\u002f2022\",\"13\\u002f12\\u002f2022\",\"14\\u002f12\\u002f2022\",\"15\\u002f12\\u002f2022\",\"16\\u002f12\\u002f2022\",\"19\\u002f12\\u002f2022\",\"20\\u002f12\\u002f2022\",\"21\\u002f12\\u002f2022\",\"22\\u002f12\\u002f2022\",\"23\\u002f12\\u002f2022\",\"27\\u002f12\\u002f2022\",\"28\\u002f12\\u002f2022\",\"29\\u002f12\\u002f2022\",\"30\\u002f12\\u002f2022\",\"03\\u002f01\\u002f2023\",\"04\\u002f01\\u002f2023\",\"05\\u002f01\\u002f2023\",\"06\\u002f01\\u002f2023\",\"09\\u002f01\\u002f2023\",\"10\\u002f01\\u002f2023\",\"11\\u002f01\\u002f2023\",\"12\\u002f01\\u002f2023\",\"13\\u002f01\\u002f2023\",\"17\\u002f01\\u002f2023\",\"18\\u002f01\\u002f2023\",\"19\\u002f01\\u002f2023\",\"20\\u002f01\\u002f2023\",\"23\\u002f01\\u002f2023\",\"24\\u002f01\\u002f2023\",\"25\\u002f01\\u002f2023\",\"26\\u002f01\\u002f2023\",\"27\\u002f01\\u002f2023\",\"30\\u002f01\\u002f2023\",\"31\\u002f01\\u002f2023\",\"01\\u002f02\\u002f2023\",\"02\\u002f02\\u002f2023\",\"03\\u002f02\\u002f2023\",\"06\\u002f02\\u002f2023\",\"07\\u002f02\\u002f2023\",\"08\\u002f02\\u002f2023\",\"09\\u002f02\\u002f2023\",\"10\\u002f02\\u002f2023\",\"13\\u002f02\\u002f2023\",\"14\\u002f02\\u002f2023\",\"15\\u002f02\\u002f2023\",\"16\\u002f02\\u002f2023\",\"17\\u002f02\\u002f2023\",\"21\\u002f02\\u002f2023\",\"22\\u002f02\\u002f2023\",\"23\\u002f02\\u002f2023\",\"24\\u002f02\\u002f2023\",\"27\\u002f02\\u002f2023\",\"28\\u002f02\\u002f2023\",\"01\\u002f03\\u002f2023\",\"02\\u002f03\\u002f2023\",\"03\\u002f03\\u002f2023\",\"06\\u002f03\\u002f2023\",\"07\\u002f03\\u002f2023\",\"08\\u002f03\\u002f2023\",\"09\\u002f03\\u002f2023\",\"10\\u002f03\\u002f2023\",\"13\\u002f03\\u002f2023\",\"14\\u002f03\\u002f2023\",\"15\\u002f03\\u002f2023\",\"16\\u002f03\\u002f2023\",\"17\\u002f03\\u002f2023\",\"20\\u002f03\\u002f2023\",\"21\\u002f03\\u002f2023\",\"22\\u002f03\\u002f2023\",\"23\\u002f03\\u002f2023\",\"24\\u002f03\\u002f2023\",\"27\\u002f03\\u002f2023\",\"28\\u002f03\\u002f2023\",\"29\\u002f03\\u002f2023\",\"30\\u002f03\\u002f2023\",\"31\\u002f03\\u002f2023\",\"03\\u002f04\\u002f2023\",\"04\\u002f04\\u002f2023\",\"05\\u002f04\\u002f2023\",\"06\\u002f04\\u002f2023\",\"10\\u002f04\\u002f2023\",\"11\\u002f04\\u002f2023\",\"12\\u002f04\\u002f2023\",\"13\\u002f04\\u002f2023\",\"14\\u002f04\\u002f2023\",\"17\\u002f04\\u002f2023\",\"18\\u002f04\\u002f2023\",\"19\\u002f04\\u002f2023\",\"20\\u002f04\\u002f2023\",\"21\\u002f04\\u002f2023\",\"24\\u002f04\\u002f2023\",\"25\\u002f04\\u002f2023\",\"26\\u002f04\\u002f2023\",\"27\\u002f04\\u002f2023\",\"28\\u002f04\\u002f2023\",\"01\\u002f05\\u002f2023\",\"02\\u002f05\\u002f2023\",\"03\\u002f05\\u002f2023\",\"04\\u002f05\\u002f2023\",\"05\\u002f05\\u002f2023\",\"08\\u002f05\\u002f2023\",\"09\\u002f05\\u002f2023\",\"10\\u002f05\\u002f2023\",\"11\\u002f05\\u002f2023\",\"12\\u002f05\\u002f2023\",\"15\\u002f05\\u002f2023\",\"16\\u002f05\\u002f2023\",\"17\\u002f05\\u002f2023\",\"18\\u002f05\\u002f2023\",\"19\\u002f05\\u002f2023\",\"22\\u002f05\\u002f2023\",\"23\\u002f05\\u002f2023\",\"24\\u002f05\\u002f2023\",\"25\\u002f05\\u002f2023\",\"26\\u002f05\\u002f2023\",\"30\\u002f05\\u002f2023\",\"31\\u002f05\\u002f2023\",\"01\\u002f06\\u002f2023\",\"02\\u002f06\\u002f2023\",\"05\\u002f06\\u002f2023\",\"06\\u002f06\\u002f2023\",\"07\\u002f06\\u002f2023\",\"08\\u002f06\\u002f2023\",\"09\\u002f06\\u002f2023\",\"12\\u002f06\\u002f2023\",\"13\\u002f06\\u002f2023\",\"14\\u002f06\\u002f2023\",\"15\\u002f06\\u002f2023\",\"16\\u002f06\\u002f2023\",\"20\\u002f06\\u002f2023\",\"21\\u002f06\\u002f2023\",\"22\\u002f06\\u002f2023\",\"23\\u002f06\\u002f2023\",\"26\\u002f06\\u002f2023\",\"27\\u002f06\\u002f2023\",\"28\\u002f06\\u002f2023\",\"29\\u002f06\\u002f2023\",\"30\\u002f06\\u002f2023\",\"03\\u002f07\\u002f2023\",\"05\\u002f07\\u002f2023\",\"06\\u002f07\\u002f2023\",\"07\\u002f07\\u002f2023\",\"10\\u002f07\\u002f2023\",\"11\\u002f07\\u002f2023\",\"12\\u002f07\\u002f2023\",\"13\\u002f07\\u002f2023\",\"14\\u002f07\\u002f2023\",\"17\\u002f07\\u002f2023\",\"18\\u002f07\\u002f2023\",\"19\\u002f07\\u002f2023\",\"20\\u002f07\\u002f2023\",\"21\\u002f07\\u002f2023\",\"24\\u002f07\\u002f2023\",\"25\\u002f07\\u002f2023\",\"26\\u002f07\\u002f2023\",\"27\\u002f07\\u002f2023\",\"28\\u002f07\\u002f2023\",\"31\\u002f07\\u002f2023\",\"01\\u002f08\\u002f2023\",\"02\\u002f08\\u002f2023\",\"03\\u002f08\\u002f2023\",\"04\\u002f08\\u002f2023\",\"07\\u002f08\\u002f2023\",\"08\\u002f08\\u002f2023\",\"09\\u002f08\\u002f2023\",\"10\\u002f08\\u002f2023\",\"11\\u002f08\\u002f2023\",\"14\\u002f08\\u002f2023\",\"15\\u002f08\\u002f2023\",\"16\\u002f08\\u002f2023\",\"17\\u002f08\\u002f2023\",\"18\\u002f08\\u002f2023\",\"21\\u002f08\\u002f2023\",\"22\\u002f08\\u002f2023\",\"23\\u002f08\\u002f2023\",\"24\\u002f08\\u002f2023\",\"25\\u002f08\\u002f2023\",\"28\\u002f08\\u002f2023\",\"29\\u002f08\\u002f2023\",\"30\\u002f08\\u002f2023\",\"31\\u002f08\\u002f2023\",\"01\\u002f09\\u002f2023\",\"05\\u002f09\\u002f2023\",\"06\\u002f09\\u002f2023\",\"07\\u002f09\\u002f2023\",\"08\\u002f09\\u002f2023\",\"11\\u002f09\\u002f2023\",\"12\\u002f09\\u002f2023\",\"13\\u002f09\\u002f2023\",\"14\\u002f09\\u002f2023\",\"15\\u002f09\\u002f2023\",\"18\\u002f09\\u002f2023\",\"19\\u002f09\\u002f2023\",\"20\\u002f09\\u002f2023\",\"21\\u002f09\\u002f2023\",\"22\\u002f09\\u002f2023\",\"25\\u002f09\\u002f2023\",\"26\\u002f09\\u002f2023\",\"27\\u002f09\\u002f2023\",\"28\\u002f09\\u002f2023\",\"29\\u002f09\\u002f2023\",\"02\\u002f10\\u002f2023\",\"03\\u002f10\\u002f2023\",\"04\\u002f10\\u002f2023\",\"05\\u002f10\\u002f2023\",\"06\\u002f10\\u002f2023\",\"09\\u002f10\\u002f2023\",\"10\\u002f10\\u002f2023\",\"11\\u002f10\\u002f2023\",\"12\\u002f10\\u002f2023\",\"13\\u002f10\\u002f2023\",\"16\\u002f10\\u002f2023\",\"17\\u002f10\\u002f2023\",\"18\\u002f10\\u002f2023\",\"19\\u002f10\\u002f2023\",\"20\\u002f10\\u002f2023\",\"23\\u002f10\\u002f2023\",\"24\\u002f10\\u002f2023\",\"25\\u002f10\\u002f2023\",\"26\\u002f10\\u002f2023\",\"27\\u002f10\\u002f2023\",\"30\\u002f10\\u002f2023\",\"31\\u002f10\\u002f2023\",\"01\\u002f11\\u002f2023\",\"02\\u002f11\\u002f2023\",\"03\\u002f11\\u002f2023\",\"06\\u002f11\\u002f2023\",\"07\\u002f11\\u002f2023\",\"08\\u002f11\\u002f2023\",\"09\\u002f11\\u002f2023\",\"10\\u002f11\\u002f2023\",\"13\\u002f11\\u002f2023\",\"14\\u002f11\\u002f2023\",\"15\\u002f11\\u002f2023\",\"16\\u002f11\\u002f2023\",\"17\\u002f11\\u002f2023\",\"20\\u002f11\\u002f2023\",\"21\\u002f11\\u002f2023\",\"22\\u002f11\\u002f2023\",\"24\\u002f11\\u002f2023\",\"27\\u002f11\\u002f2023\",\"28\\u002f11\\u002f2023\",\"29\\u002f11\\u002f2023\",\"30\\u002f11\\u002f2023\",\"01\\u002f12\\u002f2023\",\"04\\u002f12\\u002f2023\",\"05\\u002f12\\u002f2023\",\"06\\u002f12\\u002f2023\",\"07\\u002f12\\u002f2023\",\"08\\u002f12\\u002f2023\",\"11\\u002f12\\u002f2023\",\"12\\u002f12\\u002f2023\",\"13\\u002f12\\u002f2023\",\"14\\u002f12\\u002f2023\",\"15\\u002f12\\u002f2023\",\"18\\u002f12\\u002f2023\",\"19\\u002f12\\u002f2023\",\"20\\u002f12\\u002f2023\",\"21\\u002f12\\u002f2023\",\"22\\u002f12\\u002f2023\",\"26\\u002f12\\u002f2023\",\"27\\u002f12\\u002f2023\",\"28\\u002f12\\u002f2023\",\"29\\u002f12\\u002f2023\",\"02\\u002f01\\u002f2024\",\"03\\u002f01\\u002f2024\",\"04\\u002f01\\u002f2024\",\"05\\u002f01\\u002f2024\",\"08\\u002f01\\u002f2024\",\"09\\u002f01\\u002f2024\",\"10\\u002f01\\u002f2024\",\"11\\u002f01\\u002f2024\",\"12\\u002f01\\u002f2024\",\"16\\u002f01\\u002f2024\",\"17\\u002f01\\u002f2024\",\"18\\u002f01\\u002f2024\",\"19\\u002f01\\u002f2024\",\"22\\u002f01\\u002f2024\",\"23\\u002f01\\u002f2024\",\"24\\u002f01\\u002f2024\",\"25\\u002f01\\u002f2024\",\"26\\u002f01\\u002f2024\",\"29\\u002f01\\u002f2024\",\"30\\u002f01\\u002f2024\",\"31\\u002f01\\u002f2024\",\"01\\u002f02\\u002f2024\",\"02\\u002f02\\u002f2024\",\"05\\u002f02\\u002f2024\",\"06\\u002f02\\u002f2024\",\"07\\u002f02\\u002f2024\",\"08\\u002f02\\u002f2024\",\"09\\u002f02\\u002f2024\",\"12\\u002f02\\u002f2024\",\"13\\u002f02\\u002f2024\",\"14\\u002f02\\u002f2024\",\"15\\u002f02\\u002f2024\",\"16\\u002f02\\u002f2024\",\"20\\u002f02\\u002f2024\",\"21\\u002f02\\u002f2024\",\"22\\u002f02\\u002f2024\",\"23\\u002f02\\u002f2024\",\"26\\u002f02\\u002f2024\",\"27\\u002f02\\u002f2024\",\"28\\u002f02\\u002f2024\",\"29\\u002f02\\u002f2024\",\"01\\u002f03\\u002f2024\",\"04\\u002f03\\u002f2024\",\"05\\u002f03\\u002f2024\",\"06\\u002f03\\u002f2024\",\"07\\u002f03\\u002f2024\",\"08\\u002f03\\u002f2024\",\"11\\u002f03\\u002f2024\",\"12\\u002f03\\u002f2024\",\"13\\u002f03\\u002f2024\",\"14\\u002f03\\u002f2024\",\"15\\u002f03\\u002f2024\",\"18\\u002f03\\u002f2024\",\"19\\u002f03\\u002f2024\",\"20\\u002f03\\u002f2024\",\"21\\u002f03\\u002f2024\",\"22\\u002f03\\u002f2024\",\"25\\u002f03\\u002f2024\",\"26\\u002f03\\u002f2024\",\"27\\u002f03\\u002f2024\",\"28\\u002f03\\u002f2024\",\"01\\u002f04\\u002f2024\",\"02\\u002f04\\u002f2024\",\"03\\u002f04\\u002f2024\",\"04\\u002f04\\u002f2024\",\"05\\u002f04\\u002f2024\",\"08\\u002f04\\u002f2024\",\"09\\u002f04\\u002f2024\",\"10\\u002f04\\u002f2024\",\"11\\u002f04\\u002f2024\",\"12\\u002f04\\u002f2024\",\"15\\u002f04\\u002f2024\",\"16\\u002f04\\u002f2024\",\"17\\u002f04\\u002f2024\",\"18\\u002f04\\u002f2024\",\"19\\u002f04\\u002f2024\",\"22\\u002f04\\u002f2024\",\"23\\u002f04\\u002f2024\",\"24\\u002f04\\u002f2024\",\"25\\u002f04\\u002f2024\",\"26\\u002f04\\u002f2024\",\"29\\u002f04\\u002f2024\",\"30\\u002f04\\u002f2024\",\"01\\u002f05\\u002f2024\",\"02\\u002f05\\u002f2024\",\"03\\u002f05\\u002f2024\",\"06\\u002f05\\u002f2024\"],\"y\":[50806800,37059400,31518900,28353000,20786500,22495300,26872800,18342500,17556700,21872600,12376600,25414300,25076600,18181100,13602800,17487200,26488500,27116800,17225000,13566200,14750700,16650900,25390000,30329600,24396200,27471000,21758300,18794000,19937700,16879200,14528000,22948700,20461000,24681300,22635000,40012600,17901800,16116800,16764600,13987700,17795000,16637600,10747000,10593300,12870500,14537900,15998000,20564500,27962800,14722000,24942400,16226800,14104900,14797100,16868500,22645600,20814700,16925000,28710700,38878100,25108500,28348800,21629900,21871600,21579500,18023800,58458300,188119900,89342200,88613800,94729700,86563300,49310400,46156900,38184000,42685500,45817500,38747500,37128400,39852400,44481400,49957200,37627600,34239800,27094900,29452100,27263500,32130900,38560600,37508100,31894700,24853000,34694500,31010500,31721700,40640300,29499700,52128000,30142300,31998800,23717300,31502300,40039000,26224100,31417900,25588000,24192300,19544800,28054800,29727200,28995100,21037200,18375700,20516600,20128800,19231800,18379500,16580800,20089900,43036500,49954100,36426800,29281100,31747400,71062900,100890600,49193400,49915300,41556300,41375900,41129200,34747200,36303200,34452500,31153400,38262200,24549800,27112600,24872700,23960000,24446900,31465600,25059200,50406300,28030200,23056500,22562700,26131100,36623500,31951600,19465000,30574200,18828700,22267200,23501600,27450800,31749300,27244300,30008300,26944100,31374200,50724900,47267800,40499200,68736000,29174600,27744500,28595200,35250600,31423900,28618600,23085900,24083400,19249200,21885600,16639700,16555100,23765200,23342800,23574300,25933700,24784300,27195800,42583900,26166300,28468400,43846600,73214300,42065400,40596700,27374500,31721900,23938200,25832700,27299100,18655100,30262100,24079100,21274000,15878700,21156700,20118100,18844500,26240800,19499700,18111800,20891500,15550500,24023600,20052700,19567900,40953000,30145700,22634200,19339800,16831200,22530800,22086800,23220400,44444100,43064200,34606300,40122800,22169500,23217400,38338600,34418500,31710700,30497000,30826500,32658500,38985400,33166400,27723100,34670700,27979300,36231100,33214800,24024000,38481400,34605200,34325700,23559400,29612200,25445000,30691000,26356300,46348600,63563400,38433200,82791500,232316600,95928300,121361400,110189600,71821100,60664000,55638100,81987300,52088300,107677300,80671000,59961700,53395000,50670500,33287800,35093800,33357700,24351100,29029000,21343100,12007600,23309400,23899200,43348600,36551400,39950500,35474900,43689200,29461100,30619400,26033400,24747100,44701100,36922000,34531000,67064000,29769900,28742500,20392800,23618100,17796600,21392300,19612500,22366200,19583800,35528500,32397100,25447100,27584500,26649100,28684400,25423000,30757700,22423800,21147600,20215500,28625200,28688600,27470100,21970200,26622000,25482100,35771900,28040100,29842100,55661000,150475700,76809700,42483800,47080700,36139100,37118800,33433600,31463200,24034600,25308900,25827500,24171300,34592600,22433200,20017800,19791300,19277000,46051100,30998400,17352000,45877700,33209400,36701500,19432400,26582800,25665000,24728000,41642600,42123600,50447100,50141100,25186300,31827000,28477800,27389700,27716400,18527200,19127300,18851100,22608300,25440300,17924600,21026400,19396600,26104400,16106100,16710100,18972200,23310400,21591200,15481900,12281000,15898100,16475400,17717200,15750900,19198200,41992700,71196500,39554000,29143900,24350100,34463900,17889400,26978900,16400500,16865600,19119000,20449000,16155300,20653200,18163800,21193100,22943300,21599800,27738500,17748100,17724300,22371400,25727200,23816500,25473700,25609500,19405300,20742900,19419000,26163600,20899400,16938500,15442500,16164000,19175100,25973500,43102500,20701600,20556200,17563100,50988400,24232700,26108300,16722100,15395700,19676000,8629300,33865500,47600500,25546200,37058300,27585900,36677100,30281000,22576000,25323100,20764600,21763700,23836900,42089700,24915700,19585600,47256900,64229200,39220300,25799600,22817900,20461100,15180200,17600200,16236500,15183500,19955800,14358900,13967800,15641900,11623600,18547700,23950100,34061200,20181500,12999900,18287000,18360900,23701400,14239300,20844500,17717000,17229900,12819800,14956000,15418100,33748700,17548000,19489300,13480400,13210900,19343100,28106400,14234200,15924400,19379500,21300500,25369600,18987000,19417200,36429800,22167100,25356600,16265600,17362300,16880500,19130000,21784000,22503700,19038000,22036300,20530500,21341000,16536100,16387800,16851000,18709200,22287400,17796800,19525500,42192500,66684100,29596300,28435100,19434200,20434600,21631800,16754100,12887700,14055600,13609700,16103100,19096200,16908900,17179400,14531200,18932600,14494400,16960500,12027900,10702700,5467500,15684500,12637200,16024500,23146400,15264700,19037100,16952100,11294300,15905100,14077500,25802500,18485500,16353300,19607300,30001600,18993900,17729400,16369900,15289600,11764200,9898600,13207900,11798800,14980500,19042200,15451100,12099900,13920700,13890200,13463900,22117200,17205400,19295700,15306900,12724800,16354300,21470100,17680500,15506100,15698500,15091100,13163700,18742400,18614700,20180800,29727100,84615500,40832400,21655200,23066000,18815100,18413100,19382000,20916600,16858400,24212300,23306500,18015500,12977100,21625800,18374300,12101400,10809600,12715500,17732000,16273600,12324100,15325300,11757900,18586400,18575200,20428300,15448200,12090700,12620000,29141700,11755300,10903100,11711100,9712500,8117000,8380600,11205400,9989700,15212800,9247000,11081000,12099200,26476300,19242000,13260600,10881400,11418500,10369500,11944900,13512900,9847900,12193700,14808700,25111000,17271100,15079200,37772700,82890700,32691400,21502600,18429500,20344900,15221300,16489100,15069800],\"type\":\"scatter\"}],                        {\"template\":{\"data\":{\"histogram2dcontour\":[{\"type\":\"histogram2dcontour\",\"colorbar\":{\"outlinewidth\":0,\"ticks\":\"\"},\"colorscale\":[[0.0,\"#0d0887\"],[0.1111111111111111,\"#46039f\"],[0.2222222222222222,\"#7201a8\"],[0.3333333333333333,\"#9c179e\"],[0.4444444444444444,\"#bd3786\"],[0.5555555555555556,\"#d8576b\"],[0.6666666666666666,\"#ed7953\"],[0.7777777777777778,\"#fb9f3a\"],[0.8888888888888888,\"#fdca26\"],[1.0,\"#f0f921\"]]}],\"choropleth\":[{\"type\":\"choropleth\",\"colorbar\":{\"outlinewidth\":0,\"ticks\":\"\"}}],\"histogram2d\":[{\"type\":\"histogram2d\",\"colorbar\":{\"outlinewidth\":0,\"ticks\":\"\"},\"colorscale\":[[0.0,\"#0d0887\"],[0.1111111111111111,\"#46039f\"],[0.2222222222222222,\"#7201a8\"],[0.3333333333333333,\"#9c179e\"],[0.4444444444444444,\"#bd3786\"],[0.5555555555555556,\"#d8576b\"],[0.6666666666666666,\"#ed7953\"],[0.7777777777777778,\"#fb9f3a\"],[0.8888888888888888,\"#fdca26\"],[1.0,\"#f0f921\"]]}],\"heatmap\":[{\"type\":\"heatmap\",\"colorbar\":{\"outlinewidth\":0,\"ticks\":\"\"},\"colorscale\":[[0.0,\"#0d0887\"],[0.1111111111111111,\"#46039f\"],[0.2222222222222222,\"#7201a8\"],[0.3333333333333333,\"#9c179e\"],[0.4444444444444444,\"#bd3786\"],[0.5555555555555556,\"#d8576b\"],[0.6666666666666666,\"#ed7953\"],[0.7777777777777778,\"#fb9f3a\"],[0.8888888888888888,\"#fdca26\"],[1.0,\"#f0f921\"]]}],\"heatmapgl\":[{\"type\":\"heatmapgl\",\"colorbar\":{\"outlinewidth\":0,\"ticks\":\"\"},\"colorscale\":[[0.0,\"#0d0887\"],[0.1111111111111111,\"#46039f\"],[0.2222222222222222,\"#7201a8\"],[0.3333333333333333,\"#9c179e\"],[0.4444444444444444,\"#bd3786\"],[0.5555555555555556,\"#d8576b\"],[0.6666666666666666,\"#ed7953\"],[0.7777777777777778,\"#fb9f3a\"],[0.8888888888888888,\"#fdca26\"],[1.0,\"#f0f921\"]]}],\"contourcarpet\":[{\"type\":\"contourcarpet\",\"colorbar\":{\"outlinewidth\":0,\"ticks\":\"\"}}],\"contour\":[{\"type\":\"contour\",\"colorbar\":{\"outlinewidth\":0,\"ticks\":\"\"},\"colorscale\":[[0.0,\"#0d0887\"],[0.1111111111111111,\"#46039f\"],[0.2222222222222222,\"#7201a8\"],[0.3333333333333333,\"#9c179e\"],[0.4444444444444444,\"#bd3786\"],[0.5555555555555556,\"#d8576b\"],[0.6666666666666666,\"#ed7953\"],[0.7777777777777778,\"#fb9f3a\"],[0.8888888888888888,\"#fdca26\"],[1.0,\"#f0f921\"]]}],\"surface\":[{\"type\":\"surface\",\"colorbar\":{\"outlinewidth\":0,\"ticks\":\"\"},\"colorscale\":[[0.0,\"#0d0887\"],[0.1111111111111111,\"#46039f\"],[0.2222222222222222,\"#7201a8\"],[0.3333333333333333,\"#9c179e\"],[0.4444444444444444,\"#bd3786\"],[0.5555555555555556,\"#d8576b\"],[0.6666666666666666,\"#ed7953\"],[0.7777777777777778,\"#fb9f3a\"],[0.8888888888888888,\"#fdca26\"],[1.0,\"#f0f921\"]]}],\"mesh3d\":[{\"type\":\"mesh3d\",\"colorbar\":{\"outlinewidth\":0,\"ticks\":\"\"}}],\"scatter\":[{\"fillpattern\":{\"fillmode\":\"overlay\",\"size\":10,\"solidity\":0.2},\"type\":\"scatter\"}],\"parcoords\":[{\"type\":\"parcoords\",\"line\":{\"colorbar\":{\"outlinewidth\":0,\"ticks\":\"\"}}}],\"scatterpolargl\":[{\"type\":\"scatterpolargl\",\"marker\":{\"colorbar\":{\"outlinewidth\":0,\"ticks\":\"\"}}}],\"bar\":[{\"error_x\":{\"color\":\"#2a3f5f\"},\"error_y\":{\"color\":\"#2a3f5f\"},\"marker\":{\"line\":{\"color\":\"#E5ECF6\",\"width\":0.5},\"pattern\":{\"fillmode\":\"overlay\",\"size\":10,\"solidity\":0.2}},\"type\":\"bar\"}],\"scattergeo\":[{\"type\":\"scattergeo\",\"marker\":{\"colorbar\":{\"outlinewidth\":0,\"ticks\":\"\"}}}],\"scatterpolar\":[{\"type\":\"scatterpolar\",\"marker\":{\"colorbar\":{\"outlinewidth\":0,\"ticks\":\"\"}}}],\"histogram\":[{\"marker\":{\"pattern\":{\"fillmode\":\"overlay\",\"size\":10,\"solidity\":0.2}},\"type\":\"histogram\"}],\"scattergl\":[{\"type\":\"scattergl\",\"marker\":{\"colorbar\":{\"outlinewidth\":0,\"ticks\":\"\"}}}],\"scatter3d\":[{\"type\":\"scatter3d\",\"line\":{\"colorbar\":{\"outlinewidth\":0,\"ticks\":\"\"}},\"marker\":{\"colorbar\":{\"outlinewidth\":0,\"ticks\":\"\"}}}],\"scattermapbox\":[{\"type\":\"scattermapbox\",\"marker\":{\"colorbar\":{\"outlinewidth\":0,\"ticks\":\"\"}}}],\"scatterternary\":[{\"type\":\"scatterternary\",\"marker\":{\"colorbar\":{\"outlinewidth\":0,\"ticks\":\"\"}}}],\"scattercarpet\":[{\"type\":\"scattercarpet\",\"marker\":{\"colorbar\":{\"outlinewidth\":0,\"ticks\":\"\"}}}],\"carpet\":[{\"aaxis\":{\"endlinecolor\":\"#2a3f5f\",\"gridcolor\":\"white\",\"linecolor\":\"white\",\"minorgridcolor\":\"white\",\"startlinecolor\":\"#2a3f5f\"},\"baxis\":{\"endlinecolor\":\"#2a3f5f\",\"gridcolor\":\"white\",\"linecolor\":\"white\",\"minorgridcolor\":\"white\",\"startlinecolor\":\"#2a3f5f\"},\"type\":\"carpet\"}],\"table\":[{\"cells\":{\"fill\":{\"color\":\"#EBF0F8\"},\"line\":{\"color\":\"white\"}},\"header\":{\"fill\":{\"color\":\"#C8D4E3\"},\"line\":{\"color\":\"white\"}},\"type\":\"table\"}],\"barpolar\":[{\"marker\":{\"line\":{\"color\":\"#E5ECF6\",\"width\":0.5},\"pattern\":{\"fillmode\":\"overlay\",\"size\":10,\"solidity\":0.2}},\"type\":\"barpolar\"}],\"pie\":[{\"automargin\":true,\"type\":\"pie\"}]},\"layout\":{\"autotypenumbers\":\"strict\",\"colorway\":[\"#636efa\",\"#EF553B\",\"#00cc96\",\"#ab63fa\",\"#FFA15A\",\"#19d3f3\",\"#FF6692\",\"#B6E880\",\"#FF97FF\",\"#FECB52\"],\"font\":{\"color\":\"#2a3f5f\"},\"hovermode\":\"closest\",\"hoverlabel\":{\"align\":\"left\"},\"paper_bgcolor\":\"white\",\"plot_bgcolor\":\"#E5ECF6\",\"polar\":{\"bgcolor\":\"#E5ECF6\",\"angularaxis\":{\"gridcolor\":\"white\",\"linecolor\":\"white\",\"ticks\":\"\"},\"radialaxis\":{\"gridcolor\":\"white\",\"linecolor\":\"white\",\"ticks\":\"\"}},\"ternary\":{\"bgcolor\":\"#E5ECF6\",\"aaxis\":{\"gridcolor\":\"white\",\"linecolor\":\"white\",\"ticks\":\"\"},\"baxis\":{\"gridcolor\":\"white\",\"linecolor\":\"white\",\"ticks\":\"\"},\"caxis\":{\"gridcolor\":\"white\",\"linecolor\":\"white\",\"ticks\":\"\"}},\"coloraxis\":{\"colorbar\":{\"outlinewidth\":0,\"ticks\":\"\"}},\"colorscale\":{\"sequential\":[[0.0,\"#0d0887\"],[0.1111111111111111,\"#46039f\"],[0.2222222222222222,\"#7201a8\"],[0.3333333333333333,\"#9c179e\"],[0.4444444444444444,\"#bd3786\"],[0.5555555555555556,\"#d8576b\"],[0.6666666666666666,\"#ed7953\"],[0.7777777777777778,\"#fb9f3a\"],[0.8888888888888888,\"#fdca26\"],[1.0,\"#f0f921\"]],\"sequentialminus\":[[0.0,\"#0d0887\"],[0.1111111111111111,\"#46039f\"],[0.2222222222222222,\"#7201a8\"],[0.3333333333333333,\"#9c179e\"],[0.4444444444444444,\"#bd3786\"],[0.5555555555555556,\"#d8576b\"],[0.6666666666666666,\"#ed7953\"],[0.7777777777777778,\"#fb9f3a\"],[0.8888888888888888,\"#fdca26\"],[1.0,\"#f0f921\"]],\"diverging\":[[0,\"#8e0152\"],[0.1,\"#c51b7d\"],[0.2,\"#de77ae\"],[0.3,\"#f1b6da\"],[0.4,\"#fde0ef\"],[0.5,\"#f7f7f7\"],[0.6,\"#e6f5d0\"],[0.7,\"#b8e186\"],[0.8,\"#7fbc41\"],[0.9,\"#4d9221\"],[1,\"#276419\"]]},\"xaxis\":{\"gridcolor\":\"white\",\"linecolor\":\"white\",\"ticks\":\"\",\"title\":{\"standoff\":15},\"zerolinecolor\":\"white\",\"automargin\":true,\"zerolinewidth\":2},\"yaxis\":{\"gridcolor\":\"white\",\"linecolor\":\"white\",\"ticks\":\"\",\"title\":{\"standoff\":15},\"zerolinecolor\":\"white\",\"automargin\":true,\"zerolinewidth\":2},\"scene\":{\"xaxis\":{\"backgroundcolor\":\"#E5ECF6\",\"gridcolor\":\"white\",\"linecolor\":\"white\",\"showbackground\":true,\"ticks\":\"\",\"zerolinecolor\":\"white\",\"gridwidth\":2},\"yaxis\":{\"backgroundcolor\":\"#E5ECF6\",\"gridcolor\":\"white\",\"linecolor\":\"white\",\"showbackground\":true,\"ticks\":\"\",\"zerolinecolor\":\"white\",\"gridwidth\":2},\"zaxis\":{\"backgroundcolor\":\"#E5ECF6\",\"gridcolor\":\"white\",\"linecolor\":\"white\",\"showbackground\":true,\"ticks\":\"\",\"zerolinecolor\":\"white\",\"gridwidth\":2}},\"shapedefaults\":{\"line\":{\"color\":\"#2a3f5f\"}},\"annotationdefaults\":{\"arrowcolor\":\"#2a3f5f\",\"arrowhead\":0,\"arrowwidth\":1},\"geo\":{\"bgcolor\":\"white\",\"landcolor\":\"#E5ECF6\",\"subunitcolor\":\"white\",\"showland\":true,\"showlakes\":true,\"lakecolor\":\"white\"},\"title\":{\"x\":0.05},\"mapbox\":{\"style\":\"light\"}}},\"xaxis\":{\"anchor\":\"y\",\"domain\":[0.0,1.0],\"title\":{\"text\":\"Date\"}},\"yaxis\":{\"anchor\":\"x\",\"domain\":[0.0,1.0],\"title\":{\"text\":\"Volume\"}},\"title\":{\"text\":\"Volume Over Time\"},\"showlegend\":true},                        {\"responsive\": true}                    ).then(function(){\n",
              "                            \n",
              "var gd = document.getElementById('b96fab6e-713b-41d2-bf41-007058620ebd');\n",
              "var x = new MutationObserver(function (mutations, observer) {{\n",
              "        var display = window.getComputedStyle(gd).display;\n",
              "        if (!display || display === 'none') {{\n",
              "            console.log([gd, 'removed!']);\n",
              "            Plotly.purge(gd);\n",
              "            observer.disconnect();\n",
              "        }}\n",
              "}});\n",
              "\n",
              "// Listen for the removal of the full notebook cells\n",
              "var notebookContainer = gd.closest('#notebook-container');\n",
              "if (notebookContainer) {{\n",
              "    x.observe(notebookContainer, {childList: true});\n",
              "}}\n",
              "\n",
              "// Listen for the clearing of the current output cell\n",
              "var outputEl = gd.closest('.output');\n",
              "if (outputEl) {{\n",
              "    x.observe(outputEl, {childList: true});\n",
              "}}\n",
              "\n",
              "                        })                };                            </script>        </div>\n",
              "</body>\n",
              "</html>"
            ]
          },
          "metadata": {}
        }
      ]
    },
    {
      "cell_type": "code",
      "source": [
        "figure = go.Figure(data=[go.Candlestick(\n",
        "    x=df['Date'],\n",
        "    open=df['Open'],\n",
        "    high=df['High'],\n",
        "    low=df['Low'],\n",
        "    close=df['Close']\n",
        ")])\n",
        "\n",
        "figure.update_layout(\n",
        "    title=\"Price Analysis Over Time\",\n",
        ")\n",
        "\n",
        "figure.show()"
      ],
      "metadata": {
        "colab": {
          "base_uri": "https://localhost:8080/",
          "height": 542
        },
        "id": "7lSzyJo6SZT6",
        "outputId": "e013fd09-3d96-4dd2-90da-b4ec3d582573"
      },
      "execution_count": 53,
      "outputs": [
        {
          "output_type": "display_data",
          "data": {
            "text/html": [
              "<html>\n",
              "<head><meta charset=\"utf-8\" /></head>\n",
              "<body>\n",
              "    <div>            <script src=\"https://cdnjs.cloudflare.com/ajax/libs/mathjax/2.7.5/MathJax.js?config=TeX-AMS-MML_SVG\"></script><script type=\"text/javascript\">if (window.MathJax && window.MathJax.Hub && window.MathJax.Hub.Config) {window.MathJax.Hub.Config({SVG: {font: \"STIX-Web\"}});}</script>                <script type=\"text/javascript\">window.PlotlyConfig = {MathJaxConfig: 'local'};</script>\n",
              "        <script charset=\"utf-8\" src=\"https://cdn.plot.ly/plotly-2.24.1.min.js\"></script>                <div id=\"64a3efef-fd31-472d-baf0-81288a3160a1\" class=\"plotly-graph-div\" style=\"height:525px; width:100%;\"></div>            <script type=\"text/javascript\">                                    window.PLOTLYENV=window.PLOTLYENV || {};                                    if (document.getElementById(\"64a3efef-fd31-472d-baf0-81288a3160a1\")) {                    Plotly.newPlot(                        \"64a3efef-fd31-472d-baf0-81288a3160a1\",                        [{\"close\":[316.920013,323.570007,329.980011,328.079987,331.619995,335.850006,341.130005,338.619995,335.369995,327.640015,327.73999,340.890015,347.559998,342.959991,340.769989,338.690002,345.299988,341.01001,337.25,341.059998,333.119995,338.029999,324.459991,310.600006,310.390015,306.839996,317.869995,322.809998,330.559998,329.820007,329.75,334.48999,333.73999,341.660004,334.899994,333.790009,325.450012,334.200012,330.450012,335.23999,346.179993,346.220001,342.940002,344.359985,336.350006,338.540009,336.529999,324.170013,332.459991,331.790009,328.070007,334.369995,333.26001,326.480011,331.899994,318.149994,319.589996,316.559998,303.170013,308.709991,300.149994,294.630005,294.640015,301.709991,313.26001,319.0,323.0,237.759995,237.089996,224.910004,220.179993,232.0,228.070007,219.550003,217.699997,221.0,216.539993,207.710007,206.160004,202.080002,198.449997,207.600006,210.479996,211.029999,203.490005,208.110001,202.970001,200.059998,187.470001,190.289993,198.5,195.210007,187.610001,186.630005,192.029999,203.630005,207.839996,216.490005,211.490005,216.649994,213.460007,219.570007,221.820007,223.589996,229.860001,227.850006,222.360001,224.850006,233.889999,231.839996,223.300003,222.949997,222.330002,216.460007,214.139999,214.990005,210.179993,210.770004,217.309998,200.419998,188.070007,184.110001,186.990005,180.949997,174.949997,205.729996,200.470001,211.130005,212.029999,223.410004,208.279999,203.770004,196.210007,197.649994,188.740005,191.240005,198.619995,200.039993,202.619995,192.240005,191.289993,193.539993,196.229996,181.279999,183.830002,191.630005,195.130005,193.639999,188.639999,198.860001,190.779999,194.25,195.649994,196.639999,184.0,175.570007,164.259995,163.729996,169.350006,160.869995,163.740005,157.050003,155.850006,158.75,170.160004,169.490005,160.679993,163.940002,161.25,160.029999,168.190002,169.770004,172.190002,170.880005,162.880005,163.270004,163.490005,158.050003,164.699997,167.229996,175.779999,183.089996,183.169998,169.270004,166.649994,159.149994,169.580002,160.720001,159.100006,159.929993,160.190002,168.800003,170.570007,167.110001,170.25,168.529999,178.339996,177.490005,180.5,180.889999,179.470001,174.850006,174.660004,167.960007,163.050003,161.110001,163.259995,168.779999,161.779999,159.169998,157.160004,162.929993,165.360001,160.320007,158.539993,160.389999,162.059998,169.149994,168.960007,153.130005,151.470001,149.550003,146.289993,148.020004,146.089996,142.119995,142.820007,140.410004,136.369995,134.399994,141.610001,136.410004,135.679993,138.610001,140.279999,138.979996,139.070007,133.449997,133.789993,128.539993,127.5,130.289993,126.760002,134.039993,132.800003,133.229996,131.529999,130.009995,129.720001,137.509995,129.820007,97.940002,99.199997,93.160004,95.199997,90.540001,88.910004,90.790001,96.720001,96.470001,101.470001,111.870003,113.019997,114.220001,117.080002,113.230003,111.449997,112.050003,109.860001,111.440002,112.239998,111.410004,108.779999,109.459999,118.099998,120.440002,123.489998,122.43,114.120003,113.93,115.330002,115.900002,114.709999,120.150002,121.589996,116.150002,119.43,114.480003,117.089996,119.760002,117.120003,118.040001,116.879997,115.620003,120.260002,120.339996,124.739998,127.370003,126.940002,130.020004,129.470001,132.990005,132.889999,136.710007,136.979996,135.360001,133.020004,136.149994,139.369995,143.270004,143.139999,141.5,147.300003,151.740005,147.059998,148.970001,153.119995,188.770004,186.529999,186.059998,191.619995,183.429993,177.919998,174.149994,179.429993,179.479996,177.160004,172.440002,172.880005,172.080002,171.119995,172.039993,170.389999,169.539993,174.940002,173.419998,174.529999,185.25,184.899994,184.509995,184.970001,181.690002,179.509995,180.899994,194.020004,197.75,204.929993,195.610001,197.809998,202.160004,199.809998,204.279999,206.009995,202.839996,200.679993,205.350006,207.839996,211.940002,213.070007,214.720001,211.479996,216.100006,214.75,213.850006,214.0,220.350006,221.490005,218.860001,217.889999,215.699997,213.070007,212.889999,212.789993,207.550003,209.399994,238.559998,240.320007,243.179993,239.240005,237.029999,233.520004,232.779999,233.270004,233.369995,233.080002,235.789993,233.809998,238.860001,238.820007,242.490005,246.850006,245.639999,248.320007,246.740005,249.210007,252.690002,262.040009,262.519989,264.720001,272.609985,272.609985,271.390015,271.119995,263.600006,264.579987,264.950012,271.049988,271.320007,273.350006,281.829987,281.0,284.329987,281.640015,284.880005,288.730011,278.470001,287.049988,285.290009,281.529999,286.980011,286.019989,294.369995,291.98999,290.529999,294.100006,298.290009,309.339996,313.410004,308.869995,310.619995,312.049988,316.01001,302.519989,294.26001,291.609985,294.470001,298.570007,311.709991,325.480011,318.600006,322.709991,314.309998,313.190002,310.730011,316.559998,312.640015,305.209991,305.73999,301.640015,306.190002,301.950012,294.290009,285.089996,283.25,289.899994,287.600006,294.23999,286.75,285.5,290.26001,297.98999,295.100006,295.890015,296.380005,300.149994,299.170013,298.670013,297.890015,307.559998,301.660004,305.059998,311.720001,300.309998,302.549988,305.070007,299.670013,295.730011,299.079987,300.829987,298.959991,297.73999,303.959991,300.209991,306.820007,300.940002,305.579987,304.790009,315.429993,318.359985,321.839996,327.820007,324.160004,314.690002,321.149994,324.0,316.970001,312.809998,308.649994,314.01001,312.549988,299.529999,288.350006,296.730011,302.660004,301.269989,311.850006,310.869995,314.600006,315.799988,318.820007,319.779999,320.549988,328.769989,329.190002,336.309998,332.709991,334.190002,335.040009,339.970001,336.980011,341.48999,338.230011,334.700012,338.98999,332.200012,327.149994,324.820007,320.019989,318.290009,317.450012,326.589996,332.75,325.279999,334.220001,334.73999,333.170013,334.920013,344.619995,350.359985,349.279999,354.089996,353.390015,354.829987,357.829987,358.320007,353.959991,346.290009,344.470001,347.119995,351.950012,358.660004,357.429993,370.470001,369.670013,374.48999,367.459991,368.369995,376.130005,383.450012,381.779999,385.200012,390.700012,393.179993,394.140015,401.019989,400.059998,390.140015,394.779999,474.98999,459.410004,454.720001,469.589996,470.0,468.109985,468.899994,460.119995,473.279999,484.029999,473.320007,471.75,468.029999,486.130005,484.029999,481.73999,487.049988,484.019989,490.130005,502.299988,498.190002,490.220001,496.089996,512.190002,505.950012,483.589996,499.75,495.570007,491.829987,484.100006,496.980011,496.23999,505.519989,507.76001,509.579987,503.019989,495.890015,493.859985,485.579987,491.350006,497.369995,506.73999,510.920013,527.340027,519.25,516.900024,519.830017,523.159973,511.899994,500.230011,499.76001,494.170013,501.799988,481.070007,481.730011,496.100006,493.5,441.380005,443.290009,432.619995,430.170013,439.190002,441.679993,451.959991,465.679993],\"high\":[325.519989,326.0,333.450012,334.790009,332.149994,337.269989,346.790009,344.790009,341.309998,333.190002,332.459991,341.859985,353.649994,346.649994,347.299988,342.459991,352.100006,353.829987,341.399994,341.779999,337.75,340.670013,335.809998,330.5,314.600006,313.75,320.100006,326.540009,332.75,336.130005,335.029999,341.089996,335.700012,342.109985,344.459991,337.109985,329.899994,336.0,334.51001,336.670013,347.869995,352.709991,349.690002,347.230011,343.440002,341.079987,343.089996,335.76001,339.170013,337.0,328.339996,334.630005,336.369995,335.630005,332.730011,324.209991,327.100006,327.820007,318.309998,309.529999,306.230011,307.51001,301.709991,301.899994,313.790009,319.660004,328.0,248.0,242.610001,238.300003,225.770004,233.369995,235.0,230.419998,221.0,221.149994,217.460007,217.5,210.75,207.479996,206.940002,208.350006,211.320007,213.149994,211.75,209.149994,209.080002,205.889999,200.889999,196.699997,199.100006,196.279999,193.559998,192.289993,192.279999,203.729996,208.039993,216.800003,214.710007,219.460007,216.800003,220.669998,225.5,224.039993,230.889999,231.149994,228.490005,227.279999,234.350006,236.860001,228.990005,225.520004,225.130005,220.610001,222.029999,216.610001,214.990005,213.380005,218.429993,214.160004,202.970001,192.720001,187.179993,187.190002,181.210007,208.529999,212.479996,211.880005,214.899994,224.300003,220.169998,209.380005,202.570007,202.960007,200.669998,198.050003,199.889999,205.369995,205.460007,201.0,195.289993,197.910004,196.990005,183.679993,185.449997,192.830002,195.330002,197.600006,199.529999,200.940002,196.610001,196.919998,196.529999,202.029999,199.449997,183.100006,172.580002,166.75,172.160004,165.080002,165.899994,167.759995,160.789993,159.75,170.25,171.75,171.300003,166.330002,165.229996,160.619995,168.25,171.589996,172.720001,172.399994,167.490005,165.910004,164.979996,162.589996,164.979996,171.690002,176.490005,183.600006,183.850006,175.600006,170.570007,166.0,170.869995,161.509995,160.139999,165.190002,162.240005,169.539993,172.149994,171.610001,177.509995,169.529999,180.479996,183.100006,181.460007,181.440002,180.990005,178.139999,175.759995,172.320007,165.490005,165.050003,165.460007,168.880005,170.919998,163.050003,161.660004,167.839996,167.360001,167.929993,161.690002,160.960007,162.229996,169.539993,171.389999,161.630005,153.539993,154.199997,148.580002,148.580002,148.839996,149.600006,144.580002,142.619995,142.240005,139.419998,142.029999,139.839996,140.990005,139.619995,142.389999,140.210007,141.449997,138.289993,136.110001,132.660004,129.669998,131.139999,131.789993,134.789993,137.839996,137.0,136.770004,130.119995,133.479996,138.350006,135.550003,102.5,100.849998,99.32,97.489998,95.199997,90.459999,91.389999,96.879997,97.800003,104.900002,112.75,114.900002,116.269997,118.739998,116.080002,112.330002,114.32,112.370003,111.620003,112.669998,112.730003,112.040001,110.940002,118.160004,121.199997,124.040001,124.669998,120.550003,115.879997,117.339996,117.540001,115.720001,123.300003,124.139999,118.629997,123.309998,117.800003,117.330002,120.339996,118.620003,118.18,118.599998,118.150002,121.029999,120.419998,126.370003,129.050003,128.520004,130.330002,132.949997,133.440002,133.850006,137.679993,137.389999,136.75,137.25,137.449997,139.940002,143.759995,145.0,143.169998,147.509995,153.190002,151.119995,149.880005,153.580002,197.160004,196.770004,190.699997,193.779999,190.830002,186.649994,178.889999,181.0,181.509995,178.190002,175.850006,173.179993,178.169998,172.759995,173.690002,170.720001,173.119995,177.550003,177.850006,175.009995,186.619995,189.660004,190.360001,185.259995,188.929993,184.770004,183.779999,194.320007,197.779999,205.759995,201.899994,199.360001,203.550003,207.369995,207.880005,207.580002,205.860001,201.029999,205.720001,208.089996,212.169998,213.490005,216.240005,215.190002,216.940002,215.660004,216.020004,216.839996,221.149994,222.110001,220.979996,220.440002,217.330002,216.75,213.410004,213.919998,211.259995,214.110001,241.690002,240.429993,244.0,244.919998,241.75,238.199997,234.679993,235.619995,235.880005,236.75,238.210007,236.960007,240.259995,239.639999,243.839996,247.089996,248.690002,253.570007,251.610001,249.589996,255.619995,262.309998,268.649994,265.0,274.0,275.350006,275.570007,276.570007,274.25,267.649994,267.950012,271.75,275.720001,274.98999,283.98999,287.850006,284.799988,284.0,285.26001,289.670013,289.790009,289.350006,289.549988,286.570007,289.049988,289.399994,298.119995,298.119995,296.200012,298.130005,300.179993,309.450012,316.23999,314.880005,311.709991,314.200012,318.679993,315.540009,305.459991,297.519989,298.299988,301.769989,325.350006,326.200012,325.660004,324.140015,318.390015,315.950012,318.410004,317.070007,317.890015,313.630005,312.339996,304.720001,306.209991,307.230011,301.079987,296.049988,285.690002,290.5,292.899994,297.399994,299.459991,288.390015,291.450012,299.149994,298.290009,301.100006,301.73999,301.390015,303.299988,307.049988,305.25,309.040009,308.660004,307.179993,312.869995,312.0,303.600006,306.170013,308.059998,300.26001,305.380005,300.950012,300.299988,301.299988,306.329987,310.640015,307.179993,306.769989,306.899994,306.209991,316.309998,320.329987,324.660004,328.839996,330.540009,325.049988,321.820007,324.399994,325.940002,321.890015,315.299988,317.359985,318.350006,310.880005,295.0,299.309998,309.399994,303.679993,312.73999,318.820007,315.549988,318.329987,321.0,321.329987,324.179993,329.100006,332.329987,338.100006,338.399994,334.579987,335.5,341.869995,339.899994,342.920013,341.859985,339.899994,339.380005,339.899994,333.5,326.859985,320.859985,321.880005,322.25,328.23999,333.170013,329.890015,334.470001,338.369995,334.700012,338.660004,347.559998,353.600006,354.959991,356.410004,357.200012,356.980011,359.0,361.899994,360.0,353.160004,347.950012,348.149994,353.5,358.980011,360.640015,372.940002,372.779999,377.059998,375.609985,368.540009,376.850006,384.359985,390.350006,388.380005,396.149994,395.48999,396.790009,402.929993,406.359985,398.0,400.5,485.959991,471.899994,467.119995,471.519989,470.589996,473.589996,479.149994,467.890015,474.109985,488.619995,478.959991,476.179993,469.0,489.98999,494.359985,486.140015,487.269989,491.049988,491.700012,504.25,504.420013,495.579987,502.970001,519.849976,523.570007,497.320007,502.309998,500.980011,501.350006,491.829987,497.420013,496.630005,508.200012,515.039978,509.970001,507.220001,510.0,499.890015,492.890015,497.429993,497.529999,507.23999,530.0,530.700012,531.48999,525.869995,522.559998,523.859985,520.190002,518.530029,504.769989,503.160004,512.210022,502.799988,492.01001,498.76001,510.0,445.769989,446.440002,439.76001,439.619995,449.959991,443.959991,454.170013,466.160004],\"low\":[308.109985,319.600006,326.0,323.799988,323.200012,332.649994,339.640015,338.339996,334.470001,325.51001,327.0,329.779999,343.200012,340.869995,340.100006,335.299988,339.899994,340.51001,333.5,332.809998,331.899994,335.309998,323.429993,310.290009,307.200012,299.5,306.339996,321.0,323.070007,328.0,326.369995,329.589996,327.649994,323.980011,333.73999,330.75,322.529999,323.75,328.26001,328.359985,338.01001,345.200012,341.640015,343.220001,336.269989,337.190002,331.869995,323.839996,322.720001,328.880005,315.429993,325.279999,330.029999,325.76001,321.209991,317.640015,319.329987,315.980011,303.040009,289.01001,297.579987,290.850006,294.26001,293.029999,299.320007,312.119995,316.869995,235.75,230.110001,224.009995,216.149994,222.210007,226.699997,218.770004,214.779999,215.059998,212.360001,207.160004,205.179993,200.059998,198.050003,190.220001,203.179993,206.830002,202.220001,202.020004,201.419998,198.789993,187.279999,186.110001,193.919998,191.070007,186.669998,185.820007,185.910004,194.520004,201.110001,206.0,207.630005,210.179993,212.160004,214.789993,218.889999,219.539993,225.289993,226.710007,222.259995,222.699997,225.860001,231.020004,221.410004,218.559998,220.029999,215.220001,213.130005,211.330002,210.0,208.300003,209.0,198.919998,185.580002,183.270004,181.660004,179.5,169.0,192.899994,199.899994,200.990005,208.089996,206.960007,206.160004,201.020004,195.580002,194.190002,188.270004,184.779999,191.279999,195.929993,198.360001,191.630005,189.600006,187.869995,191.240005,176.110001,179.320007,182.259995,189.800003,192.009995,185.0,187.729996,189.779999,188.399994,191.490005,194.410004,183.679993,175.020004,164.029999,161.360001,163.979996,159.610001,159.899994,155.970001,155.440002,154.25,161.300003,168.009995,160.610001,160.320007,158.490005,155.0,157.020004,165.460007,167.779999,168.149994,161.910004,162.100006,159.610001,157.279999,159.820007,165.639999,169.509995,176.699997,178.869995,168.410004,164.809998,157.949997,162.020004,154.850006,155.169998,155.229996,158.009995,161.570007,166.800003,165.800003,167.130005,166.600006,173.949997,176.369995,178.910004,178.199997,177.039993,174.169998,171.860001,167.050003,162.259995,160.699997,159.770004,164.020004,161.669998,159.009995,155.910004,162.139999,160.350006,159.220001,157.690002,156.809998,157.740005,163.020004,167.279999,152.669998,149.050003,148.699997,144.289993,145.100006,145.220001,142.0,140.869995,138.889999,136.190002,134.119995,134.270004,135.199997,135.5,136.100006,139.339996,134.779999,136.600006,132.440002,131.869995,126.989998,126.25,122.529999,126.519997,130.179993,131.399994,132.220001,131.309998,125.440002,124.57,130.589996,128.529999,96.379997,97.510002,92.599998,93.550003,90.480003,88.410004,88.089996,93.099998,94.790001,100.739998,104.610001,108.809998,110.800003,114.410004,112.660004,109.800003,110.620003,109.190002,108.32,110.730003,111.019997,108.379997,108.540001,109.379997,118.400002,117.610001,121.349998,113.739998,112.879997,114.589996,113.870003,113.139999,118.639999,119.389999,114.010002,118.82,114.330002,112.459999,115.620003,114.379997,115.540001,116.050003,115.510002,115.769997,117.739998,122.279999,125.849998,124.540001,126.040001,129.279999,127.150002,130.339996,131.759995,134.839996,134.25,132.800003,132.139999,134.610001,138.660004,141.360001,140.309998,143.300003,147.389999,146.949997,147.520004,147.059998,180.160004,182.889999,185.520004,184.399994,182.919998,177.270004,173.350006,175.820007,175.880005,175.330002,171.789993,169.699997,171.880005,169.690002,169.380005,167.660004,169.059998,171.869995,173.050003,171.429993,177.050003,184.639999,184.009995,181.339996,180.300003,178.800003,174.820007,186.559998,190.839996,196.089996,195.429993,193.639999,197.949997,199.669998,202.149994,203.550003,201.360001,197.899994,202.539993,202.820007,206.770004,208.199997,212.539993,209.940002,208.649994,210.660004,213.410004,212.580002,215.690002,217.550003,217.130005,216.210007,212.929993,212.770004,209.580002,210.710007,207.130005,208.880005,236.770004,235.75,236.460007,238.990005,232.75,232.929993,229.850006,230.270004,231.080002,230.720001,232.300003,231.449997,235.330002,235.520004,238.139999,241.190002,243.410004,245.119995,246.649994,244.949997,249.169998,252.710007,261.290009,258.450012,265.890015,271.119995,269.559998,269.690002,262.799988,258.880005,261.700012,265.329987,269.089996,268.320007,271.420013,280.130005,276.220001,278.359985,277.790009,278.950012,277.600006,280.649994,284.059998,280.690002,284.420013,284.850006,286.359985,291.309998,288.660004,287.049988,291.899994,300.100006,310.290009,307.359985,304.709991,307.619995,310.519989,302.220001,291.200012,288.299988,291.859985,291.899994,309.839996,314.25,317.589996,314.660004,310.649994,309.929993,310.200012,310.459991,310.109985,302.850006,303.869995,300.359985,298.25,300.029999,294.279999,284.950012,274.380005,281.850006,286.75,287.670013,286.640015,276.029999,285.799988,288.179993,293.429993,295.660004,294.470001,295.51001,295.660004,292.220001,296.779999,301.279999,300.230011,301.320007,305.029999,298.75,297.799988,299.809998,299.429993,293.269989,298.269989,293.700012,296.01001,286.790009,296.700012,299.359985,301.630005,299.640015,298.5,299.5,300.910004,311.820007,318.160004,322.950012,322.690002,312.369995,315.519989,317.299988,315.559998,311.75,306.470001,307.26001,310.630005,298.839996,279.399994,292.970001,299.049988,296.859985,301.850006,308.329987,311.019989,314.450012,315.119995,314.880005,318.799988,319.459991,325.700012,333.329987,330.019989,326.380005,329.350006,334.190002,335.899994,338.579987,336.769989,334.200012,333.399994,330.779999,322.399994,320.76001,313.660004,315.390015,317.040009,317.769989,323.0,320.0,324.559998,332.640015,328.640015,331.220001,337.019989,345.119995,347.790009,349.209991,351.220001,353.450012,355.309998,357.809998,351.820007,340.01001,343.179993,343.399994,346.26001,352.049988,355.359985,359.079987,362.929993,369.540009,367.230011,358.609985,370.950012,377.970001,381.160004,382.079987,387.809998,385.660004,391.589996,393.100006,399.570007,387.100006,393.049988,453.01001,459.220001,453.0,456.179993,465.029999,467.470001,466.579987,455.089996,466.089996,472.220001,469.209991,466.559998,461.790009,476.059998,482.350006,480.600006,479.920013,482.75,482.609985,491.850006,496.420013,487.890015,494.290009,501.380005,499.350006,476.0,484.730011,491.029999,488.160004,481.299988,486.809998,481.279999,495.170013,506.01001,504.339996,500.23999,495.209991,488.070007,485.149994,481.779999,484.649994,498.75,510.579987,514.409973,518.890015,506.73999,505.799988,517.289978,509.329987,497.279999,497.109985,487.140015,499.040009,475.730011,473.399994,488.970001,484.579987,414.5,431.959991,428.559998,429.720001,427.109985,432.279999,443.850006,453.339996],\"open\":[312.98999,320.190002,326.040009,331.380005,327.48999,334.01001,340.309998,344.420013,340.0,332.48999,329.820007,330.179993,344.339996,343.829987,344.23999,339.720001,342.200012,349.049988,338.929993,336.0,335.799988,336.890015,335.0,330.290009,311.399994,313.730011,308.130005,321.570007,325.0,329.540009,332.559998,330.950012,328.049988,332.48999,338.980011,332.799988,329.779999,326.410004,333.799988,330.100006,338.850006,346.630005,346.910004,344.0,343.019989,338.299988,339.950012,333.019989,322.820007,332.73999,325.309998,326.779999,335.179993,334.980011,321.790009,323.290009,319.579987,323.899994,314.809998,297.839996,299.950012,307.01001,297.75,295.619995,300.679993,314.559998,327.820007,244.649994,234.970001,237.699997,220.850006,224.199997,228.270004,228.460007,219.309998,220.470001,212.410004,214.020004,209.389999,202.339996,204.160004,191.059998,204.940002,207.679993,209.869995,204.779999,209.020004,202.369995,200.789993,187.850006,195.740005,194.839996,192.639999,187.029999,190.800003,194.699997,201.699997,206.699997,214.5,211.369995,213.330002,215.0,220.509995,222.130005,226.070007,228.910004,228.449997,224.550003,225.979996,234.080002,226.910004,223.929993,222.380005,218.419998,220.240005,211.820007,214.889999,210.0,210.520004,213.610001,201.600006,190.369995,182.729996,186.630005,174.429993,202.919998,204.460007,201.169998,210.449997,210.649994,218.740005,207.339996,199.839996,199.509995,196.330002,187.059998,192.580002,197.050003,202.119995,200.0,191.199997,194.970001,195.190002,180.550003,180.399994,182.880005,191.360001,194.889999,196.509995,188.449997,195.979996,193.990005,191.929993,194.669998,194.279999,183.039993,170.589996,166.029999,167.199997,163.720001,161.679993,165.929993,158.380005,156.270004,161.729996,171.320007,169.899994,163.570007,162.149994,160.309998,158.139999,168.199997,169.449997,169.979996,167.070007,164.800003,160.160004,161.220001,160.539993,166.75,170.369995,177.490005,180.630005,173.070007,169.0,165.940002,162.589996,161.059998,157.690002,157.25,158.309998,162.690002,168.300003,166.990005,168.0,168.949997,175.990005,179.710007,180.809998,178.960007,179.440002,176.759995,174.339996,170.199997,165.490005,162.479996,160.600006,165.179993,168.479996,160.660004,160.350006,167.070007,163.580002,167.449997,160.100006,157.759995,158.710007,163.25,167.389999,161.539993,153.330002,149.800003,148.050003,145.240005,145.779999,146.389999,141.550003,141.419998,140.119995,137.919998,134.619995,139.360001,136.050003,137.139999,140.490005,138.240005,137.720001,136.759995,133.550003,131.619995,128.320007,123.529999,131.0,130.300003,137.089996,132.889999,132.929993,126.309998,127.25,130.880005,131.679993,97.980003,99.580002,98.220001,94.330002,94.209999,90.080002,90.349998,94.779999,95.919998,101.720001,107.120003,109.230003,110.989998,116.07,114.5,110.410004,113.800003,111.519997,109.860001,111.720001,111.300003,110.779999,109.540001,109.510002,119.199997,117.830002,121.75,119.910004,113.760002,116.389999,115.300003,115.18,122.129997,119.389999,118.330002,120.230003,116.830002,113.260002,116.699997,117.199997,116.029999,117.93,116.25,116.400002,118.160004,122.82,127.379997,126.129997,128.970001,131.160004,127.269997,130.960007,133.440002,134.970001,136.179993,135.809998,132.490005,135.889999,139.289993,141.690002,141.220001,144.399994,148.240005,149.410004,147.949997,148.029999,183.380005,183.470001,186.529999,185.580002,190.0,186.130005,176.350006,178.220001,177.160004,176.419998,172.75,170.220001,174.309998,171.070007,172.0,168.639999,171.880005,171.899994,174.589996,172.380005,178.919998,188.0,189.0,182.869995,186.350006,181.009995,177.960007,187.580002,192.949997,198.259995,200.559998,198.479996,203.199997,202.5,202.839996,205.179993,204.809998,200.149994,203.559998,203.380005,207.240005,208.839996,213.389999,214.149994,209.25,214.710007,215.479996,214.839996,215.729996,217.880005,219.789993,219.910004,213.470001,213.479996,210.210007,213.679993,210.820007,212.5,239.889999,239.009995,238.619995,243.179993,239.470001,236.059998,232.240005,231.419998,231.460007,236.169998,233.050003,236.740005,236.919998,235.789993,238.449997,241.300003,247.470001,245.410004,246.809998,245.279999,253.399994,252.929993,265.25,260.0,265.899994,272.660004,270.299988,270.140015,271.670013,260.619995,262.480011,267.170013,274.880005,271.890015,272.299988,284.75,278.730011,283.529999,279.079987,281.51001,288.700012,282.01001,284.820007,284.5,284.76001,286.700012,287.649994,295.890015,292.179993,295.549988,293.899994,301.75,313.619995,311.790009,307.540009,310.880005,313.029999,313.5,304.570007,295.779999,295.190002,301.190002,325.119995,316.880005,323.690002,317.540009,318.0,309.929993,314.959991,313.230011,314.399994,312.880005,307.940002,302.570007,300.980011,306.140015,300.200012,293.049988,279.029999,283.450012,292.549988,288.5,298.5,286.130005,288.0,288.579987,297.170013,295.799988,299.369995,297.019989,301.709991,298.0,299.220001,301.410004,306.329987,302.359985,306.73999,311.609985,298.190002,302.480011,305.049988,295.700012,299.299988,295.640015,297.660004,300.450012,298.940002,307.380005,302.73999,304.26001,298.730011,304.630005,301.440002,312.5,319.119995,323.01001,328.0,323.529999,318.640015,318.179993,321.390015,319.880005,314.140015,309.5,316.779999,310.0,295.0,294.480011,299.089996,303.309998,301.850006,317.299988,312.549988,315.980011,317.059998,318.140015,319.420013,319.940002,326.200012,334.540009,337.929993,329.369995,330.26001,334.890015,338.329987,339.209991,340.130005,336.179993,333.399994,339.690002,331.890015,325.480011,317.290009,318.980011,321.929993,317.769989,323.089996,329.399994,324.600006,333.929993,333.850006,331.98999,337.480011,345.579987,348.649994,352.980011,355.579987,354.98999,356.070007,359.700012,358.98999,351.320007,344.980011,344.5,346.98999,354.700012,356.399994,360.170013,372.130005,370.160004,373.649994,366.299988,371.48999,379.0,387.950012,384.619995,390.0,390.170013,394.350006,394.98999,403.589996,389.0,393.940002,459.600006,469.880005,464.0,458.0,468.320007,472.950012,468.190002,456.869995,467.929993,475.279999,478.109985,469.720001,466.5,480.23999,488.049988,483.470001,479.980011,485.0,488.440002,492.109985,503.0,495.0,497.630005,503.279999,514.190002,497.01001,493.26001,495.390015,500.26001,489.01001,491.910004,488.170013,499.5,514.710022,507.0,505.790009,505.130005,499.299988,492.839996,487.200012,485.100006,498.929993,516.419983,516.859985,529.280029,522.22998,509.290009,521.109985,517.75,516.719971,498.109985,503.100006,499.820007,502.799988,489.720001,491.25,508.059998,421.399994,441.459991,439.559998,431.049988,428.600006,438.839996,445.929993,455.579987],\"x\":[\"28\\u002f10\\u002f2021\",\"29\\u002f10\\u002f2021\",\"01\\u002f11\\u002f2021\",\"02\\u002f11\\u002f2021\",\"03\\u002f11\\u002f2021\",\"04\\u002f11\\u002f2021\",\"05\\u002f11\\u002f2021\",\"08\\u002f11\\u002f2021\",\"09\\u002f11\\u002f2021\",\"10\\u002f11\\u002f2021\",\"11\\u002f11\\u002f2021\",\"12\\u002f11\\u002f2021\",\"15\\u002f11\\u002f2021\",\"16\\u002f11\\u002f2021\",\"17\\u002f11\\u002f2021\",\"18\\u002f11\\u002f2021\",\"19\\u002f11\\u002f2021\",\"22\\u002f11\\u002f2021\",\"23\\u002f11\\u002f2021\",\"24\\u002f11\\u002f2021\",\"26\\u002f11\\u002f2021\",\"29\\u002f11\\u002f2021\",\"30\\u002f11\\u002f2021\",\"01\\u002f12\\u002f2021\",\"02\\u002f12\\u002f2021\",\"03\\u002f12\\u002f2021\",\"06\\u002f12\\u002f2021\",\"07\\u002f12\\u002f2021\",\"08\\u002f12\\u002f2021\",\"09\\u002f12\\u002f2021\",\"10\\u002f12\\u002f2021\",\"13\\u002f12\\u002f2021\",\"14\\u002f12\\u002f2021\",\"15\\u002f12\\u002f2021\",\"16\\u002f12\\u002f2021\",\"17\\u002f12\\u002f2021\",\"20\\u002f12\\u002f2021\",\"21\\u002f12\\u002f2021\",\"22\\u002f12\\u002f2021\",\"23\\u002f12\\u002f2021\",\"27\\u002f12\\u002f2021\",\"28\\u002f12\\u002f2021\",\"29\\u002f12\\u002f2021\",\"30\\u002f12\\u002f2021\",\"31\\u002f12\\u002f2021\",\"03\\u002f01\\u002f2022\",\"04\\u002f01\\u002f2022\",\"05\\u002f01\\u002f2022\",\"06\\u002f01\\u002f2022\",\"07\\u002f01\\u002f2022\",\"10\\u002f01\\u002f2022\",\"11\\u002f01\\u002f2022\",\"12\\u002f01\\u002f2022\",\"13\\u002f01\\u002f2022\",\"14\\u002f01\\u002f2022\",\"18\\u002f01\\u002f2022\",\"19\\u002f01\\u002f2022\",\"20\\u002f01\\u002f2022\",\"21\\u002f01\\u002f2022\",\"24\\u002f01\\u002f2022\",\"25\\u002f01\\u002f2022\",\"26\\u002f01\\u002f2022\",\"27\\u002f01\\u002f2022\",\"28\\u002f01\\u002f2022\",\"31\\u002f01\\u002f2022\",\"01\\u002f02\\u002f2022\",\"02\\u002f02\\u002f2022\",\"03\\u002f02\\u002f2022\",\"04\\u002f02\\u002f2022\",\"07\\u002f02\\u002f2022\",\"08\\u002f02\\u002f2022\",\"09\\u002f02\\u002f2022\",\"10\\u002f02\\u002f2022\",\"11\\u002f02\\u002f2022\",\"14\\u002f02\\u002f2022\",\"15\\u002f02\\u002f2022\",\"16\\u002f02\\u002f2022\",\"17\\u002f02\\u002f2022\",\"18\\u002f02\\u002f2022\",\"22\\u002f02\\u002f2022\",\"23\\u002f02\\u002f2022\",\"24\\u002f02\\u002f2022\",\"25\\u002f02\\u002f2022\",\"28\\u002f02\\u002f2022\",\"01\\u002f03\\u002f2022\",\"02\\u002f03\\u002f2022\",\"03\\u002f03\\u002f2022\",\"04\\u002f03\\u002f2022\",\"07\\u002f03\\u002f2022\",\"08\\u002f03\\u002f2022\",\"09\\u002f03\\u002f2022\",\"10\\u002f03\\u002f2022\",\"11\\u002f03\\u002f2022\",\"14\\u002f03\\u002f2022\",\"15\\u002f03\\u002f2022\",\"16\\u002f03\\u002f2022\",\"17\\u002f03\\u002f2022\",\"18\\u002f03\\u002f2022\",\"21\\u002f03\\u002f2022\",\"22\\u002f03\\u002f2022\",\"23\\u002f03\\u002f2022\",\"24\\u002f03\\u002f2022\",\"25\\u002f03\\u002f2022\",\"28\\u002f03\\u002f2022\",\"29\\u002f03\\u002f2022\",\"30\\u002f03\\u002f2022\",\"31\\u002f03\\u002f2022\",\"01\\u002f04\\u002f2022\",\"04\\u002f04\\u002f2022\",\"05\\u002f04\\u002f2022\",\"06\\u002f04\\u002f2022\",\"07\\u002f04\\u002f2022\",\"08\\u002f04\\u002f2022\",\"11\\u002f04\\u002f2022\",\"12\\u002f04\\u002f2022\",\"13\\u002f04\\u002f2022\",\"14\\u002f04\\u002f2022\",\"18\\u002f04\\u002f2022\",\"19\\u002f04\\u002f2022\",\"20\\u002f04\\u002f2022\",\"21\\u002f04\\u002f2022\",\"22\\u002f04\\u002f2022\",\"25\\u002f04\\u002f2022\",\"26\\u002f04\\u002f2022\",\"27\\u002f04\\u002f2022\",\"28\\u002f04\\u002f2022\",\"29\\u002f04\\u002f2022\",\"02\\u002f05\\u002f2022\",\"03\\u002f05\\u002f2022\",\"04\\u002f05\\u002f2022\",\"05\\u002f05\\u002f2022\",\"06\\u002f05\\u002f2022\",\"09\\u002f05\\u002f2022\",\"10\\u002f05\\u002f2022\",\"11\\u002f05\\u002f2022\",\"12\\u002f05\\u002f2022\",\"13\\u002f05\\u002f2022\",\"16\\u002f05\\u002f2022\",\"17\\u002f05\\u002f2022\",\"18\\u002f05\\u002f2022\",\"19\\u002f05\\u002f2022\",\"20\\u002f05\\u002f2022\",\"23\\u002f05\\u002f2022\",\"24\\u002f05\\u002f2022\",\"25\\u002f05\\u002f2022\",\"26\\u002f05\\u002f2022\",\"27\\u002f05\\u002f2022\",\"31\\u002f05\\u002f2022\",\"01\\u002f06\\u002f2022\",\"02\\u002f06\\u002f2022\",\"03\\u002f06\\u002f2022\",\"06\\u002f06\\u002f2022\",\"07\\u002f06\\u002f2022\",\"08\\u002f06\\u002f2022\",\"09\\u002f06\\u002f2022\",\"10\\u002f06\\u002f2022\",\"13\\u002f06\\u002f2022\",\"14\\u002f06\\u002f2022\",\"15\\u002f06\\u002f2022\",\"16\\u002f06\\u002f2022\",\"17\\u002f06\\u002f2022\",\"21\\u002f06\\u002f2022\",\"22\\u002f06\\u002f2022\",\"23\\u002f06\\u002f2022\",\"24\\u002f06\\u002f2022\",\"27\\u002f06\\u002f2022\",\"28\\u002f06\\u002f2022\",\"29\\u002f06\\u002f2022\",\"30\\u002f06\\u002f2022\",\"01\\u002f07\\u002f2022\",\"05\\u002f07\\u002f2022\",\"06\\u002f07\\u002f2022\",\"07\\u002f07\\u002f2022\",\"08\\u002f07\\u002f2022\",\"11\\u002f07\\u002f2022\",\"12\\u002f07\\u002f2022\",\"13\\u002f07\\u002f2022\",\"14\\u002f07\\u002f2022\",\"15\\u002f07\\u002f2022\",\"18\\u002f07\\u002f2022\",\"19\\u002f07\\u002f2022\",\"20\\u002f07\\u002f2022\",\"21\\u002f07\\u002f2022\",\"22\\u002f07\\u002f2022\",\"25\\u002f07\\u002f2022\",\"26\\u002f07\\u002f2022\",\"27\\u002f07\\u002f2022\",\"28\\u002f07\\u002f2022\",\"29\\u002f07\\u002f2022\",\"01\\u002f08\\u002f2022\",\"02\\u002f08\\u002f2022\",\"03\\u002f08\\u002f2022\",\"04\\u002f08\\u002f2022\",\"05\\u002f08\\u002f2022\",\"08\\u002f08\\u002f2022\",\"09\\u002f08\\u002f2022\",\"10\\u002f08\\u002f2022\",\"11\\u002f08\\u002f2022\",\"12\\u002f08\\u002f2022\",\"15\\u002f08\\u002f2022\",\"16\\u002f08\\u002f2022\",\"17\\u002f08\\u002f2022\",\"18\\u002f08\\u002f2022\",\"19\\u002f08\\u002f2022\",\"22\\u002f08\\u002f2022\",\"23\\u002f08\\u002f2022\",\"24\\u002f08\\u002f2022\",\"25\\u002f08\\u002f2022\",\"26\\u002f08\\u002f2022\",\"29\\u002f08\\u002f2022\",\"30\\u002f08\\u002f2022\",\"31\\u002f08\\u002f2022\",\"01\\u002f09\\u002f2022\",\"02\\u002f09\\u002f2022\",\"06\\u002f09\\u002f2022\",\"07\\u002f09\\u002f2022\",\"08\\u002f09\\u002f2022\",\"09\\u002f09\\u002f2022\",\"12\\u002f09\\u002f2022\",\"13\\u002f09\\u002f2022\",\"14\\u002f09\\u002f2022\",\"15\\u002f09\\u002f2022\",\"16\\u002f09\\u002f2022\",\"19\\u002f09\\u002f2022\",\"20\\u002f09\\u002f2022\",\"21\\u002f09\\u002f2022\",\"22\\u002f09\\u002f2022\",\"23\\u002f09\\u002f2022\",\"26\\u002f09\\u002f2022\",\"27\\u002f09\\u002f2022\",\"28\\u002f09\\u002f2022\",\"29\\u002f09\\u002f2022\",\"30\\u002f09\\u002f2022\",\"03\\u002f10\\u002f2022\",\"04\\u002f10\\u002f2022\",\"05\\u002f10\\u002f2022\",\"06\\u002f10\\u002f2022\",\"07\\u002f10\\u002f2022\",\"10\\u002f10\\u002f2022\",\"11\\u002f10\\u002f2022\",\"12\\u002f10\\u002f2022\",\"13\\u002f10\\u002f2022\",\"14\\u002f10\\u002f2022\",\"17\\u002f10\\u002f2022\",\"18\\u002f10\\u002f2022\",\"19\\u002f10\\u002f2022\",\"20\\u002f10\\u002f2022\",\"21\\u002f10\\u002f2022\",\"24\\u002f10\\u002f2022\",\"25\\u002f10\\u002f2022\",\"26\\u002f10\\u002f2022\",\"27\\u002f10\\u002f2022\",\"28\\u002f10\\u002f2022\",\"31\\u002f10\\u002f2022\",\"01\\u002f11\\u002f2022\",\"02\\u002f11\\u002f2022\",\"03\\u002f11\\u002f2022\",\"04\\u002f11\\u002f2022\",\"07\\u002f11\\u002f2022\",\"08\\u002f11\\u002f2022\",\"09\\u002f11\\u002f2022\",\"10\\u002f11\\u002f2022\",\"11\\u002f11\\u002f2022\",\"14\\u002f11\\u002f2022\",\"15\\u002f11\\u002f2022\",\"16\\u002f11\\u002f2022\",\"17\\u002f11\\u002f2022\",\"18\\u002f11\\u002f2022\",\"21\\u002f11\\u002f2022\",\"22\\u002f11\\u002f2022\",\"23\\u002f11\\u002f2022\",\"25\\u002f11\\u002f2022\",\"28\\u002f11\\u002f2022\",\"29\\u002f11\\u002f2022\",\"30\\u002f11\\u002f2022\",\"01\\u002f12\\u002f2022\",\"02\\u002f12\\u002f2022\",\"05\\u002f12\\u002f2022\",\"06\\u002f12\\u002f2022\",\"07\\u002f12\\u002f2022\",\"08\\u002f12\\u002f2022\",\"09\\u002f12\\u002f2022\",\"12\\u002f12\\u002f2022\",\"13\\u002f12\\u002f2022\",\"14\\u002f12\\u002f2022\",\"15\\u002f12\\u002f2022\",\"16\\u002f12\\u002f2022\",\"19\\u002f12\\u002f2022\",\"20\\u002f12\\u002f2022\",\"21\\u002f12\\u002f2022\",\"22\\u002f12\\u002f2022\",\"23\\u002f12\\u002f2022\",\"27\\u002f12\\u002f2022\",\"28\\u002f12\\u002f2022\",\"29\\u002f12\\u002f2022\",\"30\\u002f12\\u002f2022\",\"03\\u002f01\\u002f2023\",\"04\\u002f01\\u002f2023\",\"05\\u002f01\\u002f2023\",\"06\\u002f01\\u002f2023\",\"09\\u002f01\\u002f2023\",\"10\\u002f01\\u002f2023\",\"11\\u002f01\\u002f2023\",\"12\\u002f01\\u002f2023\",\"13\\u002f01\\u002f2023\",\"17\\u002f01\\u002f2023\",\"18\\u002f01\\u002f2023\",\"19\\u002f01\\u002f2023\",\"20\\u002f01\\u002f2023\",\"23\\u002f01\\u002f2023\",\"24\\u002f01\\u002f2023\",\"25\\u002f01\\u002f2023\",\"26\\u002f01\\u002f2023\",\"27\\u002f01\\u002f2023\",\"30\\u002f01\\u002f2023\",\"31\\u002f01\\u002f2023\",\"01\\u002f02\\u002f2023\",\"02\\u002f02\\u002f2023\",\"03\\u002f02\\u002f2023\",\"06\\u002f02\\u002f2023\",\"07\\u002f02\\u002f2023\",\"08\\u002f02\\u002f2023\",\"09\\u002f02\\u002f2023\",\"10\\u002f02\\u002f2023\",\"13\\u002f02\\u002f2023\",\"14\\u002f02\\u002f2023\",\"15\\u002f02\\u002f2023\",\"16\\u002f02\\u002f2023\",\"17\\u002f02\\u002f2023\",\"21\\u002f02\\u002f2023\",\"22\\u002f02\\u002f2023\",\"23\\u002f02\\u002f2023\",\"24\\u002f02\\u002f2023\",\"27\\u002f02\\u002f2023\",\"28\\u002f02\\u002f2023\",\"01\\u002f03\\u002f2023\",\"02\\u002f03\\u002f2023\",\"03\\u002f03\\u002f2023\",\"06\\u002f03\\u002f2023\",\"07\\u002f03\\u002f2023\",\"08\\u002f03\\u002f2023\",\"09\\u002f03\\u002f2023\",\"10\\u002f03\\u002f2023\",\"13\\u002f03\\u002f2023\",\"14\\u002f03\\u002f2023\",\"15\\u002f03\\u002f2023\",\"16\\u002f03\\u002f2023\",\"17\\u002f03\\u002f2023\",\"20\\u002f03\\u002f2023\",\"21\\u002f03\\u002f2023\",\"22\\u002f03\\u002f2023\",\"23\\u002f03\\u002f2023\",\"24\\u002f03\\u002f2023\",\"27\\u002f03\\u002f2023\",\"28\\u002f03\\u002f2023\",\"29\\u002f03\\u002f2023\",\"30\\u002f03\\u002f2023\",\"31\\u002f03\\u002f2023\",\"03\\u002f04\\u002f2023\",\"04\\u002f04\\u002f2023\",\"05\\u002f04\\u002f2023\",\"06\\u002f04\\u002f2023\",\"10\\u002f04\\u002f2023\",\"11\\u002f04\\u002f2023\",\"12\\u002f04\\u002f2023\",\"13\\u002f04\\u002f2023\",\"14\\u002f04\\u002f2023\",\"17\\u002f04\\u002f2023\",\"18\\u002f04\\u002f2023\",\"19\\u002f04\\u002f2023\",\"20\\u002f04\\u002f2023\",\"21\\u002f04\\u002f2023\",\"24\\u002f04\\u002f2023\",\"25\\u002f04\\u002f2023\",\"26\\u002f04\\u002f2023\",\"27\\u002f04\\u002f2023\",\"28\\u002f04\\u002f2023\",\"01\\u002f05\\u002f2023\",\"02\\u002f05\\u002f2023\",\"03\\u002f05\\u002f2023\",\"04\\u002f05\\u002f2023\",\"05\\u002f05\\u002f2023\",\"08\\u002f05\\u002f2023\",\"09\\u002f05\\u002f2023\",\"10\\u002f05\\u002f2023\",\"11\\u002f05\\u002f2023\",\"12\\u002f05\\u002f2023\",\"15\\u002f05\\u002f2023\",\"16\\u002f05\\u002f2023\",\"17\\u002f05\\u002f2023\",\"18\\u002f05\\u002f2023\",\"19\\u002f05\\u002f2023\",\"22\\u002f05\\u002f2023\",\"23\\u002f05\\u002f2023\",\"24\\u002f05\\u002f2023\",\"25\\u002f05\\u002f2023\",\"26\\u002f05\\u002f2023\",\"30\\u002f05\\u002f2023\",\"31\\u002f05\\u002f2023\",\"01\\u002f06\\u002f2023\",\"02\\u002f06\\u002f2023\",\"05\\u002f06\\u002f2023\",\"06\\u002f06\\u002f2023\",\"07\\u002f06\\u002f2023\",\"08\\u002f06\\u002f2023\",\"09\\u002f06\\u002f2023\",\"12\\u002f06\\u002f2023\",\"13\\u002f06\\u002f2023\",\"14\\u002f06\\u002f2023\",\"15\\u002f06\\u002f2023\",\"16\\u002f06\\u002f2023\",\"20\\u002f06\\u002f2023\",\"21\\u002f06\\u002f2023\",\"22\\u002f06\\u002f2023\",\"23\\u002f06\\u002f2023\",\"26\\u002f06\\u002f2023\",\"27\\u002f06\\u002f2023\",\"28\\u002f06\\u002f2023\",\"29\\u002f06\\u002f2023\",\"30\\u002f06\\u002f2023\",\"03\\u002f07\\u002f2023\",\"05\\u002f07\\u002f2023\",\"06\\u002f07\\u002f2023\",\"07\\u002f07\\u002f2023\",\"10\\u002f07\\u002f2023\",\"11\\u002f07\\u002f2023\",\"12\\u002f07\\u002f2023\",\"13\\u002f07\\u002f2023\",\"14\\u002f07\\u002f2023\",\"17\\u002f07\\u002f2023\",\"18\\u002f07\\u002f2023\",\"19\\u002f07\\u002f2023\",\"20\\u002f07\\u002f2023\",\"21\\u002f07\\u002f2023\",\"24\\u002f07\\u002f2023\",\"25\\u002f07\\u002f2023\",\"26\\u002f07\\u002f2023\",\"27\\u002f07\\u002f2023\",\"28\\u002f07\\u002f2023\",\"31\\u002f07\\u002f2023\",\"01\\u002f08\\u002f2023\",\"02\\u002f08\\u002f2023\",\"03\\u002f08\\u002f2023\",\"04\\u002f08\\u002f2023\",\"07\\u002f08\\u002f2023\",\"08\\u002f08\\u002f2023\",\"09\\u002f08\\u002f2023\",\"10\\u002f08\\u002f2023\",\"11\\u002f08\\u002f2023\",\"14\\u002f08\\u002f2023\",\"15\\u002f08\\u002f2023\",\"16\\u002f08\\u002f2023\",\"17\\u002f08\\u002f2023\",\"18\\u002f08\\u002f2023\",\"21\\u002f08\\u002f2023\",\"22\\u002f08\\u002f2023\",\"23\\u002f08\\u002f2023\",\"24\\u002f08\\u002f2023\",\"25\\u002f08\\u002f2023\",\"28\\u002f08\\u002f2023\",\"29\\u002f08\\u002f2023\",\"30\\u002f08\\u002f2023\",\"31\\u002f08\\u002f2023\",\"01\\u002f09\\u002f2023\",\"05\\u002f09\\u002f2023\",\"06\\u002f09\\u002f2023\",\"07\\u002f09\\u002f2023\",\"08\\u002f09\\u002f2023\",\"11\\u002f09\\u002f2023\",\"12\\u002f09\\u002f2023\",\"13\\u002f09\\u002f2023\",\"14\\u002f09\\u002f2023\",\"15\\u002f09\\u002f2023\",\"18\\u002f09\\u002f2023\",\"19\\u002f09\\u002f2023\",\"20\\u002f09\\u002f2023\",\"21\\u002f09\\u002f2023\",\"22\\u002f09\\u002f2023\",\"25\\u002f09\\u002f2023\",\"26\\u002f09\\u002f2023\",\"27\\u002f09\\u002f2023\",\"28\\u002f09\\u002f2023\",\"29\\u002f09\\u002f2023\",\"02\\u002f10\\u002f2023\",\"03\\u002f10\\u002f2023\",\"04\\u002f10\\u002f2023\",\"05\\u002f10\\u002f2023\",\"06\\u002f10\\u002f2023\",\"09\\u002f10\\u002f2023\",\"10\\u002f10\\u002f2023\",\"11\\u002f10\\u002f2023\",\"12\\u002f10\\u002f2023\",\"13\\u002f10\\u002f2023\",\"16\\u002f10\\u002f2023\",\"17\\u002f10\\u002f2023\",\"18\\u002f10\\u002f2023\",\"19\\u002f10\\u002f2023\",\"20\\u002f10\\u002f2023\",\"23\\u002f10\\u002f2023\",\"24\\u002f10\\u002f2023\",\"25\\u002f10\\u002f2023\",\"26\\u002f10\\u002f2023\",\"27\\u002f10\\u002f2023\",\"30\\u002f10\\u002f2023\",\"31\\u002f10\\u002f2023\",\"01\\u002f11\\u002f2023\",\"02\\u002f11\\u002f2023\",\"03\\u002f11\\u002f2023\",\"06\\u002f11\\u002f2023\",\"07\\u002f11\\u002f2023\",\"08\\u002f11\\u002f2023\",\"09\\u002f11\\u002f2023\",\"10\\u002f11\\u002f2023\",\"13\\u002f11\\u002f2023\",\"14\\u002f11\\u002f2023\",\"15\\u002f11\\u002f2023\",\"16\\u002f11\\u002f2023\",\"17\\u002f11\\u002f2023\",\"20\\u002f11\\u002f2023\",\"21\\u002f11\\u002f2023\",\"22\\u002f11\\u002f2023\",\"24\\u002f11\\u002f2023\",\"27\\u002f11\\u002f2023\",\"28\\u002f11\\u002f2023\",\"29\\u002f11\\u002f2023\",\"30\\u002f11\\u002f2023\",\"01\\u002f12\\u002f2023\",\"04\\u002f12\\u002f2023\",\"05\\u002f12\\u002f2023\",\"06\\u002f12\\u002f2023\",\"07\\u002f12\\u002f2023\",\"08\\u002f12\\u002f2023\",\"11\\u002f12\\u002f2023\",\"12\\u002f12\\u002f2023\",\"13\\u002f12\\u002f2023\",\"14\\u002f12\\u002f2023\",\"15\\u002f12\\u002f2023\",\"18\\u002f12\\u002f2023\",\"19\\u002f12\\u002f2023\",\"20\\u002f12\\u002f2023\",\"21\\u002f12\\u002f2023\",\"22\\u002f12\\u002f2023\",\"26\\u002f12\\u002f2023\",\"27\\u002f12\\u002f2023\",\"28\\u002f12\\u002f2023\",\"29\\u002f12\\u002f2023\",\"02\\u002f01\\u002f2024\",\"03\\u002f01\\u002f2024\",\"04\\u002f01\\u002f2024\",\"05\\u002f01\\u002f2024\",\"08\\u002f01\\u002f2024\",\"09\\u002f01\\u002f2024\",\"10\\u002f01\\u002f2024\",\"11\\u002f01\\u002f2024\",\"12\\u002f01\\u002f2024\",\"16\\u002f01\\u002f2024\",\"17\\u002f01\\u002f2024\",\"18\\u002f01\\u002f2024\",\"19\\u002f01\\u002f2024\",\"22\\u002f01\\u002f2024\",\"23\\u002f01\\u002f2024\",\"24\\u002f01\\u002f2024\",\"25\\u002f01\\u002f2024\",\"26\\u002f01\\u002f2024\",\"29\\u002f01\\u002f2024\",\"30\\u002f01\\u002f2024\",\"31\\u002f01\\u002f2024\",\"01\\u002f02\\u002f2024\",\"02\\u002f02\\u002f2024\",\"05\\u002f02\\u002f2024\",\"06\\u002f02\\u002f2024\",\"07\\u002f02\\u002f2024\",\"08\\u002f02\\u002f2024\",\"09\\u002f02\\u002f2024\",\"12\\u002f02\\u002f2024\",\"13\\u002f02\\u002f2024\",\"14\\u002f02\\u002f2024\",\"15\\u002f02\\u002f2024\",\"16\\u002f02\\u002f2024\",\"20\\u002f02\\u002f2024\",\"21\\u002f02\\u002f2024\",\"22\\u002f02\\u002f2024\",\"23\\u002f02\\u002f2024\",\"26\\u002f02\\u002f2024\",\"27\\u002f02\\u002f2024\",\"28\\u002f02\\u002f2024\",\"29\\u002f02\\u002f2024\",\"01\\u002f03\\u002f2024\",\"04\\u002f03\\u002f2024\",\"05\\u002f03\\u002f2024\",\"06\\u002f03\\u002f2024\",\"07\\u002f03\\u002f2024\",\"08\\u002f03\\u002f2024\",\"11\\u002f03\\u002f2024\",\"12\\u002f03\\u002f2024\",\"13\\u002f03\\u002f2024\",\"14\\u002f03\\u002f2024\",\"15\\u002f03\\u002f2024\",\"18\\u002f03\\u002f2024\",\"19\\u002f03\\u002f2024\",\"20\\u002f03\\u002f2024\",\"21\\u002f03\\u002f2024\",\"22\\u002f03\\u002f2024\",\"25\\u002f03\\u002f2024\",\"26\\u002f03\\u002f2024\",\"27\\u002f03\\u002f2024\",\"28\\u002f03\\u002f2024\",\"01\\u002f04\\u002f2024\",\"02\\u002f04\\u002f2024\",\"03\\u002f04\\u002f2024\",\"04\\u002f04\\u002f2024\",\"05\\u002f04\\u002f2024\",\"08\\u002f04\\u002f2024\",\"09\\u002f04\\u002f2024\",\"10\\u002f04\\u002f2024\",\"11\\u002f04\\u002f2024\",\"12\\u002f04\\u002f2024\",\"15\\u002f04\\u002f2024\",\"16\\u002f04\\u002f2024\",\"17\\u002f04\\u002f2024\",\"18\\u002f04\\u002f2024\",\"19\\u002f04\\u002f2024\",\"22\\u002f04\\u002f2024\",\"23\\u002f04\\u002f2024\",\"24\\u002f04\\u002f2024\",\"25\\u002f04\\u002f2024\",\"26\\u002f04\\u002f2024\",\"29\\u002f04\\u002f2024\",\"30\\u002f04\\u002f2024\",\"01\\u002f05\\u002f2024\",\"02\\u002f05\\u002f2024\",\"03\\u002f05\\u002f2024\",\"06\\u002f05\\u002f2024\"],\"type\":\"candlestick\"}],                        {\"template\":{\"data\":{\"histogram2dcontour\":[{\"type\":\"histogram2dcontour\",\"colorbar\":{\"outlinewidth\":0,\"ticks\":\"\"},\"colorscale\":[[0.0,\"#0d0887\"],[0.1111111111111111,\"#46039f\"],[0.2222222222222222,\"#7201a8\"],[0.3333333333333333,\"#9c179e\"],[0.4444444444444444,\"#bd3786\"],[0.5555555555555556,\"#d8576b\"],[0.6666666666666666,\"#ed7953\"],[0.7777777777777778,\"#fb9f3a\"],[0.8888888888888888,\"#fdca26\"],[1.0,\"#f0f921\"]]}],\"choropleth\":[{\"type\":\"choropleth\",\"colorbar\":{\"outlinewidth\":0,\"ticks\":\"\"}}],\"histogram2d\":[{\"type\":\"histogram2d\",\"colorbar\":{\"outlinewidth\":0,\"ticks\":\"\"},\"colorscale\":[[0.0,\"#0d0887\"],[0.1111111111111111,\"#46039f\"],[0.2222222222222222,\"#7201a8\"],[0.3333333333333333,\"#9c179e\"],[0.4444444444444444,\"#bd3786\"],[0.5555555555555556,\"#d8576b\"],[0.6666666666666666,\"#ed7953\"],[0.7777777777777778,\"#fb9f3a\"],[0.8888888888888888,\"#fdca26\"],[1.0,\"#f0f921\"]]}],\"heatmap\":[{\"type\":\"heatmap\",\"colorbar\":{\"outlinewidth\":0,\"ticks\":\"\"},\"colorscale\":[[0.0,\"#0d0887\"],[0.1111111111111111,\"#46039f\"],[0.2222222222222222,\"#7201a8\"],[0.3333333333333333,\"#9c179e\"],[0.4444444444444444,\"#bd3786\"],[0.5555555555555556,\"#d8576b\"],[0.6666666666666666,\"#ed7953\"],[0.7777777777777778,\"#fb9f3a\"],[0.8888888888888888,\"#fdca26\"],[1.0,\"#f0f921\"]]}],\"heatmapgl\":[{\"type\":\"heatmapgl\",\"colorbar\":{\"outlinewidth\":0,\"ticks\":\"\"},\"colorscale\":[[0.0,\"#0d0887\"],[0.1111111111111111,\"#46039f\"],[0.2222222222222222,\"#7201a8\"],[0.3333333333333333,\"#9c179e\"],[0.4444444444444444,\"#bd3786\"],[0.5555555555555556,\"#d8576b\"],[0.6666666666666666,\"#ed7953\"],[0.7777777777777778,\"#fb9f3a\"],[0.8888888888888888,\"#fdca26\"],[1.0,\"#f0f921\"]]}],\"contourcarpet\":[{\"type\":\"contourcarpet\",\"colorbar\":{\"outlinewidth\":0,\"ticks\":\"\"}}],\"contour\":[{\"type\":\"contour\",\"colorbar\":{\"outlinewidth\":0,\"ticks\":\"\"},\"colorscale\":[[0.0,\"#0d0887\"],[0.1111111111111111,\"#46039f\"],[0.2222222222222222,\"#7201a8\"],[0.3333333333333333,\"#9c179e\"],[0.4444444444444444,\"#bd3786\"],[0.5555555555555556,\"#d8576b\"],[0.6666666666666666,\"#ed7953\"],[0.7777777777777778,\"#fb9f3a\"],[0.8888888888888888,\"#fdca26\"],[1.0,\"#f0f921\"]]}],\"surface\":[{\"type\":\"surface\",\"colorbar\":{\"outlinewidth\":0,\"ticks\":\"\"},\"colorscale\":[[0.0,\"#0d0887\"],[0.1111111111111111,\"#46039f\"],[0.2222222222222222,\"#7201a8\"],[0.3333333333333333,\"#9c179e\"],[0.4444444444444444,\"#bd3786\"],[0.5555555555555556,\"#d8576b\"],[0.6666666666666666,\"#ed7953\"],[0.7777777777777778,\"#fb9f3a\"],[0.8888888888888888,\"#fdca26\"],[1.0,\"#f0f921\"]]}],\"mesh3d\":[{\"type\":\"mesh3d\",\"colorbar\":{\"outlinewidth\":0,\"ticks\":\"\"}}],\"scatter\":[{\"fillpattern\":{\"fillmode\":\"overlay\",\"size\":10,\"solidity\":0.2},\"type\":\"scatter\"}],\"parcoords\":[{\"type\":\"parcoords\",\"line\":{\"colorbar\":{\"outlinewidth\":0,\"ticks\":\"\"}}}],\"scatterpolargl\":[{\"type\":\"scatterpolargl\",\"marker\":{\"colorbar\":{\"outlinewidth\":0,\"ticks\":\"\"}}}],\"bar\":[{\"error_x\":{\"color\":\"#2a3f5f\"},\"error_y\":{\"color\":\"#2a3f5f\"},\"marker\":{\"line\":{\"color\":\"#E5ECF6\",\"width\":0.5},\"pattern\":{\"fillmode\":\"overlay\",\"size\":10,\"solidity\":0.2}},\"type\":\"bar\"}],\"scattergeo\":[{\"type\":\"scattergeo\",\"marker\":{\"colorbar\":{\"outlinewidth\":0,\"ticks\":\"\"}}}],\"scatterpolar\":[{\"type\":\"scatterpolar\",\"marker\":{\"colorbar\":{\"outlinewidth\":0,\"ticks\":\"\"}}}],\"histogram\":[{\"marker\":{\"pattern\":{\"fillmode\":\"overlay\",\"size\":10,\"solidity\":0.2}},\"type\":\"histogram\"}],\"scattergl\":[{\"type\":\"scattergl\",\"marker\":{\"colorbar\":{\"outlinewidth\":0,\"ticks\":\"\"}}}],\"scatter3d\":[{\"type\":\"scatter3d\",\"line\":{\"colorbar\":{\"outlinewidth\":0,\"ticks\":\"\"}},\"marker\":{\"colorbar\":{\"outlinewidth\":0,\"ticks\":\"\"}}}],\"scattermapbox\":[{\"type\":\"scattermapbox\",\"marker\":{\"colorbar\":{\"outlinewidth\":0,\"ticks\":\"\"}}}],\"scatterternary\":[{\"type\":\"scatterternary\",\"marker\":{\"colorbar\":{\"outlinewidth\":0,\"ticks\":\"\"}}}],\"scattercarpet\":[{\"type\":\"scattercarpet\",\"marker\":{\"colorbar\":{\"outlinewidth\":0,\"ticks\":\"\"}}}],\"carpet\":[{\"aaxis\":{\"endlinecolor\":\"#2a3f5f\",\"gridcolor\":\"white\",\"linecolor\":\"white\",\"minorgridcolor\":\"white\",\"startlinecolor\":\"#2a3f5f\"},\"baxis\":{\"endlinecolor\":\"#2a3f5f\",\"gridcolor\":\"white\",\"linecolor\":\"white\",\"minorgridcolor\":\"white\",\"startlinecolor\":\"#2a3f5f\"},\"type\":\"carpet\"}],\"table\":[{\"cells\":{\"fill\":{\"color\":\"#EBF0F8\"},\"line\":{\"color\":\"white\"}},\"header\":{\"fill\":{\"color\":\"#C8D4E3\"},\"line\":{\"color\":\"white\"}},\"type\":\"table\"}],\"barpolar\":[{\"marker\":{\"line\":{\"color\":\"#E5ECF6\",\"width\":0.5},\"pattern\":{\"fillmode\":\"overlay\",\"size\":10,\"solidity\":0.2}},\"type\":\"barpolar\"}],\"pie\":[{\"automargin\":true,\"type\":\"pie\"}]},\"layout\":{\"autotypenumbers\":\"strict\",\"colorway\":[\"#636efa\",\"#EF553B\",\"#00cc96\",\"#ab63fa\",\"#FFA15A\",\"#19d3f3\",\"#FF6692\",\"#B6E880\",\"#FF97FF\",\"#FECB52\"],\"font\":{\"color\":\"#2a3f5f\"},\"hovermode\":\"closest\",\"hoverlabel\":{\"align\":\"left\"},\"paper_bgcolor\":\"white\",\"plot_bgcolor\":\"#E5ECF6\",\"polar\":{\"bgcolor\":\"#E5ECF6\",\"angularaxis\":{\"gridcolor\":\"white\",\"linecolor\":\"white\",\"ticks\":\"\"},\"radialaxis\":{\"gridcolor\":\"white\",\"linecolor\":\"white\",\"ticks\":\"\"}},\"ternary\":{\"bgcolor\":\"#E5ECF6\",\"aaxis\":{\"gridcolor\":\"white\",\"linecolor\":\"white\",\"ticks\":\"\"},\"baxis\":{\"gridcolor\":\"white\",\"linecolor\":\"white\",\"ticks\":\"\"},\"caxis\":{\"gridcolor\":\"white\",\"linecolor\":\"white\",\"ticks\":\"\"}},\"coloraxis\":{\"colorbar\":{\"outlinewidth\":0,\"ticks\":\"\"}},\"colorscale\":{\"sequential\":[[0.0,\"#0d0887\"],[0.1111111111111111,\"#46039f\"],[0.2222222222222222,\"#7201a8\"],[0.3333333333333333,\"#9c179e\"],[0.4444444444444444,\"#bd3786\"],[0.5555555555555556,\"#d8576b\"],[0.6666666666666666,\"#ed7953\"],[0.7777777777777778,\"#fb9f3a\"],[0.8888888888888888,\"#fdca26\"],[1.0,\"#f0f921\"]],\"sequentialminus\":[[0.0,\"#0d0887\"],[0.1111111111111111,\"#46039f\"],[0.2222222222222222,\"#7201a8\"],[0.3333333333333333,\"#9c179e\"],[0.4444444444444444,\"#bd3786\"],[0.5555555555555556,\"#d8576b\"],[0.6666666666666666,\"#ed7953\"],[0.7777777777777778,\"#fb9f3a\"],[0.8888888888888888,\"#fdca26\"],[1.0,\"#f0f921\"]],\"diverging\":[[0,\"#8e0152\"],[0.1,\"#c51b7d\"],[0.2,\"#de77ae\"],[0.3,\"#f1b6da\"],[0.4,\"#fde0ef\"],[0.5,\"#f7f7f7\"],[0.6,\"#e6f5d0\"],[0.7,\"#b8e186\"],[0.8,\"#7fbc41\"],[0.9,\"#4d9221\"],[1,\"#276419\"]]},\"xaxis\":{\"gridcolor\":\"white\",\"linecolor\":\"white\",\"ticks\":\"\",\"title\":{\"standoff\":15},\"zerolinecolor\":\"white\",\"automargin\":true,\"zerolinewidth\":2},\"yaxis\":{\"gridcolor\":\"white\",\"linecolor\":\"white\",\"ticks\":\"\",\"title\":{\"standoff\":15},\"zerolinecolor\":\"white\",\"automargin\":true,\"zerolinewidth\":2},\"scene\":{\"xaxis\":{\"backgroundcolor\":\"#E5ECF6\",\"gridcolor\":\"white\",\"linecolor\":\"white\",\"showbackground\":true,\"ticks\":\"\",\"zerolinecolor\":\"white\",\"gridwidth\":2},\"yaxis\":{\"backgroundcolor\":\"#E5ECF6\",\"gridcolor\":\"white\",\"linecolor\":\"white\",\"showbackground\":true,\"ticks\":\"\",\"zerolinecolor\":\"white\",\"gridwidth\":2},\"zaxis\":{\"backgroundcolor\":\"#E5ECF6\",\"gridcolor\":\"white\",\"linecolor\":\"white\",\"showbackground\":true,\"ticks\":\"\",\"zerolinecolor\":\"white\",\"gridwidth\":2}},\"shapedefaults\":{\"line\":{\"color\":\"#2a3f5f\"}},\"annotationdefaults\":{\"arrowcolor\":\"#2a3f5f\",\"arrowhead\":0,\"arrowwidth\":1},\"geo\":{\"bgcolor\":\"white\",\"landcolor\":\"#E5ECF6\",\"subunitcolor\":\"white\",\"showland\":true,\"showlakes\":true,\"lakecolor\":\"white\"},\"title\":{\"x\":0.05},\"mapbox\":{\"style\":\"light\"}}},\"title\":{\"text\":\"Price Analysis Over Time\"}},                        {\"responsive\": true}                    ).then(function(){\n",
              "                            \n",
              "var gd = document.getElementById('64a3efef-fd31-472d-baf0-81288a3160a1');\n",
              "var x = new MutationObserver(function (mutations, observer) {{\n",
              "        var display = window.getComputedStyle(gd).display;\n",
              "        if (!display || display === 'none') {{\n",
              "            console.log([gd, 'removed!']);\n",
              "            Plotly.purge(gd);\n",
              "            observer.disconnect();\n",
              "        }}\n",
              "}});\n",
              "\n",
              "// Listen for the removal of the full notebook cells\n",
              "var notebookContainer = gd.closest('#notebook-container');\n",
              "if (notebookContainer) {{\n",
              "    x.observe(notebookContainer, {childList: true});\n",
              "}}\n",
              "\n",
              "// Listen for the clearing of the current output cell\n",
              "var outputEl = gd.closest('.output');\n",
              "if (outputEl) {{\n",
              "    x.observe(outputEl, {childList: true});\n",
              "}}\n",
              "\n",
              "                        })                };                            </script>        </div>\n",
              "</body>\n",
              "</html>"
            ]
          },
          "metadata": {}
        }
      ]
    },
    {
      "cell_type": "markdown",
      "source": [
        "### Feature Engineering"
      ],
      "metadata": {
        "id": "0tvWMZTOUXd9"
      }
    },
    {
      "cell_type": "code",
      "source": [
        "# Converting the date object col to pd datetime\n",
        "df['Date'] = pd.to_datetime(df['Date'])"
      ],
      "metadata": {
        "id": "QVlyJ_QQUa4Q"
      },
      "execution_count": 54,
      "outputs": []
    },
    {
      "cell_type": "code",
      "source": [
        "df['Year'] = df['Date'].dt.year\n",
        "df['Month'] = df['Date'].dt.month\n",
        "df['Day'] = df['Date'].dt.day\n",
        "\n",
        "df.drop(columns=['Date'], inplace=True)"
      ],
      "metadata": {
        "id": "bMYe8bKgUwJc"
      },
      "execution_count": 55,
      "outputs": []
    },
    {
      "cell_type": "code",
      "source": [
        "df.head()"
      ],
      "metadata": {
        "colab": {
          "base_uri": "https://localhost:8080/",
          "height": 206
        },
        "id": "vEJ3NJvEVHE3",
        "outputId": "959ffb3d-0a11-454b-af3d-eb649ab5d40d"
      },
      "execution_count": 56,
      "outputs": [
        {
          "output_type": "execute_result",
          "data": {
            "text/plain": [
              "         Open        High         Low       Close   Adj Close    Volume  Year  \\\n",
              "0  312.989990  325.519989  308.109985  316.920013  316.584106  50806800  2021   \n",
              "1  320.190002  326.000000  319.600006  323.570007  323.227051  37059400  2021   \n",
              "2  326.040009  333.450012  326.000000  329.980011  329.630280  31518900  2021   \n",
              "3  331.380005  334.790009  323.799988  328.079987  327.732269  28353000  2021   \n",
              "4  327.489990  332.149994  323.200012  331.619995  331.268524  20786500  2021   \n",
              "\n",
              "   Month  Day  \n",
              "0     10   28  \n",
              "1     10   29  \n",
              "2     11    1  \n",
              "3     11    2  \n",
              "4     11    3  "
            ],
            "text/html": [
              "\n",
              "  <div id=\"df-b8c4cc08-4407-44c0-ad14-78b9e886159b\" class=\"colab-df-container\">\n",
              "    <div>\n",
              "<style scoped>\n",
              "    .dataframe tbody tr th:only-of-type {\n",
              "        vertical-align: middle;\n",
              "    }\n",
              "\n",
              "    .dataframe tbody tr th {\n",
              "        vertical-align: top;\n",
              "    }\n",
              "\n",
              "    .dataframe thead th {\n",
              "        text-align: right;\n",
              "    }\n",
              "</style>\n",
              "<table border=\"1\" class=\"dataframe\">\n",
              "  <thead>\n",
              "    <tr style=\"text-align: right;\">\n",
              "      <th></th>\n",
              "      <th>Open</th>\n",
              "      <th>High</th>\n",
              "      <th>Low</th>\n",
              "      <th>Close</th>\n",
              "      <th>Adj Close</th>\n",
              "      <th>Volume</th>\n",
              "      <th>Year</th>\n",
              "      <th>Month</th>\n",
              "      <th>Day</th>\n",
              "    </tr>\n",
              "  </thead>\n",
              "  <tbody>\n",
              "    <tr>\n",
              "      <th>0</th>\n",
              "      <td>312.989990</td>\n",
              "      <td>325.519989</td>\n",
              "      <td>308.109985</td>\n",
              "      <td>316.920013</td>\n",
              "      <td>316.584106</td>\n",
              "      <td>50806800</td>\n",
              "      <td>2021</td>\n",
              "      <td>10</td>\n",
              "      <td>28</td>\n",
              "    </tr>\n",
              "    <tr>\n",
              "      <th>1</th>\n",
              "      <td>320.190002</td>\n",
              "      <td>326.000000</td>\n",
              "      <td>319.600006</td>\n",
              "      <td>323.570007</td>\n",
              "      <td>323.227051</td>\n",
              "      <td>37059400</td>\n",
              "      <td>2021</td>\n",
              "      <td>10</td>\n",
              "      <td>29</td>\n",
              "    </tr>\n",
              "    <tr>\n",
              "      <th>2</th>\n",
              "      <td>326.040009</td>\n",
              "      <td>333.450012</td>\n",
              "      <td>326.000000</td>\n",
              "      <td>329.980011</td>\n",
              "      <td>329.630280</td>\n",
              "      <td>31518900</td>\n",
              "      <td>2021</td>\n",
              "      <td>11</td>\n",
              "      <td>1</td>\n",
              "    </tr>\n",
              "    <tr>\n",
              "      <th>3</th>\n",
              "      <td>331.380005</td>\n",
              "      <td>334.790009</td>\n",
              "      <td>323.799988</td>\n",
              "      <td>328.079987</td>\n",
              "      <td>327.732269</td>\n",
              "      <td>28353000</td>\n",
              "      <td>2021</td>\n",
              "      <td>11</td>\n",
              "      <td>2</td>\n",
              "    </tr>\n",
              "    <tr>\n",
              "      <th>4</th>\n",
              "      <td>327.489990</td>\n",
              "      <td>332.149994</td>\n",
              "      <td>323.200012</td>\n",
              "      <td>331.619995</td>\n",
              "      <td>331.268524</td>\n",
              "      <td>20786500</td>\n",
              "      <td>2021</td>\n",
              "      <td>11</td>\n",
              "      <td>3</td>\n",
              "    </tr>\n",
              "  </tbody>\n",
              "</table>\n",
              "</div>\n",
              "    <div class=\"colab-df-buttons\">\n",
              "\n",
              "  <div class=\"colab-df-container\">\n",
              "    <button class=\"colab-df-convert\" onclick=\"convertToInteractive('df-b8c4cc08-4407-44c0-ad14-78b9e886159b')\"\n",
              "            title=\"Convert this dataframe to an interactive table.\"\n",
              "            style=\"display:none;\">\n",
              "\n",
              "  <svg xmlns=\"http://www.w3.org/2000/svg\" height=\"24px\" viewBox=\"0 -960 960 960\">\n",
              "    <path d=\"M120-120v-720h720v720H120Zm60-500h600v-160H180v160Zm220 220h160v-160H400v160Zm0 220h160v-160H400v160ZM180-400h160v-160H180v160Zm440 0h160v-160H620v160ZM180-180h160v-160H180v160Zm440 0h160v-160H620v160Z\"/>\n",
              "  </svg>\n",
              "    </button>\n",
              "\n",
              "  <style>\n",
              "    .colab-df-container {\n",
              "      display:flex;\n",
              "      gap: 12px;\n",
              "    }\n",
              "\n",
              "    .colab-df-convert {\n",
              "      background-color: #E8F0FE;\n",
              "      border: none;\n",
              "      border-radius: 50%;\n",
              "      cursor: pointer;\n",
              "      display: none;\n",
              "      fill: #1967D2;\n",
              "      height: 32px;\n",
              "      padding: 0 0 0 0;\n",
              "      width: 32px;\n",
              "    }\n",
              "\n",
              "    .colab-df-convert:hover {\n",
              "      background-color: #E2EBFA;\n",
              "      box-shadow: 0px 1px 2px rgba(60, 64, 67, 0.3), 0px 1px 3px 1px rgba(60, 64, 67, 0.15);\n",
              "      fill: #174EA6;\n",
              "    }\n",
              "\n",
              "    .colab-df-buttons div {\n",
              "      margin-bottom: 4px;\n",
              "    }\n",
              "\n",
              "    [theme=dark] .colab-df-convert {\n",
              "      background-color: #3B4455;\n",
              "      fill: #D2E3FC;\n",
              "    }\n",
              "\n",
              "    [theme=dark] .colab-df-convert:hover {\n",
              "      background-color: #434B5C;\n",
              "      box-shadow: 0px 1px 3px 1px rgba(0, 0, 0, 0.15);\n",
              "      filter: drop-shadow(0px 1px 2px rgba(0, 0, 0, 0.3));\n",
              "      fill: #FFFFFF;\n",
              "    }\n",
              "  </style>\n",
              "\n",
              "    <script>\n",
              "      const buttonEl =\n",
              "        document.querySelector('#df-b8c4cc08-4407-44c0-ad14-78b9e886159b button.colab-df-convert');\n",
              "      buttonEl.style.display =\n",
              "        google.colab.kernel.accessAllowed ? 'block' : 'none';\n",
              "\n",
              "      async function convertToInteractive(key) {\n",
              "        const element = document.querySelector('#df-b8c4cc08-4407-44c0-ad14-78b9e886159b');\n",
              "        const dataTable =\n",
              "          await google.colab.kernel.invokeFunction('convertToInteractive',\n",
              "                                                    [key], {});\n",
              "        if (!dataTable) return;\n",
              "\n",
              "        const docLinkHtml = 'Like what you see? Visit the ' +\n",
              "          '<a target=\"_blank\" href=https://colab.research.google.com/notebooks/data_table.ipynb>data table notebook</a>'\n",
              "          + ' to learn more about interactive tables.';\n",
              "        element.innerHTML = '';\n",
              "        dataTable['output_type'] = 'display_data';\n",
              "        await google.colab.output.renderOutput(dataTable, element);\n",
              "        const docLink = document.createElement('div');\n",
              "        docLink.innerHTML = docLinkHtml;\n",
              "        element.appendChild(docLink);\n",
              "      }\n",
              "    </script>\n",
              "  </div>\n",
              "\n",
              "\n",
              "<div id=\"df-47e03be8-0450-44e8-b966-db88af9fdf16\">\n",
              "  <button class=\"colab-df-quickchart\" onclick=\"quickchart('df-47e03be8-0450-44e8-b966-db88af9fdf16')\"\n",
              "            title=\"Suggest charts\"\n",
              "            style=\"display:none;\">\n",
              "\n",
              "<svg xmlns=\"http://www.w3.org/2000/svg\" height=\"24px\"viewBox=\"0 0 24 24\"\n",
              "     width=\"24px\">\n",
              "    <g>\n",
              "        <path d=\"M19 3H5c-1.1 0-2 .9-2 2v14c0 1.1.9 2 2 2h14c1.1 0 2-.9 2-2V5c0-1.1-.9-2-2-2zM9 17H7v-7h2v7zm4 0h-2V7h2v10zm4 0h-2v-4h2v4z\"/>\n",
              "    </g>\n",
              "</svg>\n",
              "  </button>\n",
              "\n",
              "<style>\n",
              "  .colab-df-quickchart {\n",
              "      --bg-color: #E8F0FE;\n",
              "      --fill-color: #1967D2;\n",
              "      --hover-bg-color: #E2EBFA;\n",
              "      --hover-fill-color: #174EA6;\n",
              "      --disabled-fill-color: #AAA;\n",
              "      --disabled-bg-color: #DDD;\n",
              "  }\n",
              "\n",
              "  [theme=dark] .colab-df-quickchart {\n",
              "      --bg-color: #3B4455;\n",
              "      --fill-color: #D2E3FC;\n",
              "      --hover-bg-color: #434B5C;\n",
              "      --hover-fill-color: #FFFFFF;\n",
              "      --disabled-bg-color: #3B4455;\n",
              "      --disabled-fill-color: #666;\n",
              "  }\n",
              "\n",
              "  .colab-df-quickchart {\n",
              "    background-color: var(--bg-color);\n",
              "    border: none;\n",
              "    border-radius: 50%;\n",
              "    cursor: pointer;\n",
              "    display: none;\n",
              "    fill: var(--fill-color);\n",
              "    height: 32px;\n",
              "    padding: 0;\n",
              "    width: 32px;\n",
              "  }\n",
              "\n",
              "  .colab-df-quickchart:hover {\n",
              "    background-color: var(--hover-bg-color);\n",
              "    box-shadow: 0 1px 2px rgba(60, 64, 67, 0.3), 0 1px 3px 1px rgba(60, 64, 67, 0.15);\n",
              "    fill: var(--button-hover-fill-color);\n",
              "  }\n",
              "\n",
              "  .colab-df-quickchart-complete:disabled,\n",
              "  .colab-df-quickchart-complete:disabled:hover {\n",
              "    background-color: var(--disabled-bg-color);\n",
              "    fill: var(--disabled-fill-color);\n",
              "    box-shadow: none;\n",
              "  }\n",
              "\n",
              "  .colab-df-spinner {\n",
              "    border: 2px solid var(--fill-color);\n",
              "    border-color: transparent;\n",
              "    border-bottom-color: var(--fill-color);\n",
              "    animation:\n",
              "      spin 1s steps(1) infinite;\n",
              "  }\n",
              "\n",
              "  @keyframes spin {\n",
              "    0% {\n",
              "      border-color: transparent;\n",
              "      border-bottom-color: var(--fill-color);\n",
              "      border-left-color: var(--fill-color);\n",
              "    }\n",
              "    20% {\n",
              "      border-color: transparent;\n",
              "      border-left-color: var(--fill-color);\n",
              "      border-top-color: var(--fill-color);\n",
              "    }\n",
              "    30% {\n",
              "      border-color: transparent;\n",
              "      border-left-color: var(--fill-color);\n",
              "      border-top-color: var(--fill-color);\n",
              "      border-right-color: var(--fill-color);\n",
              "    }\n",
              "    40% {\n",
              "      border-color: transparent;\n",
              "      border-right-color: var(--fill-color);\n",
              "      border-top-color: var(--fill-color);\n",
              "    }\n",
              "    60% {\n",
              "      border-color: transparent;\n",
              "      border-right-color: var(--fill-color);\n",
              "    }\n",
              "    80% {\n",
              "      border-color: transparent;\n",
              "      border-right-color: var(--fill-color);\n",
              "      border-bottom-color: var(--fill-color);\n",
              "    }\n",
              "    90% {\n",
              "      border-color: transparent;\n",
              "      border-bottom-color: var(--fill-color);\n",
              "    }\n",
              "  }\n",
              "</style>\n",
              "\n",
              "  <script>\n",
              "    async function quickchart(key) {\n",
              "      const quickchartButtonEl =\n",
              "        document.querySelector('#' + key + ' button');\n",
              "      quickchartButtonEl.disabled = true;  // To prevent multiple clicks.\n",
              "      quickchartButtonEl.classList.add('colab-df-spinner');\n",
              "      try {\n",
              "        const charts = await google.colab.kernel.invokeFunction(\n",
              "            'suggestCharts', [key], {});\n",
              "      } catch (error) {\n",
              "        console.error('Error during call to suggestCharts:', error);\n",
              "      }\n",
              "      quickchartButtonEl.classList.remove('colab-df-spinner');\n",
              "      quickchartButtonEl.classList.add('colab-df-quickchart-complete');\n",
              "    }\n",
              "    (() => {\n",
              "      let quickchartButtonEl =\n",
              "        document.querySelector('#df-47e03be8-0450-44e8-b966-db88af9fdf16 button');\n",
              "      quickchartButtonEl.style.display =\n",
              "        google.colab.kernel.accessAllowed ? 'block' : 'none';\n",
              "    })();\n",
              "  </script>\n",
              "</div>\n",
              "\n",
              "    </div>\n",
              "  </div>\n"
            ],
            "application/vnd.google.colaboratory.intrinsic+json": {
              "type": "dataframe",
              "variable_name": "df",
              "summary": "{\n  \"name\": \"df\",\n  \"rows\": 633,\n  \"fields\": [\n    {\n      \"column\": \"Open\",\n      \"properties\": {\n        \"dtype\": \"number\",\n        \"std\": 107.44137122861736,\n        \"min\": 90.080002,\n        \"max\": 529.280029,\n        \"num_unique_values\": 631,\n        \"samples\": [\n          319.420013,\n          109.540001,\n          153.330002\n        ],\n        \"semantic_type\": \"\",\n        \"description\": \"\"\n      }\n    },\n    {\n      \"column\": \"High\",\n      \"properties\": {\n        \"dtype\": \"number\",\n        \"std\": 108.40668779312097,\n        \"min\": 90.459999,\n        \"max\": 531.48999,\n        \"num_unique_values\": 620,\n        \"samples\": [\n          337.0,\n          501.350006,\n          211.320007\n        ],\n        \"semantic_type\": \"\",\n        \"description\": \"\"\n      }\n    },\n    {\n      \"column\": \"Low\",\n      \"properties\": {\n        \"dtype\": \"number\",\n        \"std\": 106.23657905543357,\n        \"min\": 88.089996,\n        \"max\": 518.890015,\n        \"num_unique_values\": 627,\n        \"samples\": [\n          482.609985,\n          488.160004,\n          358.609985\n        ],\n        \"semantic_type\": \"\",\n        \"description\": \"\"\n      }\n    },\n    {\n      \"column\": \"Close\",\n      \"properties\": {\n        \"dtype\": \"number\",\n        \"std\": 107.35645145394369,\n        \"min\": 88.910004,\n        \"max\": 527.340027,\n        \"num_unique_values\": 627,\n        \"samples\": [\n          490.130005,\n          491.829987,\n          367.459991\n        ],\n        \"semantic_type\": \"\",\n        \"description\": \"\"\n      }\n    },\n    {\n      \"column\": \"Adj Close\",\n      \"properties\": {\n        \"dtype\": \"number\",\n        \"std\": 107.33577074521446,\n        \"min\": 88.815765,\n        \"max\": 527.340027,\n        \"num_unique_values\": 628,\n        \"samples\": [\n          490.130005,\n          491.829987,\n          367.070526\n        ],\n        \"semantic_type\": \"\",\n        \"description\": \"\"\n      }\n    },\n    {\n      \"column\": \"Volume\",\n      \"properties\": {\n        \"dtype\": \"number\",\n        \"std\": 19004353,\n        \"min\": 5467500,\n        \"max\": 232316600,\n        \"num_unique_values\": 633,\n        \"samples\": [\n          34592600,\n          46348600,\n          22943300\n        ],\n        \"semantic_type\": \"\",\n        \"description\": \"\"\n      }\n    },\n    {\n      \"column\": \"Year\",\n      \"properties\": {\n        \"dtype\": \"int32\",\n        \"num_unique_values\": 4,\n        \"samples\": [\n          2022,\n          2024,\n          2021\n        ],\n        \"semantic_type\": \"\",\n        \"description\": \"\"\n      }\n    },\n    {\n      \"column\": \"Month\",\n      \"properties\": {\n        \"dtype\": \"int32\",\n        \"num_unique_values\": 12,\n        \"samples\": [\n          8,\n          7,\n          10\n        ],\n        \"semantic_type\": \"\",\n        \"description\": \"\"\n      }\n    },\n    {\n      \"column\": \"Day\",\n      \"properties\": {\n        \"dtype\": \"int32\",\n        \"num_unique_values\": 31,\n        \"samples\": [\n          21,\n          18,\n          7\n        ],\n        \"semantic_type\": \"\",\n        \"description\": \"\"\n      }\n    }\n  ]\n}"
            }
          },
          "metadata": {},
          "execution_count": 56
        }
      ]
    },
    {
      "cell_type": "code",
      "source": [
        "df.shape"
      ],
      "metadata": {
        "colab": {
          "base_uri": "https://localhost:8080/"
        },
        "id": "KVDi8mGqVfAO",
        "outputId": "11b4ff87-c3dd-4062-f8c4-86b2ba431052"
      },
      "execution_count": 57,
      "outputs": [
        {
          "output_type": "execute_result",
          "data": {
            "text/plain": [
              "(633, 9)"
            ]
          },
          "metadata": {},
          "execution_count": 57
        }
      ]
    },
    {
      "cell_type": "code",
      "source": [
        "yearly_stock_price = df.groupby('Year')[['Open', 'Close']].mean().reset_index()\n",
        "\n",
        "fig = px.bar(yearly_stock_price, x='Year', y=['Open', 'Close'],\n",
        "             barmode='group', title=\"Yrarly Comparison of Price Open and Close\")\n",
        "\n",
        "fig.show()"
      ],
      "metadata": {
        "colab": {
          "base_uri": "https://localhost:8080/",
          "height": 542
        },
        "id": "0mIOvpjCVtXK",
        "outputId": "67817dd0-447a-4069-f8bd-656d01e5f6c8"
      },
      "execution_count": 59,
      "outputs": [
        {
          "output_type": "display_data",
          "data": {
            "text/html": [
              "<html>\n",
              "<head><meta charset=\"utf-8\" /></head>\n",
              "<body>\n",
              "    <div>            <script src=\"https://cdnjs.cloudflare.com/ajax/libs/mathjax/2.7.5/MathJax.js?config=TeX-AMS-MML_SVG\"></script><script type=\"text/javascript\">if (window.MathJax && window.MathJax.Hub && window.MathJax.Hub.Config) {window.MathJax.Hub.Config({SVG: {font: \"STIX-Web\"}});}</script>                <script type=\"text/javascript\">window.PlotlyConfig = {MathJaxConfig: 'local'};</script>\n",
              "        <script charset=\"utf-8\" src=\"https://cdn.plot.ly/plotly-2.24.1.min.js\"></script>                <div id=\"13bcc6ef-7125-43d2-8c47-087419b543d3\" class=\"plotly-graph-div\" style=\"height:525px; width:100%;\"></div>            <script type=\"text/javascript\">                                    window.PLOTLYENV=window.PLOTLYENV || {};                                    if (document.getElementById(\"13bcc6ef-7125-43d2-8c47-087419b543d3\")) {                    Plotly.newPlot(                        \"13bcc6ef-7125-43d2-8c47-087419b543d3\",                        [{\"alignmentgroup\":\"True\",\"hovertemplate\":\"variable=Open\\u003cbr\\u003eYear=%{x}\\u003cbr\\u003evalue=%{y}\\u003cextra\\u003e\\u003c\\u002fextra\\u003e\",\"legendgroup\":\"Open\",\"marker\":{\"color\":\"#636efa\",\"pattern\":{\"shape\":\"\"}},\"name\":\"Open\",\"offsetgroup\":\"Open\",\"orientation\":\"v\",\"showlegend\":true,\"textposition\":\"auto\",\"x\":[2021,2022,2023,2024],\"xaxis\":\"x\",\"y\":[333.118,180.23900403187253,260.87904068,457.4895401494253],\"yaxis\":\"y\",\"type\":\"bar\"},{\"alignmentgroup\":\"True\",\"hovertemplate\":\"variable=Close\\u003cbr\\u003eYear=%{x}\\u003cbr\\u003evalue=%{y}\\u003cextra\\u003e\\u003c\\u002fextra\\u003e\",\"legendgroup\":\"Close\",\"marker\":{\"color\":\"#EF553B\",\"pattern\":{\"shape\":\"\"}},\"name\":\"Close\",\"offsetgroup\":\"Close\",\"orientation\":\"v\",\"showlegend\":true,\"textposition\":\"auto\",\"x\":[2021,2022,2023,2024],\"xaxis\":\"x\",\"y\":[333.0273335555555,180.187689749004,261.42427994400003,457.81160970114945],\"yaxis\":\"y\",\"type\":\"bar\"}],                        {\"template\":{\"data\":{\"histogram2dcontour\":[{\"type\":\"histogram2dcontour\",\"colorbar\":{\"outlinewidth\":0,\"ticks\":\"\"},\"colorscale\":[[0.0,\"#0d0887\"],[0.1111111111111111,\"#46039f\"],[0.2222222222222222,\"#7201a8\"],[0.3333333333333333,\"#9c179e\"],[0.4444444444444444,\"#bd3786\"],[0.5555555555555556,\"#d8576b\"],[0.6666666666666666,\"#ed7953\"],[0.7777777777777778,\"#fb9f3a\"],[0.8888888888888888,\"#fdca26\"],[1.0,\"#f0f921\"]]}],\"choropleth\":[{\"type\":\"choropleth\",\"colorbar\":{\"outlinewidth\":0,\"ticks\":\"\"}}],\"histogram2d\":[{\"type\":\"histogram2d\",\"colorbar\":{\"outlinewidth\":0,\"ticks\":\"\"},\"colorscale\":[[0.0,\"#0d0887\"],[0.1111111111111111,\"#46039f\"],[0.2222222222222222,\"#7201a8\"],[0.3333333333333333,\"#9c179e\"],[0.4444444444444444,\"#bd3786\"],[0.5555555555555556,\"#d8576b\"],[0.6666666666666666,\"#ed7953\"],[0.7777777777777778,\"#fb9f3a\"],[0.8888888888888888,\"#fdca26\"],[1.0,\"#f0f921\"]]}],\"heatmap\":[{\"type\":\"heatmap\",\"colorbar\":{\"outlinewidth\":0,\"ticks\":\"\"},\"colorscale\":[[0.0,\"#0d0887\"],[0.1111111111111111,\"#46039f\"],[0.2222222222222222,\"#7201a8\"],[0.3333333333333333,\"#9c179e\"],[0.4444444444444444,\"#bd3786\"],[0.5555555555555556,\"#d8576b\"],[0.6666666666666666,\"#ed7953\"],[0.7777777777777778,\"#fb9f3a\"],[0.8888888888888888,\"#fdca26\"],[1.0,\"#f0f921\"]]}],\"heatmapgl\":[{\"type\":\"heatmapgl\",\"colorbar\":{\"outlinewidth\":0,\"ticks\":\"\"},\"colorscale\":[[0.0,\"#0d0887\"],[0.1111111111111111,\"#46039f\"],[0.2222222222222222,\"#7201a8\"],[0.3333333333333333,\"#9c179e\"],[0.4444444444444444,\"#bd3786\"],[0.5555555555555556,\"#d8576b\"],[0.6666666666666666,\"#ed7953\"],[0.7777777777777778,\"#fb9f3a\"],[0.8888888888888888,\"#fdca26\"],[1.0,\"#f0f921\"]]}],\"contourcarpet\":[{\"type\":\"contourcarpet\",\"colorbar\":{\"outlinewidth\":0,\"ticks\":\"\"}}],\"contour\":[{\"type\":\"contour\",\"colorbar\":{\"outlinewidth\":0,\"ticks\":\"\"},\"colorscale\":[[0.0,\"#0d0887\"],[0.1111111111111111,\"#46039f\"],[0.2222222222222222,\"#7201a8\"],[0.3333333333333333,\"#9c179e\"],[0.4444444444444444,\"#bd3786\"],[0.5555555555555556,\"#d8576b\"],[0.6666666666666666,\"#ed7953\"],[0.7777777777777778,\"#fb9f3a\"],[0.8888888888888888,\"#fdca26\"],[1.0,\"#f0f921\"]]}],\"surface\":[{\"type\":\"surface\",\"colorbar\":{\"outlinewidth\":0,\"ticks\":\"\"},\"colorscale\":[[0.0,\"#0d0887\"],[0.1111111111111111,\"#46039f\"],[0.2222222222222222,\"#7201a8\"],[0.3333333333333333,\"#9c179e\"],[0.4444444444444444,\"#bd3786\"],[0.5555555555555556,\"#d8576b\"],[0.6666666666666666,\"#ed7953\"],[0.7777777777777778,\"#fb9f3a\"],[0.8888888888888888,\"#fdca26\"],[1.0,\"#f0f921\"]]}],\"mesh3d\":[{\"type\":\"mesh3d\",\"colorbar\":{\"outlinewidth\":0,\"ticks\":\"\"}}],\"scatter\":[{\"fillpattern\":{\"fillmode\":\"overlay\",\"size\":10,\"solidity\":0.2},\"type\":\"scatter\"}],\"parcoords\":[{\"type\":\"parcoords\",\"line\":{\"colorbar\":{\"outlinewidth\":0,\"ticks\":\"\"}}}],\"scatterpolargl\":[{\"type\":\"scatterpolargl\",\"marker\":{\"colorbar\":{\"outlinewidth\":0,\"ticks\":\"\"}}}],\"bar\":[{\"error_x\":{\"color\":\"#2a3f5f\"},\"error_y\":{\"color\":\"#2a3f5f\"},\"marker\":{\"line\":{\"color\":\"#E5ECF6\",\"width\":0.5},\"pattern\":{\"fillmode\":\"overlay\",\"size\":10,\"solidity\":0.2}},\"type\":\"bar\"}],\"scattergeo\":[{\"type\":\"scattergeo\",\"marker\":{\"colorbar\":{\"outlinewidth\":0,\"ticks\":\"\"}}}],\"scatterpolar\":[{\"type\":\"scatterpolar\",\"marker\":{\"colorbar\":{\"outlinewidth\":0,\"ticks\":\"\"}}}],\"histogram\":[{\"marker\":{\"pattern\":{\"fillmode\":\"overlay\",\"size\":10,\"solidity\":0.2}},\"type\":\"histogram\"}],\"scattergl\":[{\"type\":\"scattergl\",\"marker\":{\"colorbar\":{\"outlinewidth\":0,\"ticks\":\"\"}}}],\"scatter3d\":[{\"type\":\"scatter3d\",\"line\":{\"colorbar\":{\"outlinewidth\":0,\"ticks\":\"\"}},\"marker\":{\"colorbar\":{\"outlinewidth\":0,\"ticks\":\"\"}}}],\"scattermapbox\":[{\"type\":\"scattermapbox\",\"marker\":{\"colorbar\":{\"outlinewidth\":0,\"ticks\":\"\"}}}],\"scatterternary\":[{\"type\":\"scatterternary\",\"marker\":{\"colorbar\":{\"outlinewidth\":0,\"ticks\":\"\"}}}],\"scattercarpet\":[{\"type\":\"scattercarpet\",\"marker\":{\"colorbar\":{\"outlinewidth\":0,\"ticks\":\"\"}}}],\"carpet\":[{\"aaxis\":{\"endlinecolor\":\"#2a3f5f\",\"gridcolor\":\"white\",\"linecolor\":\"white\",\"minorgridcolor\":\"white\",\"startlinecolor\":\"#2a3f5f\"},\"baxis\":{\"endlinecolor\":\"#2a3f5f\",\"gridcolor\":\"white\",\"linecolor\":\"white\",\"minorgridcolor\":\"white\",\"startlinecolor\":\"#2a3f5f\"},\"type\":\"carpet\"}],\"table\":[{\"cells\":{\"fill\":{\"color\":\"#EBF0F8\"},\"line\":{\"color\":\"white\"}},\"header\":{\"fill\":{\"color\":\"#C8D4E3\"},\"line\":{\"color\":\"white\"}},\"type\":\"table\"}],\"barpolar\":[{\"marker\":{\"line\":{\"color\":\"#E5ECF6\",\"width\":0.5},\"pattern\":{\"fillmode\":\"overlay\",\"size\":10,\"solidity\":0.2}},\"type\":\"barpolar\"}],\"pie\":[{\"automargin\":true,\"type\":\"pie\"}]},\"layout\":{\"autotypenumbers\":\"strict\",\"colorway\":[\"#636efa\",\"#EF553B\",\"#00cc96\",\"#ab63fa\",\"#FFA15A\",\"#19d3f3\",\"#FF6692\",\"#B6E880\",\"#FF97FF\",\"#FECB52\"],\"font\":{\"color\":\"#2a3f5f\"},\"hovermode\":\"closest\",\"hoverlabel\":{\"align\":\"left\"},\"paper_bgcolor\":\"white\",\"plot_bgcolor\":\"#E5ECF6\",\"polar\":{\"bgcolor\":\"#E5ECF6\",\"angularaxis\":{\"gridcolor\":\"white\",\"linecolor\":\"white\",\"ticks\":\"\"},\"radialaxis\":{\"gridcolor\":\"white\",\"linecolor\":\"white\",\"ticks\":\"\"}},\"ternary\":{\"bgcolor\":\"#E5ECF6\",\"aaxis\":{\"gridcolor\":\"white\",\"linecolor\":\"white\",\"ticks\":\"\"},\"baxis\":{\"gridcolor\":\"white\",\"linecolor\":\"white\",\"ticks\":\"\"},\"caxis\":{\"gridcolor\":\"white\",\"linecolor\":\"white\",\"ticks\":\"\"}},\"coloraxis\":{\"colorbar\":{\"outlinewidth\":0,\"ticks\":\"\"}},\"colorscale\":{\"sequential\":[[0.0,\"#0d0887\"],[0.1111111111111111,\"#46039f\"],[0.2222222222222222,\"#7201a8\"],[0.3333333333333333,\"#9c179e\"],[0.4444444444444444,\"#bd3786\"],[0.5555555555555556,\"#d8576b\"],[0.6666666666666666,\"#ed7953\"],[0.7777777777777778,\"#fb9f3a\"],[0.8888888888888888,\"#fdca26\"],[1.0,\"#f0f921\"]],\"sequentialminus\":[[0.0,\"#0d0887\"],[0.1111111111111111,\"#46039f\"],[0.2222222222222222,\"#7201a8\"],[0.3333333333333333,\"#9c179e\"],[0.4444444444444444,\"#bd3786\"],[0.5555555555555556,\"#d8576b\"],[0.6666666666666666,\"#ed7953\"],[0.7777777777777778,\"#fb9f3a\"],[0.8888888888888888,\"#fdca26\"],[1.0,\"#f0f921\"]],\"diverging\":[[0,\"#8e0152\"],[0.1,\"#c51b7d\"],[0.2,\"#de77ae\"],[0.3,\"#f1b6da\"],[0.4,\"#fde0ef\"],[0.5,\"#f7f7f7\"],[0.6,\"#e6f5d0\"],[0.7,\"#b8e186\"],[0.8,\"#7fbc41\"],[0.9,\"#4d9221\"],[1,\"#276419\"]]},\"xaxis\":{\"gridcolor\":\"white\",\"linecolor\":\"white\",\"ticks\":\"\",\"title\":{\"standoff\":15},\"zerolinecolor\":\"white\",\"automargin\":true,\"zerolinewidth\":2},\"yaxis\":{\"gridcolor\":\"white\",\"linecolor\":\"white\",\"ticks\":\"\",\"title\":{\"standoff\":15},\"zerolinecolor\":\"white\",\"automargin\":true,\"zerolinewidth\":2},\"scene\":{\"xaxis\":{\"backgroundcolor\":\"#E5ECF6\",\"gridcolor\":\"white\",\"linecolor\":\"white\",\"showbackground\":true,\"ticks\":\"\",\"zerolinecolor\":\"white\",\"gridwidth\":2},\"yaxis\":{\"backgroundcolor\":\"#E5ECF6\",\"gridcolor\":\"white\",\"linecolor\":\"white\",\"showbackground\":true,\"ticks\":\"\",\"zerolinecolor\":\"white\",\"gridwidth\":2},\"zaxis\":{\"backgroundcolor\":\"#E5ECF6\",\"gridcolor\":\"white\",\"linecolor\":\"white\",\"showbackground\":true,\"ticks\":\"\",\"zerolinecolor\":\"white\",\"gridwidth\":2}},\"shapedefaults\":{\"line\":{\"color\":\"#2a3f5f\"}},\"annotationdefaults\":{\"arrowcolor\":\"#2a3f5f\",\"arrowhead\":0,\"arrowwidth\":1},\"geo\":{\"bgcolor\":\"white\",\"landcolor\":\"#E5ECF6\",\"subunitcolor\":\"white\",\"showland\":true,\"showlakes\":true,\"lakecolor\":\"white\"},\"title\":{\"x\":0.05},\"mapbox\":{\"style\":\"light\"}}},\"xaxis\":{\"anchor\":\"y\",\"domain\":[0.0,1.0],\"title\":{\"text\":\"Year\"}},\"yaxis\":{\"anchor\":\"x\",\"domain\":[0.0,1.0],\"title\":{\"text\":\"value\"}},\"legend\":{\"title\":{\"text\":\"variable\"},\"tracegroupgap\":0},\"title\":{\"text\":\"Yrarly Comparison of Price Open and Close\"},\"barmode\":\"group\"},                        {\"responsive\": true}                    ).then(function(){\n",
              "                            \n",
              "var gd = document.getElementById('13bcc6ef-7125-43d2-8c47-087419b543d3');\n",
              "var x = new MutationObserver(function (mutations, observer) {{\n",
              "        var display = window.getComputedStyle(gd).display;\n",
              "        if (!display || display === 'none') {{\n",
              "            console.log([gd, 'removed!']);\n",
              "            Plotly.purge(gd);\n",
              "            observer.disconnect();\n",
              "        }}\n",
              "}});\n",
              "\n",
              "// Listen for the removal of the full notebook cells\n",
              "var notebookContainer = gd.closest('#notebook-container');\n",
              "if (notebookContainer) {{\n",
              "    x.observe(notebookContainer, {childList: true});\n",
              "}}\n",
              "\n",
              "// Listen for the clearing of the current output cell\n",
              "var outputEl = gd.closest('.output');\n",
              "if (outputEl) {{\n",
              "    x.observe(outputEl, {childList: true});\n",
              "}}\n",
              "\n",
              "                        })                };                            </script>        </div>\n",
              "</body>\n",
              "</html>"
            ]
          },
          "metadata": {}
        }
      ]
    },
    {
      "cell_type": "markdown",
      "source": [
        "### Importing Libraries for Data Splitting and Model Building"
      ],
      "metadata": {
        "id": "bjyS1QSBWdF_"
      }
    },
    {
      "cell_type": "code",
      "source": [
        "!pip install tensorflow"
      ],
      "metadata": {
        "colab": {
          "base_uri": "https://localhost:8080/"
        },
        "id": "s4M2Bh-YXfl4",
        "outputId": "a9bdc0b7-bf43-472b-815d-822767ab4484"
      },
      "execution_count": 61,
      "outputs": [
        {
          "output_type": "stream",
          "name": "stdout",
          "text": [
            "Requirement already satisfied: tensorflow in /usr/local/lib/python3.10/dist-packages (2.15.0)\n",
            "Requirement already satisfied: absl-py>=1.0.0 in /usr/local/lib/python3.10/dist-packages (from tensorflow) (1.4.0)\n",
            "Requirement already satisfied: astunparse>=1.6.0 in /usr/local/lib/python3.10/dist-packages (from tensorflow) (1.6.3)\n",
            "Requirement already satisfied: flatbuffers>=23.5.26 in /usr/local/lib/python3.10/dist-packages (from tensorflow) (24.3.25)\n",
            "Requirement already satisfied: gast!=0.5.0,!=0.5.1,!=0.5.2,>=0.2.1 in /usr/local/lib/python3.10/dist-packages (from tensorflow) (0.5.4)\n",
            "Requirement already satisfied: google-pasta>=0.1.1 in /usr/local/lib/python3.10/dist-packages (from tensorflow) (0.2.0)\n",
            "Requirement already satisfied: h5py>=2.9.0 in /usr/local/lib/python3.10/dist-packages (from tensorflow) (3.9.0)\n",
            "Requirement already satisfied: libclang>=13.0.0 in /usr/local/lib/python3.10/dist-packages (from tensorflow) (18.1.1)\n",
            "Requirement already satisfied: ml-dtypes~=0.2.0 in /usr/local/lib/python3.10/dist-packages (from tensorflow) (0.2.0)\n",
            "Requirement already satisfied: numpy<2.0.0,>=1.23.5 in /usr/local/lib/python3.10/dist-packages (from tensorflow) (1.25.2)\n",
            "Requirement already satisfied: opt-einsum>=2.3.2 in /usr/local/lib/python3.10/dist-packages (from tensorflow) (3.3.0)\n",
            "Requirement already satisfied: packaging in /usr/local/lib/python3.10/dist-packages (from tensorflow) (24.0)\n",
            "Requirement already satisfied: protobuf!=4.21.0,!=4.21.1,!=4.21.2,!=4.21.3,!=4.21.4,!=4.21.5,<5.0.0dev,>=3.20.3 in /usr/local/lib/python3.10/dist-packages (from tensorflow) (3.20.3)\n",
            "Requirement already satisfied: setuptools in /usr/local/lib/python3.10/dist-packages (from tensorflow) (67.7.2)\n",
            "Requirement already satisfied: six>=1.12.0 in /usr/local/lib/python3.10/dist-packages (from tensorflow) (1.16.0)\n",
            "Requirement already satisfied: termcolor>=1.1.0 in /usr/local/lib/python3.10/dist-packages (from tensorflow) (2.4.0)\n",
            "Requirement already satisfied: typing-extensions>=3.6.6 in /usr/local/lib/python3.10/dist-packages (from tensorflow) (4.11.0)\n",
            "Requirement already satisfied: wrapt<1.15,>=1.11.0 in /usr/local/lib/python3.10/dist-packages (from tensorflow) (1.14.1)\n",
            "Requirement already satisfied: tensorflow-io-gcs-filesystem>=0.23.1 in /usr/local/lib/python3.10/dist-packages (from tensorflow) (0.37.0)\n",
            "Requirement already satisfied: grpcio<2.0,>=1.24.3 in /usr/local/lib/python3.10/dist-packages (from tensorflow) (1.64.0)\n",
            "Requirement already satisfied: tensorboard<2.16,>=2.15 in /usr/local/lib/python3.10/dist-packages (from tensorflow) (2.15.2)\n",
            "Requirement already satisfied: tensorflow-estimator<2.16,>=2.15.0 in /usr/local/lib/python3.10/dist-packages (from tensorflow) (2.15.0)\n",
            "Requirement already satisfied: keras<2.16,>=2.15.0 in /usr/local/lib/python3.10/dist-packages (from tensorflow) (2.15.0)\n",
            "Requirement already satisfied: wheel<1.0,>=0.23.0 in /usr/local/lib/python3.10/dist-packages (from astunparse>=1.6.0->tensorflow) (0.43.0)\n",
            "Requirement already satisfied: google-auth<3,>=1.6.3 in /usr/local/lib/python3.10/dist-packages (from tensorboard<2.16,>=2.15->tensorflow) (2.27.0)\n",
            "Requirement already satisfied: google-auth-oauthlib<2,>=0.5 in /usr/local/lib/python3.10/dist-packages (from tensorboard<2.16,>=2.15->tensorflow) (1.2.0)\n",
            "Requirement already satisfied: markdown>=2.6.8 in /usr/local/lib/python3.10/dist-packages (from tensorboard<2.16,>=2.15->tensorflow) (3.6)\n",
            "Requirement already satisfied: requests<3,>=2.21.0 in /usr/local/lib/python3.10/dist-packages (from tensorboard<2.16,>=2.15->tensorflow) (2.31.0)\n",
            "Requirement already satisfied: tensorboard-data-server<0.8.0,>=0.7.0 in /usr/local/lib/python3.10/dist-packages (from tensorboard<2.16,>=2.15->tensorflow) (0.7.2)\n",
            "Requirement already satisfied: werkzeug>=1.0.1 in /usr/local/lib/python3.10/dist-packages (from tensorboard<2.16,>=2.15->tensorflow) (3.0.3)\n",
            "Requirement already satisfied: cachetools<6.0,>=2.0.0 in /usr/local/lib/python3.10/dist-packages (from google-auth<3,>=1.6.3->tensorboard<2.16,>=2.15->tensorflow) (5.3.3)\n",
            "Requirement already satisfied: pyasn1-modules>=0.2.1 in /usr/local/lib/python3.10/dist-packages (from google-auth<3,>=1.6.3->tensorboard<2.16,>=2.15->tensorflow) (0.4.0)\n",
            "Requirement already satisfied: rsa<5,>=3.1.4 in /usr/local/lib/python3.10/dist-packages (from google-auth<3,>=1.6.3->tensorboard<2.16,>=2.15->tensorflow) (4.9)\n",
            "Requirement already satisfied: requests-oauthlib>=0.7.0 in /usr/local/lib/python3.10/dist-packages (from google-auth-oauthlib<2,>=0.5->tensorboard<2.16,>=2.15->tensorflow) (1.3.1)\n",
            "Requirement already satisfied: charset-normalizer<4,>=2 in /usr/local/lib/python3.10/dist-packages (from requests<3,>=2.21.0->tensorboard<2.16,>=2.15->tensorflow) (3.3.2)\n",
            "Requirement already satisfied: idna<4,>=2.5 in /usr/local/lib/python3.10/dist-packages (from requests<3,>=2.21.0->tensorboard<2.16,>=2.15->tensorflow) (3.7)\n",
            "Requirement already satisfied: urllib3<3,>=1.21.1 in /usr/local/lib/python3.10/dist-packages (from requests<3,>=2.21.0->tensorboard<2.16,>=2.15->tensorflow) (2.0.7)\n",
            "Requirement already satisfied: certifi>=2017.4.17 in /usr/local/lib/python3.10/dist-packages (from requests<3,>=2.21.0->tensorboard<2.16,>=2.15->tensorflow) (2024.2.2)\n",
            "Requirement already satisfied: MarkupSafe>=2.1.1 in /usr/local/lib/python3.10/dist-packages (from werkzeug>=1.0.1->tensorboard<2.16,>=2.15->tensorflow) (2.1.5)\n",
            "Requirement already satisfied: pyasn1<0.7.0,>=0.4.6 in /usr/local/lib/python3.10/dist-packages (from pyasn1-modules>=0.2.1->google-auth<3,>=1.6.3->tensorboard<2.16,>=2.15->tensorflow) (0.6.0)\n",
            "Requirement already satisfied: oauthlib>=3.0.0 in /usr/local/lib/python3.10/dist-packages (from requests-oauthlib>=0.7.0->google-auth-oauthlib<2,>=0.5->tensorboard<2.16,>=2.15->tensorflow) (3.2.2)\n"
          ]
        }
      ]
    },
    {
      "cell_type": "code",
      "source": [
        "from sklearn.model_selection import train_test_split\n",
        "\n",
        "from sklearn.linear_model import LinearRegression\n",
        "from sklearn.ensemble import RandomForestRegressor\n",
        "\n",
        "from tensorflow.keras.models import Sequential\n",
        "from tensorflow.keras.layers import Dense\n",
        "from tensorflow.keras.layers import Dropout\n",
        "from tensorflow.keras.optimizers import Adam\n",
        "\n",
        "from sklearn.metrics import mean_absolute_error, mean_squared_error, r2_score"
      ],
      "metadata": {
        "id": "x6BaTfNCWlQB"
      },
      "execution_count": 65,
      "outputs": []
    },
    {
      "cell_type": "markdown",
      "source": [
        "\n",
        "\n",
        "> Splitting the data\n",
        "\n"
      ],
      "metadata": {
        "id": "LL4iVuBMXzqf"
      }
    },
    {
      "cell_type": "code",
      "source": [
        "X = df.drop('Close', axis=1)\n",
        "y = df['Close']"
      ],
      "metadata": {
        "id": "hEUeEi08Xy13"
      },
      "execution_count": 62,
      "outputs": []
    },
    {
      "cell_type": "code",
      "source": [
        "X_train, X_test, y_train, y_test = train_test_split(X, y, test_size=0.2, random_state=42)"
      ],
      "metadata": {
        "id": "IP-_CYyQYICg"
      },
      "execution_count": 66,
      "outputs": []
    },
    {
      "cell_type": "code",
      "source": [
        "print(f\"The Shape of X_train  : {X_train.shape}\")\n",
        "print(f\"The Shape of X_test  : {X_test.shape}\")\n",
        "print(f\"The Shape of y_train  : {y_train.shape}\")\n",
        "print(f\"The Shape of y_test  : {y_test.shape}\")"
      ],
      "metadata": {
        "colab": {
          "base_uri": "https://localhost:8080/"
        },
        "id": "Ot2Cu-uuYeTq",
        "outputId": "5ad261ac-9451-40b9-bc11-3266789b8815"
      },
      "execution_count": 67,
      "outputs": [
        {
          "output_type": "stream",
          "name": "stdout",
          "text": [
            "The Shape of X_train  : (506, 8)\n",
            "The Shape of X_test  : (127, 8)\n",
            "The Shape of y_train  : (506,)\n",
            "The Shape of y_test  : (127,)\n"
          ]
        }
      ]
    },
    {
      "cell_type": "code",
      "source": [
        "results = []"
      ],
      "metadata": {
        "id": "XXRyFCm9do3i"
      },
      "execution_count": 113,
      "outputs": []
    },
    {
      "cell_type": "markdown",
      "source": [
        "\n",
        "\n",
        "> Nural Network\n",
        "\n"
      ],
      "metadata": {
        "id": "LOIDpwRgYv30"
      }
    },
    {
      "cell_type": "code",
      "source": [
        "model = Sequential(\n",
        "    [\n",
        "        Dense(units=16, input_dim=8, activation='relu'),\n",
        "        Dense(units=24, activation='relu'),\n",
        "        Dropout(0.5), # To avoid Overfitting\n",
        "        Dense(units=20, activation='relu'),\n",
        "        Dense(units=24, activation='relu'),\n",
        "        Dense(units=1, activation='sigmoid')\n",
        "    ]\n",
        ")"
      ],
      "metadata": {
        "id": "nDvd8ZwdY5-X"
      },
      "execution_count": 68,
      "outputs": []
    },
    {
      "cell_type": "code",
      "source": [
        "model.summary()"
      ],
      "metadata": {
        "colab": {
          "base_uri": "https://localhost:8080/"
        },
        "id": "ShVzan_cZ6AG",
        "outputId": "66588958-26d3-4d75-feaf-397c1fb7404b"
      },
      "execution_count": 69,
      "outputs": [
        {
          "output_type": "stream",
          "name": "stdout",
          "text": [
            "Model: \"sequential\"\n",
            "_________________________________________________________________\n",
            " Layer (type)                Output Shape              Param #   \n",
            "=================================================================\n",
            " dense (Dense)               (None, 16)                144       \n",
            "                                                                 \n",
            " dense_1 (Dense)             (None, 24)                408       \n",
            "                                                                 \n",
            " dropout (Dropout)           (None, 24)                0         \n",
            "                                                                 \n",
            " dense_2 (Dense)             (None, 20)                500       \n",
            "                                                                 \n",
            " dense_3 (Dense)             (None, 24)                504       \n",
            "                                                                 \n",
            " dense_4 (Dense)             (None, 1)                 25        \n",
            "                                                                 \n",
            "=================================================================\n",
            "Total params: 1581 (6.18 KB)\n",
            "Trainable params: 1581 (6.18 KB)\n",
            "Non-trainable params: 0 (0.00 Byte)\n",
            "_________________________________________________________________\n"
          ]
        }
      ]
    },
    {
      "cell_type": "code",
      "source": [
        "model.compile(\n",
        "    optimizer=Adam(learning_rate=0.001),\n",
        "    loss='mean_squared_error',\n",
        ")\n",
        "\n",
        "model.fit(X_train, y_train, batch_size=15, epochs=5)"
      ],
      "metadata": {
        "colab": {
          "base_uri": "https://localhost:8080/"
        },
        "id": "Dl6yE_AFZ8xX",
        "outputId": "0c892eb1-462d-440a-baf7-a9f7f5a58848"
      },
      "execution_count": 83,
      "outputs": [
        {
          "output_type": "stream",
          "name": "stdout",
          "text": [
            "Epoch 1/5\n",
            "34/34 [==============================] - 1s 2ms/step - loss: 82092.6484\n",
            "Epoch 2/5\n",
            "34/34 [==============================] - 0s 2ms/step - loss: 82092.3516\n",
            "Epoch 3/5\n",
            "34/34 [==============================] - 0s 2ms/step - loss: 82091.4297\n",
            "Epoch 4/5\n",
            "34/34 [==============================] - 0s 3ms/step - loss: 82092.6328\n",
            "Epoch 5/5\n",
            "34/34 [==============================] - 0s 2ms/step - loss: 82092.3516\n"
          ]
        },
        {
          "output_type": "execute_result",
          "data": {
            "text/plain": [
              "<keras.src.callbacks.History at 0x7bb677a833a0>"
            ]
          },
          "metadata": {},
          "execution_count": 83
        }
      ]
    },
    {
      "cell_type": "code",
      "source": [
        "y_pred = model.predict(X_test)"
      ],
      "metadata": {
        "colab": {
          "base_uri": "https://localhost:8080/"
        },
        "id": "l7n6jdCvbGtN",
        "outputId": "cfa5619d-8d85-417b-d3a0-2c25e665b01f"
      },
      "execution_count": 114,
      "outputs": [
        {
          "output_type": "stream",
          "name": "stdout",
          "text": [
            "4/4 [==============================] - 0s 3ms/step\n"
          ]
        }
      ]
    },
    {
      "cell_type": "code",
      "source": [
        "dnn_mse = mean_squared_error(y_test, y_pred)\n",
        "dnn_mae = mean_absolute_error(y_test, y_pred)\n",
        "dnn_rmse = np.sqrt(dnn_mse)\n",
        "dnn_r2 = r2_score(y_test, y_pred)\n",
        "\n",
        "\n",
        "print(f'Mean Squared Error on Test Set: {dnn_mse:.4f}')\n",
        "print(f'Mean Absolute Error on Test Set: {dnn_mae:.4f}')\n",
        "print(f'Root Mean Squared Error on Test Set: {dnn_rmse:.4f}')\n",
        "print(f\"R2 Score on Test Set :  {dnn_r2:.4f}\")"
      ],
      "metadata": {
        "colab": {
          "base_uri": "https://localhost:8080/"
        },
        "id": "EeQxAH0lbM-Q",
        "outputId": "56ec001a-b7c6-417d-eed7-8fc7dd32bbdd"
      },
      "execution_count": 115,
      "outputs": [
        {
          "output_type": "stream",
          "name": "stdout",
          "text": [
            "Mean Squared Error on Test Set: 70574.2433\n",
            "Mean Absolute Error on Test Set: 242.3957\n",
            "Root Mean Squared Error on Test Set: 265.6581\n",
            "R2 Score on Test Set :  -4.9715\n"
          ]
        }
      ]
    },
    {
      "cell_type": "code",
      "source": [
        "results.append(\n",
        "    {\n",
        "        'Model': 'DNN',\n",
        "        'MSE': dnn_mse,\n",
        "        'MAE': dnn_mae,\n",
        "        'RMSE': dnn_rmse,\n",
        "        'R2': dnn_r2\n",
        "    }\n",
        ")"
      ],
      "metadata": {
        "id": "sHEg4h4Qd6mS"
      },
      "execution_count": 116,
      "outputs": []
    },
    {
      "cell_type": "markdown",
      "source": [
        "\n",
        "\n",
        "> LinearRegression\n",
        "\n"
      ],
      "metadata": {
        "id": "s4NtcbA1cEHR"
      }
    },
    {
      "cell_type": "code",
      "source": [
        "lr = LinearRegression()"
      ],
      "metadata": {
        "id": "VNCmidqgcGE5"
      },
      "execution_count": 74,
      "outputs": []
    },
    {
      "cell_type": "code",
      "source": [
        "lr.fit(X_train, y_train)"
      ],
      "metadata": {
        "colab": {
          "base_uri": "https://localhost:8080/",
          "height": 74
        },
        "id": "fhVBm3RacJbo",
        "outputId": "5f361bef-1c74-4267-87e3-c96506eff053"
      },
      "execution_count": 87,
      "outputs": [
        {
          "output_type": "execute_result",
          "data": {
            "text/plain": [
              "LinearRegression()"
            ],
            "text/html": [
              "<style>#sk-container-id-3 {color: black;background-color: white;}#sk-container-id-3 pre{padding: 0;}#sk-container-id-3 div.sk-toggleable {background-color: white;}#sk-container-id-3 label.sk-toggleable__label {cursor: pointer;display: block;width: 100%;margin-bottom: 0;padding: 0.3em;box-sizing: border-box;text-align: center;}#sk-container-id-3 label.sk-toggleable__label-arrow:before {content: \"▸\";float: left;margin-right: 0.25em;color: #696969;}#sk-container-id-3 label.sk-toggleable__label-arrow:hover:before {color: black;}#sk-container-id-3 div.sk-estimator:hover label.sk-toggleable__label-arrow:before {color: black;}#sk-container-id-3 div.sk-toggleable__content {max-height: 0;max-width: 0;overflow: hidden;text-align: left;background-color: #f0f8ff;}#sk-container-id-3 div.sk-toggleable__content pre {margin: 0.2em;color: black;border-radius: 0.25em;background-color: #f0f8ff;}#sk-container-id-3 input.sk-toggleable__control:checked~div.sk-toggleable__content {max-height: 200px;max-width: 100%;overflow: auto;}#sk-container-id-3 input.sk-toggleable__control:checked~label.sk-toggleable__label-arrow:before {content: \"▾\";}#sk-container-id-3 div.sk-estimator input.sk-toggleable__control:checked~label.sk-toggleable__label {background-color: #d4ebff;}#sk-container-id-3 div.sk-label input.sk-toggleable__control:checked~label.sk-toggleable__label {background-color: #d4ebff;}#sk-container-id-3 input.sk-hidden--visually {border: 0;clip: rect(1px 1px 1px 1px);clip: rect(1px, 1px, 1px, 1px);height: 1px;margin: -1px;overflow: hidden;padding: 0;position: absolute;width: 1px;}#sk-container-id-3 div.sk-estimator {font-family: monospace;background-color: #f0f8ff;border: 1px dotted black;border-radius: 0.25em;box-sizing: border-box;margin-bottom: 0.5em;}#sk-container-id-3 div.sk-estimator:hover {background-color: #d4ebff;}#sk-container-id-3 div.sk-parallel-item::after {content: \"\";width: 100%;border-bottom: 1px solid gray;flex-grow: 1;}#sk-container-id-3 div.sk-label:hover label.sk-toggleable__label {background-color: #d4ebff;}#sk-container-id-3 div.sk-serial::before {content: \"\";position: absolute;border-left: 1px solid gray;box-sizing: border-box;top: 0;bottom: 0;left: 50%;z-index: 0;}#sk-container-id-3 div.sk-serial {display: flex;flex-direction: column;align-items: center;background-color: white;padding-right: 0.2em;padding-left: 0.2em;position: relative;}#sk-container-id-3 div.sk-item {position: relative;z-index: 1;}#sk-container-id-3 div.sk-parallel {display: flex;align-items: stretch;justify-content: center;background-color: white;position: relative;}#sk-container-id-3 div.sk-item::before, #sk-container-id-3 div.sk-parallel-item::before {content: \"\";position: absolute;border-left: 1px solid gray;box-sizing: border-box;top: 0;bottom: 0;left: 50%;z-index: -1;}#sk-container-id-3 div.sk-parallel-item {display: flex;flex-direction: column;z-index: 1;position: relative;background-color: white;}#sk-container-id-3 div.sk-parallel-item:first-child::after {align-self: flex-end;width: 50%;}#sk-container-id-3 div.sk-parallel-item:last-child::after {align-self: flex-start;width: 50%;}#sk-container-id-3 div.sk-parallel-item:only-child::after {width: 0;}#sk-container-id-3 div.sk-dashed-wrapped {border: 1px dashed gray;margin: 0 0.4em 0.5em 0.4em;box-sizing: border-box;padding-bottom: 0.4em;background-color: white;}#sk-container-id-3 div.sk-label label {font-family: monospace;font-weight: bold;display: inline-block;line-height: 1.2em;}#sk-container-id-3 div.sk-label-container {text-align: center;}#sk-container-id-3 div.sk-container {/* jupyter's `normalize.less` sets `[hidden] { display: none; }` but bootstrap.min.css set `[hidden] { display: none !important; }` so we also need the `!important` here to be able to override the default hidden behavior on the sphinx rendered scikit-learn.org. See: https://github.com/scikit-learn/scikit-learn/issues/21755 */display: inline-block !important;position: relative;}#sk-container-id-3 div.sk-text-repr-fallback {display: none;}</style><div id=\"sk-container-id-3\" class=\"sk-top-container\"><div class=\"sk-text-repr-fallback\"><pre>LinearRegression()</pre><b>In a Jupyter environment, please rerun this cell to show the HTML representation or trust the notebook. <br />On GitHub, the HTML representation is unable to render, please try loading this page with nbviewer.org.</b></div><div class=\"sk-container\" hidden><div class=\"sk-item\"><div class=\"sk-estimator sk-toggleable\"><input class=\"sk-toggleable__control sk-hidden--visually\" id=\"sk-estimator-id-3\" type=\"checkbox\" checked><label for=\"sk-estimator-id-3\" class=\"sk-toggleable__label sk-toggleable__label-arrow\">LinearRegression</label><div class=\"sk-toggleable__content\"><pre>LinearRegression()</pre></div></div></div></div></div>"
            ]
          },
          "metadata": {},
          "execution_count": 87
        }
      ]
    },
    {
      "cell_type": "code",
      "source": [
        "y_pred = lr.predict(X_test)"
      ],
      "metadata": {
        "id": "LrJKIa7jcZFj"
      },
      "execution_count": 117,
      "outputs": []
    },
    {
      "cell_type": "code",
      "source": [
        "lr_mse = mean_squared_error(y_test, y_pred)\n",
        "lr_mae = mean_absolute_error(y_test, y_pred)\n",
        "lr_rmse = np.sqrt(lr_mse)\n",
        "lr_r2 = r2_score(y_test, y_pred)\n",
        "\n",
        "\n",
        "print(f'Mean Squared Error on Test Set: {lr_mse:.4f}')\n",
        "print(f'Mean Absolute Error on Test Set: {lr_mae:.4f}')\n",
        "print(f'Root Mean Squared Error on Test Set: {lr_rmse:.4f}')\n",
        "print(f\"R2 Score on Test Set :  {lr_r2:.4f}\")"
      ],
      "metadata": {
        "colab": {
          "base_uri": "https://localhost:8080/"
        },
        "id": "H2lpstqmcfox",
        "outputId": "b3592227-8e6a-470e-b236-3b0e6fd2a77b"
      },
      "execution_count": 118,
      "outputs": [
        {
          "output_type": "stream",
          "name": "stdout",
          "text": [
            "Mean Squared Error on Test Set: 0.0119\n",
            "Mean Absolute Error on Test Set: 0.0766\n",
            "Root Mean Squared Error on Test Set: 0.1092\n",
            "R2 Score on Test Set :  1.0000\n"
          ]
        }
      ]
    },
    {
      "cell_type": "code",
      "source": [
        "results.append(\n",
        "    {\n",
        "        'Model': 'LinearRegression',\n",
        "        'MSE': lr_mse,\n",
        "        'MAE': lr_mae,\n",
        "        'RMSE': lr_rmse,\n",
        "        'R2': lr_r2\n",
        "    }\n",
        ")"
      ],
      "metadata": {
        "id": "xbGJuh19hNaA"
      },
      "execution_count": 119,
      "outputs": []
    },
    {
      "cell_type": "markdown",
      "source": [
        "\n",
        "\n",
        "> RandomForest\n",
        "\n"
      ],
      "metadata": {
        "id": "4OiGbj_2cpNT"
      }
    },
    {
      "cell_type": "code",
      "source": [
        "rf = RandomForestRegressor()"
      ],
      "metadata": {
        "id": "8JFaFKcIcu7B"
      },
      "execution_count": 78,
      "outputs": []
    },
    {
      "cell_type": "code",
      "source": [
        "rf.fit(X_train, y_train)"
      ],
      "metadata": {
        "colab": {
          "base_uri": "https://localhost:8080/",
          "height": 74
        },
        "id": "OIbhZTMzcy1o",
        "outputId": "660bca1f-cf31-4965-8bb6-f6f1e704f850"
      },
      "execution_count": 94,
      "outputs": [
        {
          "output_type": "execute_result",
          "data": {
            "text/plain": [
              "RandomForestRegressor()"
            ],
            "text/html": [
              "<style>#sk-container-id-5 {color: black;background-color: white;}#sk-container-id-5 pre{padding: 0;}#sk-container-id-5 div.sk-toggleable {background-color: white;}#sk-container-id-5 label.sk-toggleable__label {cursor: pointer;display: block;width: 100%;margin-bottom: 0;padding: 0.3em;box-sizing: border-box;text-align: center;}#sk-container-id-5 label.sk-toggleable__label-arrow:before {content: \"▸\";float: left;margin-right: 0.25em;color: #696969;}#sk-container-id-5 label.sk-toggleable__label-arrow:hover:before {color: black;}#sk-container-id-5 div.sk-estimator:hover label.sk-toggleable__label-arrow:before {color: black;}#sk-container-id-5 div.sk-toggleable__content {max-height: 0;max-width: 0;overflow: hidden;text-align: left;background-color: #f0f8ff;}#sk-container-id-5 div.sk-toggleable__content pre {margin: 0.2em;color: black;border-radius: 0.25em;background-color: #f0f8ff;}#sk-container-id-5 input.sk-toggleable__control:checked~div.sk-toggleable__content {max-height: 200px;max-width: 100%;overflow: auto;}#sk-container-id-5 input.sk-toggleable__control:checked~label.sk-toggleable__label-arrow:before {content: \"▾\";}#sk-container-id-5 div.sk-estimator input.sk-toggleable__control:checked~label.sk-toggleable__label {background-color: #d4ebff;}#sk-container-id-5 div.sk-label input.sk-toggleable__control:checked~label.sk-toggleable__label {background-color: #d4ebff;}#sk-container-id-5 input.sk-hidden--visually {border: 0;clip: rect(1px 1px 1px 1px);clip: rect(1px, 1px, 1px, 1px);height: 1px;margin: -1px;overflow: hidden;padding: 0;position: absolute;width: 1px;}#sk-container-id-5 div.sk-estimator {font-family: monospace;background-color: #f0f8ff;border: 1px dotted black;border-radius: 0.25em;box-sizing: border-box;margin-bottom: 0.5em;}#sk-container-id-5 div.sk-estimator:hover {background-color: #d4ebff;}#sk-container-id-5 div.sk-parallel-item::after {content: \"\";width: 100%;border-bottom: 1px solid gray;flex-grow: 1;}#sk-container-id-5 div.sk-label:hover label.sk-toggleable__label {background-color: #d4ebff;}#sk-container-id-5 div.sk-serial::before {content: \"\";position: absolute;border-left: 1px solid gray;box-sizing: border-box;top: 0;bottom: 0;left: 50%;z-index: 0;}#sk-container-id-5 div.sk-serial {display: flex;flex-direction: column;align-items: center;background-color: white;padding-right: 0.2em;padding-left: 0.2em;position: relative;}#sk-container-id-5 div.sk-item {position: relative;z-index: 1;}#sk-container-id-5 div.sk-parallel {display: flex;align-items: stretch;justify-content: center;background-color: white;position: relative;}#sk-container-id-5 div.sk-item::before, #sk-container-id-5 div.sk-parallel-item::before {content: \"\";position: absolute;border-left: 1px solid gray;box-sizing: border-box;top: 0;bottom: 0;left: 50%;z-index: -1;}#sk-container-id-5 div.sk-parallel-item {display: flex;flex-direction: column;z-index: 1;position: relative;background-color: white;}#sk-container-id-5 div.sk-parallel-item:first-child::after {align-self: flex-end;width: 50%;}#sk-container-id-5 div.sk-parallel-item:last-child::after {align-self: flex-start;width: 50%;}#sk-container-id-5 div.sk-parallel-item:only-child::after {width: 0;}#sk-container-id-5 div.sk-dashed-wrapped {border: 1px dashed gray;margin: 0 0.4em 0.5em 0.4em;box-sizing: border-box;padding-bottom: 0.4em;background-color: white;}#sk-container-id-5 div.sk-label label {font-family: monospace;font-weight: bold;display: inline-block;line-height: 1.2em;}#sk-container-id-5 div.sk-label-container {text-align: center;}#sk-container-id-5 div.sk-container {/* jupyter's `normalize.less` sets `[hidden] { display: none; }` but bootstrap.min.css set `[hidden] { display: none !important; }` so we also need the `!important` here to be able to override the default hidden behavior on the sphinx rendered scikit-learn.org. See: https://github.com/scikit-learn/scikit-learn/issues/21755 */display: inline-block !important;position: relative;}#sk-container-id-5 div.sk-text-repr-fallback {display: none;}</style><div id=\"sk-container-id-5\" class=\"sk-top-container\"><div class=\"sk-text-repr-fallback\"><pre>RandomForestRegressor()</pre><b>In a Jupyter environment, please rerun this cell to show the HTML representation or trust the notebook. <br />On GitHub, the HTML representation is unable to render, please try loading this page with nbviewer.org.</b></div><div class=\"sk-container\" hidden><div class=\"sk-item\"><div class=\"sk-estimator sk-toggleable\"><input class=\"sk-toggleable__control sk-hidden--visually\" id=\"sk-estimator-id-5\" type=\"checkbox\" checked><label for=\"sk-estimator-id-5\" class=\"sk-toggleable__label sk-toggleable__label-arrow\">RandomForestRegressor</label><div class=\"sk-toggleable__content\"><pre>RandomForestRegressor()</pre></div></div></div></div></div>"
            ]
          },
          "metadata": {},
          "execution_count": 94
        }
      ]
    },
    {
      "cell_type": "code",
      "source": [
        "y_pred = rf.predict(X_test)"
      ],
      "metadata": {
        "id": "-5hYIgmYc2Ll"
      },
      "execution_count": 120,
      "outputs": []
    },
    {
      "cell_type": "code",
      "source": [
        "rf_mse = mean_squared_error(y_test, y_pred)\n",
        "rf_mae = mean_absolute_error(y_test, y_pred)\n",
        "rf_rmse = np.sqrt(rf_mse)\n",
        "rf_r2 = r2_score(y_test, y_pred)\n",
        "\n",
        "\n",
        "print(f'Mean Squared Error on Test Set: {rf_mse:.4f}')\n",
        "print(f'Mean Absolute Error on Test Set: {rf_mae:.4f}')\n",
        "print(f'Root Mean Squared Error on Test Set: {rf_rmse:.4f}')\n",
        "print(f\"R2 Score on Test Set :  {rf_r2:.4f}\")"
      ],
      "metadata": {
        "colab": {
          "base_uri": "https://localhost:8080/"
        },
        "id": "NlUGOxkvc8he",
        "outputId": "3a9929c1-732d-4148-c19e-0b89bd7df3ec"
      },
      "execution_count": 121,
      "outputs": [
        {
          "output_type": "stream",
          "name": "stdout",
          "text": [
            "Mean Squared Error on Test Set: 2.2395\n",
            "Mean Absolute Error on Test Set: 0.8809\n",
            "Root Mean Squared Error on Test Set: 1.4965\n",
            "R2 Score on Test Set :  0.9998\n"
          ]
        }
      ]
    },
    {
      "cell_type": "code",
      "source": [
        "results.append(\n",
        "    {\n",
        "        'Model': 'RandomForestRegressor',\n",
        "        'MSE': rf_mse,\n",
        "        'MAE': rf_mae,\n",
        "        'RMSE': rf_rmse,\n",
        "        'R2': rf_r2\n",
        "    }\n",
        ")"
      ],
      "metadata": {
        "id": "yKIMRkyahXAM"
      },
      "execution_count": 122,
      "outputs": []
    },
    {
      "cell_type": "markdown",
      "source": [
        "### Model Performance Metrics"
      ],
      "metadata": {
        "id": "33pnMgbJhpPx"
      }
    },
    {
      "cell_type": "code",
      "source": [
        "results"
      ],
      "metadata": {
        "colab": {
          "base_uri": "https://localhost:8080/"
        },
        "id": "2o13v3Ezhyw8",
        "outputId": "b549760c-fca1-466a-fa89-f56a721bb4ba"
      },
      "execution_count": 123,
      "outputs": [
        {
          "output_type": "execute_result",
          "data": {
            "text/plain": [
              "[{'Model': 'DNN',\n",
              "  'MSE': 70574.24331227689,\n",
              "  'MAE': 242.395748503937,\n",
              "  'RMSE': 265.6581324038037,\n",
              "  'R2': -4.971483526844024},\n",
              " {'Model': 'LinearRegression',\n",
              "  'MSE': 0.011925979060590942,\n",
              "  'MAE': 0.07657978387433403,\n",
              "  'RMSE': 0.10920613105769722,\n",
              "  'R2': 0.9999989909096554},\n",
              " {'Model': 'RandomForestRegressor',\n",
              "  'MSE': 2.2394693794043192,\n",
              "  'MAE': 0.8808980479527937,\n",
              "  'RMSE': 1.4964856763111096,\n",
              "  'R2': 0.999810512250924}]"
            ]
          },
          "metadata": {},
          "execution_count": 123
        }
      ]
    },
    {
      "cell_type": "code",
      "source": [
        "results_df = pd.DataFrame(results)"
      ],
      "metadata": {
        "id": "JEV_lpj-h2lT"
      },
      "execution_count": 124,
      "outputs": []
    },
    {
      "cell_type": "code",
      "source": [
        "results_df"
      ],
      "metadata": {
        "colab": {
          "base_uri": "https://localhost:8080/",
          "height": 143
        },
        "id": "E2JrROE5h9I4",
        "outputId": "71f5e234-6662-4f2e-8456-1ad1a46e64bc"
      },
      "execution_count": 125,
      "outputs": [
        {
          "output_type": "execute_result",
          "data": {
            "text/plain": [
              "                   Model           MSE         MAE        RMSE        R2\n",
              "0                    DNN  70574.243312  242.395749  265.658132 -4.971484\n",
              "1       LinearRegression      0.011926    0.076580    0.109206  0.999999\n",
              "2  RandomForestRegressor      2.239469    0.880898    1.496486  0.999811"
            ],
            "text/html": [
              "\n",
              "  <div id=\"df-71d95bf0-bad7-47e6-9e42-6c91290194f8\" class=\"colab-df-container\">\n",
              "    <div>\n",
              "<style scoped>\n",
              "    .dataframe tbody tr th:only-of-type {\n",
              "        vertical-align: middle;\n",
              "    }\n",
              "\n",
              "    .dataframe tbody tr th {\n",
              "        vertical-align: top;\n",
              "    }\n",
              "\n",
              "    .dataframe thead th {\n",
              "        text-align: right;\n",
              "    }\n",
              "</style>\n",
              "<table border=\"1\" class=\"dataframe\">\n",
              "  <thead>\n",
              "    <tr style=\"text-align: right;\">\n",
              "      <th></th>\n",
              "      <th>Model</th>\n",
              "      <th>MSE</th>\n",
              "      <th>MAE</th>\n",
              "      <th>RMSE</th>\n",
              "      <th>R2</th>\n",
              "    </tr>\n",
              "  </thead>\n",
              "  <tbody>\n",
              "    <tr>\n",
              "      <th>0</th>\n",
              "      <td>DNN</td>\n",
              "      <td>70574.243312</td>\n",
              "      <td>242.395749</td>\n",
              "      <td>265.658132</td>\n",
              "      <td>-4.971484</td>\n",
              "    </tr>\n",
              "    <tr>\n",
              "      <th>1</th>\n",
              "      <td>LinearRegression</td>\n",
              "      <td>0.011926</td>\n",
              "      <td>0.076580</td>\n",
              "      <td>0.109206</td>\n",
              "      <td>0.999999</td>\n",
              "    </tr>\n",
              "    <tr>\n",
              "      <th>2</th>\n",
              "      <td>RandomForestRegressor</td>\n",
              "      <td>2.239469</td>\n",
              "      <td>0.880898</td>\n",
              "      <td>1.496486</td>\n",
              "      <td>0.999811</td>\n",
              "    </tr>\n",
              "  </tbody>\n",
              "</table>\n",
              "</div>\n",
              "    <div class=\"colab-df-buttons\">\n",
              "\n",
              "  <div class=\"colab-df-container\">\n",
              "    <button class=\"colab-df-convert\" onclick=\"convertToInteractive('df-71d95bf0-bad7-47e6-9e42-6c91290194f8')\"\n",
              "            title=\"Convert this dataframe to an interactive table.\"\n",
              "            style=\"display:none;\">\n",
              "\n",
              "  <svg xmlns=\"http://www.w3.org/2000/svg\" height=\"24px\" viewBox=\"0 -960 960 960\">\n",
              "    <path d=\"M120-120v-720h720v720H120Zm60-500h600v-160H180v160Zm220 220h160v-160H400v160Zm0 220h160v-160H400v160ZM180-400h160v-160H180v160Zm440 0h160v-160H620v160ZM180-180h160v-160H180v160Zm440 0h160v-160H620v160Z\"/>\n",
              "  </svg>\n",
              "    </button>\n",
              "\n",
              "  <style>\n",
              "    .colab-df-container {\n",
              "      display:flex;\n",
              "      gap: 12px;\n",
              "    }\n",
              "\n",
              "    .colab-df-convert {\n",
              "      background-color: #E8F0FE;\n",
              "      border: none;\n",
              "      border-radius: 50%;\n",
              "      cursor: pointer;\n",
              "      display: none;\n",
              "      fill: #1967D2;\n",
              "      height: 32px;\n",
              "      padding: 0 0 0 0;\n",
              "      width: 32px;\n",
              "    }\n",
              "\n",
              "    .colab-df-convert:hover {\n",
              "      background-color: #E2EBFA;\n",
              "      box-shadow: 0px 1px 2px rgba(60, 64, 67, 0.3), 0px 1px 3px 1px rgba(60, 64, 67, 0.15);\n",
              "      fill: #174EA6;\n",
              "    }\n",
              "\n",
              "    .colab-df-buttons div {\n",
              "      margin-bottom: 4px;\n",
              "    }\n",
              "\n",
              "    [theme=dark] .colab-df-convert {\n",
              "      background-color: #3B4455;\n",
              "      fill: #D2E3FC;\n",
              "    }\n",
              "\n",
              "    [theme=dark] .colab-df-convert:hover {\n",
              "      background-color: #434B5C;\n",
              "      box-shadow: 0px 1px 3px 1px rgba(0, 0, 0, 0.15);\n",
              "      filter: drop-shadow(0px 1px 2px rgba(0, 0, 0, 0.3));\n",
              "      fill: #FFFFFF;\n",
              "    }\n",
              "  </style>\n",
              "\n",
              "    <script>\n",
              "      const buttonEl =\n",
              "        document.querySelector('#df-71d95bf0-bad7-47e6-9e42-6c91290194f8 button.colab-df-convert');\n",
              "      buttonEl.style.display =\n",
              "        google.colab.kernel.accessAllowed ? 'block' : 'none';\n",
              "\n",
              "      async function convertToInteractive(key) {\n",
              "        const element = document.querySelector('#df-71d95bf0-bad7-47e6-9e42-6c91290194f8');\n",
              "        const dataTable =\n",
              "          await google.colab.kernel.invokeFunction('convertToInteractive',\n",
              "                                                    [key], {});\n",
              "        if (!dataTable) return;\n",
              "\n",
              "        const docLinkHtml = 'Like what you see? Visit the ' +\n",
              "          '<a target=\"_blank\" href=https://colab.research.google.com/notebooks/data_table.ipynb>data table notebook</a>'\n",
              "          + ' to learn more about interactive tables.';\n",
              "        element.innerHTML = '';\n",
              "        dataTable['output_type'] = 'display_data';\n",
              "        await google.colab.output.renderOutput(dataTable, element);\n",
              "        const docLink = document.createElement('div');\n",
              "        docLink.innerHTML = docLinkHtml;\n",
              "        element.appendChild(docLink);\n",
              "      }\n",
              "    </script>\n",
              "  </div>\n",
              "\n",
              "\n",
              "<div id=\"df-49822ac2-0f45-48f6-b5f2-9bfd0e983c13\">\n",
              "  <button class=\"colab-df-quickchart\" onclick=\"quickchart('df-49822ac2-0f45-48f6-b5f2-9bfd0e983c13')\"\n",
              "            title=\"Suggest charts\"\n",
              "            style=\"display:none;\">\n",
              "\n",
              "<svg xmlns=\"http://www.w3.org/2000/svg\" height=\"24px\"viewBox=\"0 0 24 24\"\n",
              "     width=\"24px\">\n",
              "    <g>\n",
              "        <path d=\"M19 3H5c-1.1 0-2 .9-2 2v14c0 1.1.9 2 2 2h14c1.1 0 2-.9 2-2V5c0-1.1-.9-2-2-2zM9 17H7v-7h2v7zm4 0h-2V7h2v10zm4 0h-2v-4h2v4z\"/>\n",
              "    </g>\n",
              "</svg>\n",
              "  </button>\n",
              "\n",
              "<style>\n",
              "  .colab-df-quickchart {\n",
              "      --bg-color: #E8F0FE;\n",
              "      --fill-color: #1967D2;\n",
              "      --hover-bg-color: #E2EBFA;\n",
              "      --hover-fill-color: #174EA6;\n",
              "      --disabled-fill-color: #AAA;\n",
              "      --disabled-bg-color: #DDD;\n",
              "  }\n",
              "\n",
              "  [theme=dark] .colab-df-quickchart {\n",
              "      --bg-color: #3B4455;\n",
              "      --fill-color: #D2E3FC;\n",
              "      --hover-bg-color: #434B5C;\n",
              "      --hover-fill-color: #FFFFFF;\n",
              "      --disabled-bg-color: #3B4455;\n",
              "      --disabled-fill-color: #666;\n",
              "  }\n",
              "\n",
              "  .colab-df-quickchart {\n",
              "    background-color: var(--bg-color);\n",
              "    border: none;\n",
              "    border-radius: 50%;\n",
              "    cursor: pointer;\n",
              "    display: none;\n",
              "    fill: var(--fill-color);\n",
              "    height: 32px;\n",
              "    padding: 0;\n",
              "    width: 32px;\n",
              "  }\n",
              "\n",
              "  .colab-df-quickchart:hover {\n",
              "    background-color: var(--hover-bg-color);\n",
              "    box-shadow: 0 1px 2px rgba(60, 64, 67, 0.3), 0 1px 3px 1px rgba(60, 64, 67, 0.15);\n",
              "    fill: var(--button-hover-fill-color);\n",
              "  }\n",
              "\n",
              "  .colab-df-quickchart-complete:disabled,\n",
              "  .colab-df-quickchart-complete:disabled:hover {\n",
              "    background-color: var(--disabled-bg-color);\n",
              "    fill: var(--disabled-fill-color);\n",
              "    box-shadow: none;\n",
              "  }\n",
              "\n",
              "  .colab-df-spinner {\n",
              "    border: 2px solid var(--fill-color);\n",
              "    border-color: transparent;\n",
              "    border-bottom-color: var(--fill-color);\n",
              "    animation:\n",
              "      spin 1s steps(1) infinite;\n",
              "  }\n",
              "\n",
              "  @keyframes spin {\n",
              "    0% {\n",
              "      border-color: transparent;\n",
              "      border-bottom-color: var(--fill-color);\n",
              "      border-left-color: var(--fill-color);\n",
              "    }\n",
              "    20% {\n",
              "      border-color: transparent;\n",
              "      border-left-color: var(--fill-color);\n",
              "      border-top-color: var(--fill-color);\n",
              "    }\n",
              "    30% {\n",
              "      border-color: transparent;\n",
              "      border-left-color: var(--fill-color);\n",
              "      border-top-color: var(--fill-color);\n",
              "      border-right-color: var(--fill-color);\n",
              "    }\n",
              "    40% {\n",
              "      border-color: transparent;\n",
              "      border-right-color: var(--fill-color);\n",
              "      border-top-color: var(--fill-color);\n",
              "    }\n",
              "    60% {\n",
              "      border-color: transparent;\n",
              "      border-right-color: var(--fill-color);\n",
              "    }\n",
              "    80% {\n",
              "      border-color: transparent;\n",
              "      border-right-color: var(--fill-color);\n",
              "      border-bottom-color: var(--fill-color);\n",
              "    }\n",
              "    90% {\n",
              "      border-color: transparent;\n",
              "      border-bottom-color: var(--fill-color);\n",
              "    }\n",
              "  }\n",
              "</style>\n",
              "\n",
              "  <script>\n",
              "    async function quickchart(key) {\n",
              "      const quickchartButtonEl =\n",
              "        document.querySelector('#' + key + ' button');\n",
              "      quickchartButtonEl.disabled = true;  // To prevent multiple clicks.\n",
              "      quickchartButtonEl.classList.add('colab-df-spinner');\n",
              "      try {\n",
              "        const charts = await google.colab.kernel.invokeFunction(\n",
              "            'suggestCharts', [key], {});\n",
              "      } catch (error) {\n",
              "        console.error('Error during call to suggestCharts:', error);\n",
              "      }\n",
              "      quickchartButtonEl.classList.remove('colab-df-spinner');\n",
              "      quickchartButtonEl.classList.add('colab-df-quickchart-complete');\n",
              "    }\n",
              "    (() => {\n",
              "      let quickchartButtonEl =\n",
              "        document.querySelector('#df-49822ac2-0f45-48f6-b5f2-9bfd0e983c13 button');\n",
              "      quickchartButtonEl.style.display =\n",
              "        google.colab.kernel.accessAllowed ? 'block' : 'none';\n",
              "    })();\n",
              "  </script>\n",
              "</div>\n",
              "\n",
              "  <div id=\"id_f461b8d2-1746-479a-988d-fddeaeb59187\">\n",
              "    <style>\n",
              "      .colab-df-generate {\n",
              "        background-color: #E8F0FE;\n",
              "        border: none;\n",
              "        border-radius: 50%;\n",
              "        cursor: pointer;\n",
              "        display: none;\n",
              "        fill: #1967D2;\n",
              "        height: 32px;\n",
              "        padding: 0 0 0 0;\n",
              "        width: 32px;\n",
              "      }\n",
              "\n",
              "      .colab-df-generate:hover {\n",
              "        background-color: #E2EBFA;\n",
              "        box-shadow: 0px 1px 2px rgba(60, 64, 67, 0.3), 0px 1px 3px 1px rgba(60, 64, 67, 0.15);\n",
              "        fill: #174EA6;\n",
              "      }\n",
              "\n",
              "      [theme=dark] .colab-df-generate {\n",
              "        background-color: #3B4455;\n",
              "        fill: #D2E3FC;\n",
              "      }\n",
              "\n",
              "      [theme=dark] .colab-df-generate:hover {\n",
              "        background-color: #434B5C;\n",
              "        box-shadow: 0px 1px 3px 1px rgba(0, 0, 0, 0.15);\n",
              "        filter: drop-shadow(0px 1px 2px rgba(0, 0, 0, 0.3));\n",
              "        fill: #FFFFFF;\n",
              "      }\n",
              "    </style>\n",
              "    <button class=\"colab-df-generate\" onclick=\"generateWithVariable('results_df')\"\n",
              "            title=\"Generate code using this dataframe.\"\n",
              "            style=\"display:none;\">\n",
              "\n",
              "  <svg xmlns=\"http://www.w3.org/2000/svg\" height=\"24px\"viewBox=\"0 0 24 24\"\n",
              "       width=\"24px\">\n",
              "    <path d=\"M7,19H8.4L18.45,9,17,7.55,7,17.6ZM5,21V16.75L18.45,3.32a2,2,0,0,1,2.83,0l1.4,1.43a1.91,1.91,0,0,1,.58,1.4,1.91,1.91,0,0,1-.58,1.4L9.25,21ZM18.45,9,17,7.55Zm-12,3A5.31,5.31,0,0,0,4.9,8.1,5.31,5.31,0,0,0,1,6.5,5.31,5.31,0,0,0,4.9,4.9,5.31,5.31,0,0,0,6.5,1,5.31,5.31,0,0,0,8.1,4.9,5.31,5.31,0,0,0,12,6.5,5.46,5.46,0,0,0,6.5,12Z\"/>\n",
              "  </svg>\n",
              "    </button>\n",
              "    <script>\n",
              "      (() => {\n",
              "      const buttonEl =\n",
              "        document.querySelector('#id_f461b8d2-1746-479a-988d-fddeaeb59187 button.colab-df-generate');\n",
              "      buttonEl.style.display =\n",
              "        google.colab.kernel.accessAllowed ? 'block' : 'none';\n",
              "\n",
              "      buttonEl.onclick = () => {\n",
              "        google.colab.notebook.generateWithVariable('results_df');\n",
              "      }\n",
              "      })();\n",
              "    </script>\n",
              "  </div>\n",
              "\n",
              "    </div>\n",
              "  </div>\n"
            ],
            "application/vnd.google.colaboratory.intrinsic+json": {
              "type": "dataframe",
              "variable_name": "results_df",
              "summary": "{\n  \"name\": \"results_df\",\n  \"rows\": 3,\n  \"fields\": [\n    {\n      \"column\": \"Model\",\n      \"properties\": {\n        \"dtype\": \"string\",\n        \"num_unique_values\": 3,\n        \"samples\": [\n          \"DNN\",\n          \"LinearRegression\",\n          \"RandomForestRegressor\"\n        ],\n        \"semantic_type\": \"\",\n        \"description\": \"\"\n      }\n    },\n    {\n      \"column\": \"MSE\",\n      \"properties\": {\n        \"dtype\": \"number\",\n        \"std\": 40745.408467561494,\n        \"min\": 0.011925979060590942,\n        \"max\": 70574.24331227689,\n        \"num_unique_values\": 3,\n        \"samples\": [\n          70574.24331227689,\n          0.011925979060590942,\n          2.2394693794043192\n        ],\n        \"semantic_type\": \"\",\n        \"description\": \"\"\n      }\n    },\n    {\n      \"column\": \"MAE\",\n      \"properties\": {\n        \"dtype\": \"number\",\n        \"std\": 139.67142958137416,\n        \"min\": 0.07657978387433403,\n        \"max\": 242.395748503937,\n        \"num_unique_values\": 3,\n        \"samples\": [\n          242.395748503937,\n          0.07657978387433403,\n          0.8808980479527937\n        ],\n        \"semantic_type\": \"\",\n        \"description\": \"\"\n      }\n    },\n    {\n      \"column\": \"RMSE\",\n      \"properties\": {\n        \"dtype\": \"number\",\n        \"std\": 152.91584417086278,\n        \"min\": 0.10920613105769722,\n        \"max\": 265.6581324038037,\n        \"num_unique_values\": 3,\n        \"samples\": [\n          265.6581324038037,\n          0.10920613105769722,\n          1.4964856763111096\n        ],\n        \"semantic_type\": \"\",\n        \"description\": \"\"\n      }\n    },\n    {\n      \"column\": \"R2\",\n      \"properties\": {\n        \"dtype\": \"number\",\n        \"std\": 3.4475826312720645,\n        \"min\": -4.971483526844024,\n        \"max\": 0.9999989909096554,\n        \"num_unique_values\": 3,\n        \"samples\": [\n          -4.971483526844024,\n          0.9999989909096554,\n          0.999810512250924\n        ],\n        \"semantic_type\": \"\",\n        \"description\": \"\"\n      }\n    }\n  ]\n}"
            }
          },
          "metadata": {},
          "execution_count": 125
        }
      ]
    },
    {
      "cell_type": "markdown",
      "source": [
        "\n",
        "\n",
        ">\n",
        "\n"
      ],
      "metadata": {
        "id": "4IDLVs3Yb8lE"
      }
    },
    {
      "cell_type": "markdown",
      "source": [
        "### Summary"
      ],
      "metadata": {
        "id": "nRRwHTqiis93"
      }
    },
    {
      "cell_type": "markdown",
      "source": [
        "1. Deep Neural Network (DNN)\n",
        "- Mean Squared Error (MSE): 70574.243\n",
        "- Mean Absolute Error (MAE): 242.396\n",
        "- Root Mean Squared Error (RMSE): 265.658\n",
        "- R-squared (R²): -4.971\n",
        "\n",
        "The DNN model performed poorly compared to the other models, with a high MSE, MAE, and RMSE. The negative R² value indicates that the model is not a good fit for the data, performing worse than a horizontal line through the mean of the target variable.\n",
        "\n",
        "2. Linear Regression\n",
        "- Mean Squared Error (MSE): 0.0119\n",
        "- Mean Absolute Error (MAE): 0.0766\n",
        "- Root Mean Squared Error (RMSE): 0.1092\n",
        "- R-squared (R²): 0.999999\n",
        "\n",
        "The Linear Regression model achieved excellent performance metrics. The MSE, MAE, and RMSE values are very low, and the R² value is almost 1, indicating that the model explains nearly all the variability of the target variable.\n",
        "\n",
        "3. Random Forest Regressor\n",
        "- Mean Squared Error (MSE): 2.2395\n",
        "- Mean Absolute Error (MAE): 0.8809\n",
        "- Root Mean Squared Error (RMSE): 1.4965\n",
        "- R-squared (R²): 0.999811\n",
        "\n",
        "The Random Forest Regressor also performed well, with low MSE, MAE, and RMSE values. The R² value is very close to 1, suggesting that the model captures most of the variability in the data, though not as perfectly as the Linear Regression model."
      ],
      "metadata": {
        "id": "EKToh_ncjT8d"
      }
    },
    {
      "cell_type": "markdown",
      "source": [
        "### Conclusion\n",
        "\n",
        "Among the models evaluated, the Linear Regression model achieved the best performance metrics, indicating its strong predictive power and suitability for the given dataset. The Random Forest Regressor also performed well, while the DNN model did not perform adequately in this context.By the further tuning of the DNN model or a different architecture we might improve its performance."
      ],
      "metadata": {
        "id": "_WhP7Y_kjlEO"
      }
    }
  ]
}